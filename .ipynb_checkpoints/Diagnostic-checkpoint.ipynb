{
 "cells": [
  {
   "cell_type": "markdown",
   "metadata": {},
   "source": [
    "# База данных электрокардиограмм  для исследования аритмии"
   ]
  },
  {
   "cell_type": "code",
   "execution_count": 148,
   "metadata": {},
   "outputs": [],
   "source": [
    "import sklearn\n",
    "import pandas as pd\n",
    "pd.options.mode.chained_assignment = None \n",
    "import numpy as np \n",
    "import matplotlib.pyplot as plt \n",
    "import seaborn as sns "
   ]
  },
  {
   "cell_type": "code",
   "execution_count": 149,
   "metadata": {},
   "outputs": [
    {
     "data": {
      "text/html": [
       "<div>\n",
       "<style scoped>\n",
       "    .dataframe tbody tr th:only-of-type {\n",
       "        vertical-align: middle;\n",
       "    }\n",
       "\n",
       "    .dataframe tbody tr th {\n",
       "        vertical-align: top;\n",
       "    }\n",
       "\n",
       "    .dataframe thead th {\n",
       "        text-align: right;\n",
       "    }\n",
       "</style>\n",
       "<table border=\"1\" class=\"dataframe\">\n",
       "  <thead>\n",
       "    <tr style=\"text-align: right;\">\n",
       "      <th></th>\n",
       "      <th>Rhythm</th>\n",
       "      <th>Beat</th>\n",
       "      <th>PatientAge</th>\n",
       "      <th>Gender</th>\n",
       "      <th>VentricularRate</th>\n",
       "      <th>AtrialRate</th>\n",
       "      <th>QRSDuration</th>\n",
       "      <th>QTInterval</th>\n",
       "      <th>QTCorrected</th>\n",
       "      <th>RAxis</th>\n",
       "      <th>TAxis</th>\n",
       "      <th>QRSCount</th>\n",
       "      <th>QOnset</th>\n",
       "      <th>QOffset</th>\n",
       "      <th>TOffset</th>\n",
       "    </tr>\n",
       "    <tr>\n",
       "      <th>FileName</th>\n",
       "      <th></th>\n",
       "      <th></th>\n",
       "      <th></th>\n",
       "      <th></th>\n",
       "      <th></th>\n",
       "      <th></th>\n",
       "      <th></th>\n",
       "      <th></th>\n",
       "      <th></th>\n",
       "      <th></th>\n",
       "      <th></th>\n",
       "      <th></th>\n",
       "      <th></th>\n",
       "      <th></th>\n",
       "      <th></th>\n",
       "    </tr>\n",
       "  </thead>\n",
       "  <tbody>\n",
       "    <tr>\n",
       "      <th>MUSE_20180113_171327_27000</th>\n",
       "      <td>AFIB</td>\n",
       "      <td>RBBB TWC</td>\n",
       "      <td>85</td>\n",
       "      <td>MALE</td>\n",
       "      <td>117</td>\n",
       "      <td>234</td>\n",
       "      <td>114</td>\n",
       "      <td>356</td>\n",
       "      <td>496</td>\n",
       "      <td>81</td>\n",
       "      <td>-27</td>\n",
       "      <td>19</td>\n",
       "      <td>208</td>\n",
       "      <td>265</td>\n",
       "      <td>386</td>\n",
       "    </tr>\n",
       "    <tr>\n",
       "      <th>MUSE_20180112_073319_29000</th>\n",
       "      <td>SB</td>\n",
       "      <td>TWC</td>\n",
       "      <td>59</td>\n",
       "      <td>FEMALE</td>\n",
       "      <td>52</td>\n",
       "      <td>52</td>\n",
       "      <td>92</td>\n",
       "      <td>432</td>\n",
       "      <td>401</td>\n",
       "      <td>76</td>\n",
       "      <td>42</td>\n",
       "      <td>8</td>\n",
       "      <td>215</td>\n",
       "      <td>261</td>\n",
       "      <td>431</td>\n",
       "    </tr>\n",
       "    <tr>\n",
       "      <th>MUSE_20180111_165520_97000</th>\n",
       "      <td>SA</td>\n",
       "      <td>NONE</td>\n",
       "      <td>20</td>\n",
       "      <td>FEMALE</td>\n",
       "      <td>67</td>\n",
       "      <td>67</td>\n",
       "      <td>82</td>\n",
       "      <td>382</td>\n",
       "      <td>403</td>\n",
       "      <td>88</td>\n",
       "      <td>20</td>\n",
       "      <td>11</td>\n",
       "      <td>224</td>\n",
       "      <td>265</td>\n",
       "      <td>415</td>\n",
       "    </tr>\n",
       "    <tr>\n",
       "      <th>MUSE_20180113_121940_44000</th>\n",
       "      <td>SB</td>\n",
       "      <td>NONE</td>\n",
       "      <td>66</td>\n",
       "      <td>MALE</td>\n",
       "      <td>53</td>\n",
       "      <td>53</td>\n",
       "      <td>96</td>\n",
       "      <td>456</td>\n",
       "      <td>427</td>\n",
       "      <td>34</td>\n",
       "      <td>3</td>\n",
       "      <td>9</td>\n",
       "      <td>219</td>\n",
       "      <td>267</td>\n",
       "      <td>447</td>\n",
       "    </tr>\n",
       "    <tr>\n",
       "      <th>MUSE_20180112_122850_57000</th>\n",
       "      <td>AF</td>\n",
       "      <td>STDD STTC</td>\n",
       "      <td>73</td>\n",
       "      <td>FEMALE</td>\n",
       "      <td>162</td>\n",
       "      <td>162</td>\n",
       "      <td>114</td>\n",
       "      <td>252</td>\n",
       "      <td>413</td>\n",
       "      <td>68</td>\n",
       "      <td>-40</td>\n",
       "      <td>26</td>\n",
       "      <td>228</td>\n",
       "      <td>285</td>\n",
       "      <td>354</td>\n",
       "    </tr>\n",
       "    <tr>\n",
       "      <th>...</th>\n",
       "      <td>...</td>\n",
       "      <td>...</td>\n",
       "      <td>...</td>\n",
       "      <td>...</td>\n",
       "      <td>...</td>\n",
       "      <td>...</td>\n",
       "      <td>...</td>\n",
       "      <td>...</td>\n",
       "      <td>...</td>\n",
       "      <td>...</td>\n",
       "      <td>...</td>\n",
       "      <td>...</td>\n",
       "      <td>...</td>\n",
       "      <td>...</td>\n",
       "      <td>...</td>\n",
       "    </tr>\n",
       "    <tr>\n",
       "      <th>MUSE_20181222_204306_99000</th>\n",
       "      <td>SVT</td>\n",
       "      <td>NONE</td>\n",
       "      <td>80</td>\n",
       "      <td>FEMALE</td>\n",
       "      <td>196</td>\n",
       "      <td>73</td>\n",
       "      <td>168</td>\n",
       "      <td>284</td>\n",
       "      <td>513</td>\n",
       "      <td>258</td>\n",
       "      <td>244</td>\n",
       "      <td>32</td>\n",
       "      <td>177</td>\n",
       "      <td>261</td>\n",
       "      <td>319</td>\n",
       "    </tr>\n",
       "    <tr>\n",
       "      <th>MUSE_20181222_204309_22000</th>\n",
       "      <td>SVT</td>\n",
       "      <td>NONE</td>\n",
       "      <td>81</td>\n",
       "      <td>FEMALE</td>\n",
       "      <td>162</td>\n",
       "      <td>81</td>\n",
       "      <td>162</td>\n",
       "      <td>294</td>\n",
       "      <td>482</td>\n",
       "      <td>110</td>\n",
       "      <td>-75</td>\n",
       "      <td>27</td>\n",
       "      <td>173</td>\n",
       "      <td>254</td>\n",
       "      <td>320</td>\n",
       "    </tr>\n",
       "    <tr>\n",
       "      <th>MUSE_20181222_204310_31000</th>\n",
       "      <td>SVT</td>\n",
       "      <td>NONE</td>\n",
       "      <td>39</td>\n",
       "      <td>MALE</td>\n",
       "      <td>152</td>\n",
       "      <td>92</td>\n",
       "      <td>152</td>\n",
       "      <td>340</td>\n",
       "      <td>540</td>\n",
       "      <td>250</td>\n",
       "      <td>38</td>\n",
       "      <td>25</td>\n",
       "      <td>208</td>\n",
       "      <td>284</td>\n",
       "      <td>378</td>\n",
       "    </tr>\n",
       "    <tr>\n",
       "      <th>MUSE_20181222_204312_58000</th>\n",
       "      <td>SVT</td>\n",
       "      <td>NONE</td>\n",
       "      <td>76</td>\n",
       "      <td>MALE</td>\n",
       "      <td>175</td>\n",
       "      <td>178</td>\n",
       "      <td>128</td>\n",
       "      <td>310</td>\n",
       "      <td>529</td>\n",
       "      <td>98</td>\n",
       "      <td>-83</td>\n",
       "      <td>29</td>\n",
       "      <td>205</td>\n",
       "      <td>269</td>\n",
       "      <td>360</td>\n",
       "    </tr>\n",
       "    <tr>\n",
       "      <th>MUSE_20181222_204314_78000</th>\n",
       "      <td>SVT</td>\n",
       "      <td>NONE</td>\n",
       "      <td>75</td>\n",
       "      <td>MALE</td>\n",
       "      <td>117</td>\n",
       "      <td>104</td>\n",
       "      <td>140</td>\n",
       "      <td>312</td>\n",
       "      <td>435</td>\n",
       "      <td>263</td>\n",
       "      <td>144</td>\n",
       "      <td>19</td>\n",
       "      <td>208</td>\n",
       "      <td>278</td>\n",
       "      <td>364</td>\n",
       "    </tr>\n",
       "  </tbody>\n",
       "</table>\n",
       "<p>10646 rows × 15 columns</p>\n",
       "</div>"
      ],
      "text/plain": [
       "                           Rhythm       Beat  PatientAge  Gender  \\\n",
       "FileName                                                           \n",
       "MUSE_20180113_171327_27000   AFIB   RBBB TWC          85    MALE   \n",
       "MUSE_20180112_073319_29000     SB        TWC          59  FEMALE   \n",
       "MUSE_20180111_165520_97000     SA       NONE          20  FEMALE   \n",
       "MUSE_20180113_121940_44000     SB       NONE          66    MALE   \n",
       "MUSE_20180112_122850_57000     AF  STDD STTC          73  FEMALE   \n",
       "...                           ...        ...         ...     ...   \n",
       "MUSE_20181222_204306_99000    SVT       NONE          80  FEMALE   \n",
       "MUSE_20181222_204309_22000    SVT       NONE          81  FEMALE   \n",
       "MUSE_20181222_204310_31000    SVT       NONE          39    MALE   \n",
       "MUSE_20181222_204312_58000    SVT       NONE          76    MALE   \n",
       "MUSE_20181222_204314_78000    SVT       NONE          75    MALE   \n",
       "\n",
       "                            VentricularRate  AtrialRate  QRSDuration  \\\n",
       "FileName                                                               \n",
       "MUSE_20180113_171327_27000              117         234          114   \n",
       "MUSE_20180112_073319_29000               52          52           92   \n",
       "MUSE_20180111_165520_97000               67          67           82   \n",
       "MUSE_20180113_121940_44000               53          53           96   \n",
       "MUSE_20180112_122850_57000              162         162          114   \n",
       "...                                     ...         ...          ...   \n",
       "MUSE_20181222_204306_99000              196          73          168   \n",
       "MUSE_20181222_204309_22000              162          81          162   \n",
       "MUSE_20181222_204310_31000              152          92          152   \n",
       "MUSE_20181222_204312_58000              175         178          128   \n",
       "MUSE_20181222_204314_78000              117         104          140   \n",
       "\n",
       "                            QTInterval  QTCorrected  RAxis  TAxis  QRSCount  \\\n",
       "FileName                                                                      \n",
       "MUSE_20180113_171327_27000         356          496     81    -27        19   \n",
       "MUSE_20180112_073319_29000         432          401     76     42         8   \n",
       "MUSE_20180111_165520_97000         382          403     88     20        11   \n",
       "MUSE_20180113_121940_44000         456          427     34      3         9   \n",
       "MUSE_20180112_122850_57000         252          413     68    -40        26   \n",
       "...                                ...          ...    ...    ...       ...   \n",
       "MUSE_20181222_204306_99000         284          513    258    244        32   \n",
       "MUSE_20181222_204309_22000         294          482    110    -75        27   \n",
       "MUSE_20181222_204310_31000         340          540    250     38        25   \n",
       "MUSE_20181222_204312_58000         310          529     98    -83        29   \n",
       "MUSE_20181222_204314_78000         312          435    263    144        19   \n",
       "\n",
       "                            QOnset  QOffset  TOffset  \n",
       "FileName                                              \n",
       "MUSE_20180113_171327_27000     208      265      386  \n",
       "MUSE_20180112_073319_29000     215      261      431  \n",
       "MUSE_20180111_165520_97000     224      265      415  \n",
       "MUSE_20180113_121940_44000     219      267      447  \n",
       "MUSE_20180112_122850_57000     228      285      354  \n",
       "...                            ...      ...      ...  \n",
       "MUSE_20181222_204306_99000     177      261      319  \n",
       "MUSE_20181222_204309_22000     173      254      320  \n",
       "MUSE_20181222_204310_31000     208      284      378  \n",
       "MUSE_20181222_204312_58000     205      269      360  \n",
       "MUSE_20181222_204314_78000     208      278      364  \n",
       "\n",
       "[10646 rows x 15 columns]"
      ]
     },
     "execution_count": 149,
     "metadata": {},
     "output_type": "execute_result"
    }
   ],
   "source": [
    "data = pd.read_csv(\"Diagnostics.csv\",delimiter=';',index_col='FileName')\n",
    "data "
   ]
  },
  {
   "cell_type": "markdown",
   "metadata": {},
   "source": [
    "### Label selection"
   ]
  },
  {
   "cell_type": "markdown",
   "metadata": {},
   "source": [
    "Research labels:"
   ]
  },
  {
   "cell_type": "markdown",
   "metadata": {},
   "source": [
    "Присутствует дисбаланс классов"
   ]
  },
  {
   "cell_type": "code",
   "execution_count": 150,
   "metadata": {},
   "outputs": [
    {
     "data": {
      "text/plain": [
       "SB       3889\n",
       "SR       1826\n",
       "AFIB     1780\n",
       "ST       1568\n",
       "SVT       587\n",
       "AF        445\n",
       "SA        399\n",
       "AT        121\n",
       "AVNRT      16\n",
       "AVRT        8\n",
       "SAAWR       7\n",
       "Name: Rhythm, dtype: int64"
      ]
     },
     "execution_count": 150,
     "metadata": {},
     "output_type": "execute_result"
    }
   ],
   "source": [
    "data[\"Rhythm\"].value_counts()"
   ]
  },
  {
   "attachments": {
    "image.png": {
     "image/png": "[encoded data removed]"
    }
   },
   "cell_type": "markdown",
   "metadata": {},
   "source": [
    "![image.png](attachment:image.png)"
   ]
  },
  {
   "cell_type": "markdown",
   "metadata": {},
   "source": [
    "### Merge labels:"
   ]
  },
  {
   "cell_type": "code",
   "execution_count": 151,
   "metadata": {},
   "outputs": [],
   "source": [
    "for i in range(0,len(data[\"Rhythm\"])):\n",
    "    if data['Rhythm'][i]=='AFIB' or data['Rhythm'][i]=='AF':\n",
    "        data['Rhythm'][i]='AFIB'\n",
    "    if data['Rhythm'][i]=='SVT' or data['Rhythm'][i]=='AT' or data['Rhythm'][i]=='AVNRT' or data['Rhythm'][i]=='AVRT'  or data['Rhythm'][i]=='ST' or data['Rhythm'][i]=='SAAWR':\n",
    "        data['Rhythm'][i]='GSVT'\n",
    "    if data['Rhythm'][i]=='SR' or data['Rhythm'][i]=='SA':\n",
    "        data['Rhythm'][i]='SR'"
   ]
  },
  {
   "cell_type": "code",
   "execution_count": 152,
   "metadata": {},
   "outputs": [
    {
     "data": {
      "text/plain": [
       "SB      3889\n",
       "GSVT    2307\n",
       "AFIB    2225\n",
       "SR      2225\n",
       "Name: Rhythm, dtype: int64"
      ]
     },
     "execution_count": 152,
     "metadata": {},
     "output_type": "execute_result"
    }
   ],
   "source": [
    "data['Rhythm'].value_counts()"
   ]
  },
  {
   "cell_type": "markdown",
   "metadata": {},
   "source": [
    "Поскольку некоторые редкие ритмы имеют менее 10 образцов, как показано в таблице 2, по предложению кардиологов мы иерархически объединили несколько редких случаев с типами аритмии верхнего уровня.  \n",
    "Таким образом, 11 ритмов были объединены в 4 группы (SB, AFIB, GSVT, SR):\n",
    "\n",
    "**SB включала:**  \n",
    "1) синусовую брадикардию (sinus bradycardia)\n",
    "\n",
    "**AFIB состояла:**  \n",
    "1) фибрилляции предсердий (atrial fibrillation),  \n",
    "2) трепетания предсердий (and atrial flutter (AF))  \n",
    "  \n",
    "**GSVT содержала:**  \n",
    "1) Наджелудочковую тахикардию (supraventricular tachycardia),  \n",
    "2) Предсердную тахикардию( atrial tachycardia),  \n",
    "3) Атриовентрикулярную возвратная тахикардия в узле(atrioventricular node reentrant tachycardia),  \n",
    "4) Возвратная атриовентрикулярная тахикардия(atrioventricular reentrant tachycardia),  \n",
    "5) Синусовое предсердие с блуждающим ритмом предсердий(sinus atrium to atrial wandering rhythm),  \n",
    "  \n",
    "**SR включал:**  \n",
    "1) синусовый ритм (sinus rhythm)  \n",
    "2) нерегулярность синусового узла (sinus irregularity)"
   ]
  },
  {
   "cell_type": "markdown",
   "metadata": {},
   "source": [
    "Без этого предположения максимальная точность (accuracy_score) достигает лишь 80%"
   ]
  },
  {
   "cell_type": "markdown",
   "metadata": {},
   "source": [
    "## Correlated values"
   ]
  },
  {
   "cell_type": "markdown",
   "metadata": {},
   "source": [
    "Проверим коррелирующие признаки"
   ]
  },
  {
   "cell_type": "code",
   "execution_count": 153,
   "metadata": {},
   "outputs": [
    {
     "data": {
      "text/html": [
       "<div>\n",
       "<style scoped>\n",
       "    .dataframe tbody tr th:only-of-type {\n",
       "        vertical-align: middle;\n",
       "    }\n",
       "\n",
       "    .dataframe tbody tr th {\n",
       "        vertical-align: top;\n",
       "    }\n",
       "\n",
       "    .dataframe thead th {\n",
       "        text-align: right;\n",
       "    }\n",
       "</style>\n",
       "<table border=\"1\" class=\"dataframe\">\n",
       "  <thead>\n",
       "    <tr style=\"text-align: right;\">\n",
       "      <th></th>\n",
       "      <th>PatientAge</th>\n",
       "      <th>VentricularRate</th>\n",
       "      <th>AtrialRate</th>\n",
       "      <th>QRSDuration</th>\n",
       "      <th>QTInterval</th>\n",
       "      <th>QTCorrected</th>\n",
       "      <th>RAxis</th>\n",
       "      <th>TAxis</th>\n",
       "      <th>QRSCount</th>\n",
       "      <th>QOnset</th>\n",
       "      <th>QOffset</th>\n",
       "      <th>TOffset</th>\n",
       "    </tr>\n",
       "  </thead>\n",
       "  <tbody>\n",
       "    <tr>\n",
       "      <th>PatientAge</th>\n",
       "      <td>1.000000</td>\n",
       "      <td>0.032784</td>\n",
       "      <td>0.123134</td>\n",
       "      <td>0.095891</td>\n",
       "      <td>0.095131</td>\n",
       "      <td>0.240466</td>\n",
       "      <td>-0.253646</td>\n",
       "      <td>0.083759</td>\n",
       "      <td>0.031308</td>\n",
       "      <td>0.018093</td>\n",
       "      <td>0.114092</td>\n",
       "      <td>0.098501</td>\n",
       "    </tr>\n",
       "    <tr>\n",
       "      <th>VentricularRate</th>\n",
       "      <td>0.032784</td>\n",
       "      <td>1.000000</td>\n",
       "      <td>0.533340</td>\n",
       "      <td>-0.054847</td>\n",
       "      <td>-0.853169</td>\n",
       "      <td>0.421672</td>\n",
       "      <td>0.091437</td>\n",
       "      <td>0.104201</td>\n",
       "      <td>0.997072</td>\n",
       "      <td>0.011266</td>\n",
       "      <td>-0.048688</td>\n",
       "      <td>-0.846037</td>\n",
       "    </tr>\n",
       "    <tr>\n",
       "      <th>AtrialRate</th>\n",
       "      <td>0.123134</td>\n",
       "      <td>0.533340</td>\n",
       "      <td>1.000000</td>\n",
       "      <td>-0.060148</td>\n",
       "      <td>-0.474084</td>\n",
       "      <td>0.252017</td>\n",
       "      <td>0.051855</td>\n",
       "      <td>0.050377</td>\n",
       "      <td>0.530587</td>\n",
       "      <td>0.037640</td>\n",
       "      <td>-0.034009</td>\n",
       "      <td>-0.463366</td>\n",
       "    </tr>\n",
       "    <tr>\n",
       "      <th>QRSDuration</th>\n",
       "      <td>0.095891</td>\n",
       "      <td>-0.054847</td>\n",
       "      <td>-0.060148</td>\n",
       "      <td>1.000000</td>\n",
       "      <td>0.196121</td>\n",
       "      <td>0.188760</td>\n",
       "      <td>-0.084620</td>\n",
       "      <td>0.009285</td>\n",
       "      <td>-0.053868</td>\n",
       "      <td>-0.424377</td>\n",
       "      <td>0.719834</td>\n",
       "      <td>0.103680</td>\n",
       "    </tr>\n",
       "    <tr>\n",
       "      <th>QTInterval</th>\n",
       "      <td>0.095131</td>\n",
       "      <td>-0.853169</td>\n",
       "      <td>-0.474084</td>\n",
       "      <td>0.196121</td>\n",
       "      <td>1.000000</td>\n",
       "      <td>0.025108</td>\n",
       "      <td>-0.123269</td>\n",
       "      <td>-0.056627</td>\n",
       "      <td>-0.850519</td>\n",
       "      <td>-0.082541</td>\n",
       "      <td>0.141702</td>\n",
       "      <td>0.976715</td>\n",
       "    </tr>\n",
       "    <tr>\n",
       "      <th>QTCorrected</th>\n",
       "      <td>0.240466</td>\n",
       "      <td>0.421672</td>\n",
       "      <td>0.252017</td>\n",
       "      <td>0.188760</td>\n",
       "      <td>0.025108</td>\n",
       "      <td>1.000000</td>\n",
       "      <td>-0.048156</td>\n",
       "      <td>0.071952</td>\n",
       "      <td>0.420488</td>\n",
       "      <td>-0.125955</td>\n",
       "      <td>0.100727</td>\n",
       "      <td>-0.002145</td>\n",
       "    </tr>\n",
       "    <tr>\n",
       "      <th>RAxis</th>\n",
       "      <td>-0.253646</td>\n",
       "      <td>0.091437</td>\n",
       "      <td>0.051855</td>\n",
       "      <td>-0.084620</td>\n",
       "      <td>-0.123269</td>\n",
       "      <td>-0.048156</td>\n",
       "      <td>1.000000</td>\n",
       "      <td>0.046593</td>\n",
       "      <td>0.090857</td>\n",
       "      <td>0.061945</td>\n",
       "      <td>-0.040955</td>\n",
       "      <td>-0.109254</td>\n",
       "    </tr>\n",
       "    <tr>\n",
       "      <th>TAxis</th>\n",
       "      <td>0.083759</td>\n",
       "      <td>0.104201</td>\n",
       "      <td>0.050377</td>\n",
       "      <td>0.009285</td>\n",
       "      <td>-0.056627</td>\n",
       "      <td>0.071952</td>\n",
       "      <td>0.046593</td>\n",
       "      <td>1.000000</td>\n",
       "      <td>0.103753</td>\n",
       "      <td>-0.075576</td>\n",
       "      <td>-0.048233</td>\n",
       "      <td>-0.072584</td>\n",
       "    </tr>\n",
       "    <tr>\n",
       "      <th>QRSCount</th>\n",
       "      <td>0.031308</td>\n",
       "      <td>0.997072</td>\n",
       "      <td>0.530587</td>\n",
       "      <td>-0.053868</td>\n",
       "      <td>-0.850519</td>\n",
       "      <td>0.420488</td>\n",
       "      <td>0.090857</td>\n",
       "      <td>0.103753</td>\n",
       "      <td>1.000000</td>\n",
       "      <td>0.010224</td>\n",
       "      <td>-0.048463</td>\n",
       "      <td>-0.843626</td>\n",
       "    </tr>\n",
       "    <tr>\n",
       "      <th>QOnset</th>\n",
       "      <td>0.018093</td>\n",
       "      <td>0.011266</td>\n",
       "      <td>0.037640</td>\n",
       "      <td>-0.424377</td>\n",
       "      <td>-0.082541</td>\n",
       "      <td>-0.125955</td>\n",
       "      <td>0.061945</td>\n",
       "      <td>-0.075576</td>\n",
       "      <td>0.010224</td>\n",
       "      <td>1.000000</td>\n",
       "      <td>0.323058</td>\n",
       "      <td>0.133192</td>\n",
       "    </tr>\n",
       "    <tr>\n",
       "      <th>QOffset</th>\n",
       "      <td>0.114092</td>\n",
       "      <td>-0.048688</td>\n",
       "      <td>-0.034009</td>\n",
       "      <td>0.719834</td>\n",
       "      <td>0.141702</td>\n",
       "      <td>0.100727</td>\n",
       "      <td>-0.040955</td>\n",
       "      <td>-0.048233</td>\n",
       "      <td>-0.048463</td>\n",
       "      <td>0.323058</td>\n",
       "      <td>1.000000</td>\n",
       "      <td>0.210468</td>\n",
       "    </tr>\n",
       "    <tr>\n",
       "      <th>TOffset</th>\n",
       "      <td>0.098501</td>\n",
       "      <td>-0.846037</td>\n",
       "      <td>-0.463366</td>\n",
       "      <td>0.103680</td>\n",
       "      <td>0.976715</td>\n",
       "      <td>-0.002145</td>\n",
       "      <td>-0.109254</td>\n",
       "      <td>-0.072584</td>\n",
       "      <td>-0.843626</td>\n",
       "      <td>0.133192</td>\n",
       "      <td>0.210468</td>\n",
       "      <td>1.000000</td>\n",
       "    </tr>\n",
       "  </tbody>\n",
       "</table>\n",
       "</div>"
      ],
      "text/plain": [
       "                 PatientAge  VentricularRate  AtrialRate  QRSDuration  \\\n",
       "PatientAge         1.000000         0.032784    0.123134     0.095891   \n",
       "VentricularRate    0.032784         1.000000    0.533340    -0.054847   \n",
       "AtrialRate         0.123134         0.533340    1.000000    -0.060148   \n",
       "QRSDuration        0.095891        -0.054847   -0.060148     1.000000   \n",
       "QTInterval         0.095131        -0.853169   -0.474084     0.196121   \n",
       "QTCorrected        0.240466         0.421672    0.252017     0.188760   \n",
       "RAxis             -0.253646         0.091437    0.051855    -0.084620   \n",
       "TAxis              0.083759         0.104201    0.050377     0.009285   \n",
       "QRSCount           0.031308         0.997072    0.530587    -0.053868   \n",
       "QOnset             0.018093         0.011266    0.037640    -0.424377   \n",
       "QOffset            0.114092        -0.048688   -0.034009     0.719834   \n",
       "TOffset            0.098501        -0.846037   -0.463366     0.103680   \n",
       "\n",
       "                 QTInterval  QTCorrected     RAxis     TAxis  QRSCount  \\\n",
       "PatientAge         0.095131     0.240466 -0.253646  0.083759  0.031308   \n",
       "VentricularRate   -0.853169     0.421672  0.091437  0.104201  0.997072   \n",
       "AtrialRate        -0.474084     0.252017  0.051855  0.050377  0.530587   \n",
       "QRSDuration        0.196121     0.188760 -0.084620  0.009285 -0.053868   \n",
       "QTInterval         1.000000     0.025108 -0.123269 -0.056627 -0.850519   \n",
       "QTCorrected        0.025108     1.000000 -0.048156  0.071952  0.420488   \n",
       "RAxis             -0.123269    -0.048156  1.000000  0.046593  0.090857   \n",
       "TAxis             -0.056627     0.071952  0.046593  1.000000  0.103753   \n",
       "QRSCount          -0.850519     0.420488  0.090857  0.103753  1.000000   \n",
       "QOnset            -0.082541    -0.125955  0.061945 -0.075576  0.010224   \n",
       "QOffset            0.141702     0.100727 -0.040955 -0.048233 -0.048463   \n",
       "TOffset            0.976715    -0.002145 -0.109254 -0.072584 -0.843626   \n",
       "\n",
       "                   QOnset   QOffset   TOffset  \n",
       "PatientAge       0.018093  0.114092  0.098501  \n",
       "VentricularRate  0.011266 -0.048688 -0.846037  \n",
       "AtrialRate       0.037640 -0.034009 -0.463366  \n",
       "QRSDuration     -0.424377  0.719834  0.103680  \n",
       "QTInterval      -0.082541  0.141702  0.976715  \n",
       "QTCorrected     -0.125955  0.100727 -0.002145  \n",
       "RAxis            0.061945 -0.040955 -0.109254  \n",
       "TAxis           -0.075576 -0.048233 -0.072584  \n",
       "QRSCount         0.010224 -0.048463 -0.843626  \n",
       "QOnset           1.000000  0.323058  0.133192  \n",
       "QOffset          0.323058  1.000000  0.210468  \n",
       "TOffset          0.133192  0.210468  1.000000  "
      ]
     },
     "execution_count": 153,
     "metadata": {},
     "output_type": "execute_result"
    }
   ],
   "source": [
    "corr_mat = data.corr()\n",
    "corr_mat"
   ]
  },
  {
   "cell_type": "code",
   "execution_count": 154,
   "metadata": {},
   "outputs": [
    {
     "data": {
      "image/png": "[encoded data removed]",
      "text/plain": [
       "<Figure size 432x288 with 2 Axes>"
      ]
     },
     "metadata": {
      "needs_background": "light"
     },
     "output_type": "display_data"
    }
   ],
   "source": [
    "sns.heatmap(corr_mat, square=True, cmap='coolwarm')\n",
    "pass"
   ]
  },
  {
   "cell_type": "code",
   "execution_count": 155,
   "metadata": {},
   "outputs": [
    {
     "data": {
      "text/plain": [
       "VentricularRate  QRSCount    0.997072\n",
       "QTInterval       TOffset     0.976715\n",
       "dtype: float64"
      ]
     },
     "execution_count": 155,
     "metadata": {},
     "output_type": "execute_result"
    }
   ],
   "source": [
    "corr_mat.where(np.triu(corr_mat > 0.75, k=1)).stack().sort_values(ascending=False)"
   ]
  },
  {
   "cell_type": "code",
   "execution_count": 156,
   "metadata": {},
   "outputs": [
    {
     "data": {
      "text/plain": [
       "Series([], dtype: float64)"
      ]
     },
     "execution_count": 156,
     "metadata": {},
     "output_type": "execute_result"
    }
   ],
   "source": [
    "data=data.drop(['TOffset'], axis = 1)\n",
    "data=data.drop(['QRSCount'], axis = 1)\n",
    "\n",
    "corr_mat = data.corr()\n",
    "corr_mat.where(np.triu(corr_mat > 0.75, k=1)).stack().sort_values(ascending=False)\n"
   ]
  },
  {
   "cell_type": "markdown",
   "metadata": {},
   "source": [
    "## Preproseccing data"
   ]
  },
  {
   "cell_type": "markdown",
   "metadata": {},
   "source": [
    "### Label Encoder"
   ]
  },
  {
   "cell_type": "code",
   "execution_count": 157,
   "metadata": {},
   "outputs": [
    {
     "data": {
      "text/html": [
       "<div>\n",
       "<style scoped>\n",
       "    .dataframe tbody tr th:only-of-type {\n",
       "        vertical-align: middle;\n",
       "    }\n",
       "\n",
       "    .dataframe tbody tr th {\n",
       "        vertical-align: top;\n",
       "    }\n",
       "\n",
       "    .dataframe thead th {\n",
       "        text-align: right;\n",
       "    }\n",
       "</style>\n",
       "<table border=\"1\" class=\"dataframe\">\n",
       "  <thead>\n",
       "    <tr style=\"text-align: right;\">\n",
       "      <th></th>\n",
       "      <th>Rhythm</th>\n",
       "      <th>PatientAge</th>\n",
       "      <th>Gender</th>\n",
       "      <th>VentricularRate</th>\n",
       "      <th>AtrialRate</th>\n",
       "      <th>QRSDuration</th>\n",
       "      <th>QTInterval</th>\n",
       "      <th>QTCorrected</th>\n",
       "      <th>RAxis</th>\n",
       "      <th>TAxis</th>\n",
       "      <th>QOnset</th>\n",
       "      <th>QOffset</th>\n",
       "    </tr>\n",
       "    <tr>\n",
       "      <th>FileName</th>\n",
       "      <th></th>\n",
       "      <th></th>\n",
       "      <th></th>\n",
       "      <th></th>\n",
       "      <th></th>\n",
       "      <th></th>\n",
       "      <th></th>\n",
       "      <th></th>\n",
       "      <th></th>\n",
       "      <th></th>\n",
       "      <th></th>\n",
       "      <th></th>\n",
       "    </tr>\n",
       "  </thead>\n",
       "  <tbody>\n",
       "    <tr>\n",
       "      <th>MUSE_20180113_171327_27000</th>\n",
       "      <td>AFIB</td>\n",
       "      <td>85</td>\n",
       "      <td>MALE</td>\n",
       "      <td>117</td>\n",
       "      <td>234</td>\n",
       "      <td>114</td>\n",
       "      <td>356</td>\n",
       "      <td>496</td>\n",
       "      <td>81</td>\n",
       "      <td>-27</td>\n",
       "      <td>208</td>\n",
       "      <td>265</td>\n",
       "    </tr>\n",
       "    <tr>\n",
       "      <th>MUSE_20180112_073319_29000</th>\n",
       "      <td>SB</td>\n",
       "      <td>59</td>\n",
       "      <td>FEMALE</td>\n",
       "      <td>52</td>\n",
       "      <td>52</td>\n",
       "      <td>92</td>\n",
       "      <td>432</td>\n",
       "      <td>401</td>\n",
       "      <td>76</td>\n",
       "      <td>42</td>\n",
       "      <td>215</td>\n",
       "      <td>261</td>\n",
       "    </tr>\n",
       "    <tr>\n",
       "      <th>MUSE_20180111_165520_97000</th>\n",
       "      <td>SR</td>\n",
       "      <td>20</td>\n",
       "      <td>FEMALE</td>\n",
       "      <td>67</td>\n",
       "      <td>67</td>\n",
       "      <td>82</td>\n",
       "      <td>382</td>\n",
       "      <td>403</td>\n",
       "      <td>88</td>\n",
       "      <td>20</td>\n",
       "      <td>224</td>\n",
       "      <td>265</td>\n",
       "    </tr>\n",
       "    <tr>\n",
       "      <th>MUSE_20180113_121940_44000</th>\n",
       "      <td>SB</td>\n",
       "      <td>66</td>\n",
       "      <td>MALE</td>\n",
       "      <td>53</td>\n",
       "      <td>53</td>\n",
       "      <td>96</td>\n",
       "      <td>456</td>\n",
       "      <td>427</td>\n",
       "      <td>34</td>\n",
       "      <td>3</td>\n",
       "      <td>219</td>\n",
       "      <td>267</td>\n",
       "    </tr>\n",
       "    <tr>\n",
       "      <th>MUSE_20180112_122850_57000</th>\n",
       "      <td>AFIB</td>\n",
       "      <td>73</td>\n",
       "      <td>FEMALE</td>\n",
       "      <td>162</td>\n",
       "      <td>162</td>\n",
       "      <td>114</td>\n",
       "      <td>252</td>\n",
       "      <td>413</td>\n",
       "      <td>68</td>\n",
       "      <td>-40</td>\n",
       "      <td>228</td>\n",
       "      <td>285</td>\n",
       "    </tr>\n",
       "    <tr>\n",
       "      <th>...</th>\n",
       "      <td>...</td>\n",
       "      <td>...</td>\n",
       "      <td>...</td>\n",
       "      <td>...</td>\n",
       "      <td>...</td>\n",
       "      <td>...</td>\n",
       "      <td>...</td>\n",
       "      <td>...</td>\n",
       "      <td>...</td>\n",
       "      <td>...</td>\n",
       "      <td>...</td>\n",
       "      <td>...</td>\n",
       "    </tr>\n",
       "    <tr>\n",
       "      <th>MUSE_20181222_204306_99000</th>\n",
       "      <td>GSVT</td>\n",
       "      <td>80</td>\n",
       "      <td>FEMALE</td>\n",
       "      <td>196</td>\n",
       "      <td>73</td>\n",
       "      <td>168</td>\n",
       "      <td>284</td>\n",
       "      <td>513</td>\n",
       "      <td>258</td>\n",
       "      <td>244</td>\n",
       "      <td>177</td>\n",
       "      <td>261</td>\n",
       "    </tr>\n",
       "    <tr>\n",
       "      <th>MUSE_20181222_204309_22000</th>\n",
       "      <td>GSVT</td>\n",
       "      <td>81</td>\n",
       "      <td>FEMALE</td>\n",
       "      <td>162</td>\n",
       "      <td>81</td>\n",
       "      <td>162</td>\n",
       "      <td>294</td>\n",
       "      <td>482</td>\n",
       "      <td>110</td>\n",
       "      <td>-75</td>\n",
       "      <td>173</td>\n",
       "      <td>254</td>\n",
       "    </tr>\n",
       "    <tr>\n",
       "      <th>MUSE_20181222_204310_31000</th>\n",
       "      <td>GSVT</td>\n",
       "      <td>39</td>\n",
       "      <td>MALE</td>\n",
       "      <td>152</td>\n",
       "      <td>92</td>\n",
       "      <td>152</td>\n",
       "      <td>340</td>\n",
       "      <td>540</td>\n",
       "      <td>250</td>\n",
       "      <td>38</td>\n",
       "      <td>208</td>\n",
       "      <td>284</td>\n",
       "    </tr>\n",
       "    <tr>\n",
       "      <th>MUSE_20181222_204312_58000</th>\n",
       "      <td>GSVT</td>\n",
       "      <td>76</td>\n",
       "      <td>MALE</td>\n",
       "      <td>175</td>\n",
       "      <td>178</td>\n",
       "      <td>128</td>\n",
       "      <td>310</td>\n",
       "      <td>529</td>\n",
       "      <td>98</td>\n",
       "      <td>-83</td>\n",
       "      <td>205</td>\n",
       "      <td>269</td>\n",
       "    </tr>\n",
       "    <tr>\n",
       "      <th>MUSE_20181222_204314_78000</th>\n",
       "      <td>GSVT</td>\n",
       "      <td>75</td>\n",
       "      <td>MALE</td>\n",
       "      <td>117</td>\n",
       "      <td>104</td>\n",
       "      <td>140</td>\n",
       "      <td>312</td>\n",
       "      <td>435</td>\n",
       "      <td>263</td>\n",
       "      <td>144</td>\n",
       "      <td>208</td>\n",
       "      <td>278</td>\n",
       "    </tr>\n",
       "  </tbody>\n",
       "</table>\n",
       "<p>10646 rows × 12 columns</p>\n",
       "</div>"
      ],
      "text/plain": [
       "                           Rhythm  PatientAge  Gender  VentricularRate  \\\n",
       "FileName                                                                 \n",
       "MUSE_20180113_171327_27000   AFIB          85    MALE              117   \n",
       "MUSE_20180112_073319_29000     SB          59  FEMALE               52   \n",
       "MUSE_20180111_165520_97000     SR          20  FEMALE               67   \n",
       "MUSE_20180113_121940_44000     SB          66    MALE               53   \n",
       "MUSE_20180112_122850_57000   AFIB          73  FEMALE              162   \n",
       "...                           ...         ...     ...              ...   \n",
       "MUSE_20181222_204306_99000   GSVT          80  FEMALE              196   \n",
       "MUSE_20181222_204309_22000   GSVT          81  FEMALE              162   \n",
       "MUSE_20181222_204310_31000   GSVT          39    MALE              152   \n",
       "MUSE_20181222_204312_58000   GSVT          76    MALE              175   \n",
       "MUSE_20181222_204314_78000   GSVT          75    MALE              117   \n",
       "\n",
       "                            AtrialRate  QRSDuration  QTInterval  QTCorrected  \\\n",
       "FileName                                                                       \n",
       "MUSE_20180113_171327_27000         234          114         356          496   \n",
       "MUSE_20180112_073319_29000          52           92         432          401   \n",
       "MUSE_20180111_165520_97000          67           82         382          403   \n",
       "MUSE_20180113_121940_44000          53           96         456          427   \n",
       "MUSE_20180112_122850_57000         162          114         252          413   \n",
       "...                                ...          ...         ...          ...   \n",
       "MUSE_20181222_204306_99000          73          168         284          513   \n",
       "MUSE_20181222_204309_22000          81          162         294          482   \n",
       "MUSE_20181222_204310_31000          92          152         340          540   \n",
       "MUSE_20181222_204312_58000         178          128         310          529   \n",
       "MUSE_20181222_204314_78000         104          140         312          435   \n",
       "\n",
       "                            RAxis  TAxis  QOnset  QOffset  \n",
       "FileName                                                   \n",
       "MUSE_20180113_171327_27000     81    -27     208      265  \n",
       "MUSE_20180112_073319_29000     76     42     215      261  \n",
       "MUSE_20180111_165520_97000     88     20     224      265  \n",
       "MUSE_20180113_121940_44000     34      3     219      267  \n",
       "MUSE_20180112_122850_57000     68    -40     228      285  \n",
       "...                           ...    ...     ...      ...  \n",
       "MUSE_20181222_204306_99000    258    244     177      261  \n",
       "MUSE_20181222_204309_22000    110    -75     173      254  \n",
       "MUSE_20181222_204310_31000    250     38     208      284  \n",
       "MUSE_20181222_204312_58000     98    -83     205      269  \n",
       "MUSE_20181222_204314_78000    263    144     208      278  \n",
       "\n",
       "[10646 rows x 12 columns]"
      ]
     },
     "execution_count": 157,
     "metadata": {},
     "output_type": "execute_result"
    }
   ],
   "source": [
    "from sklearn import preprocessing\n",
    "le = preprocessing.LabelEncoder()\n",
    "data_notNull = data.drop(['Beat'], axis=1)\n",
    "data_notNull"
   ]
  },
  {
   "cell_type": "code",
   "execution_count": 158,
   "metadata": {},
   "outputs": [],
   "source": [
    "le.fit(data['Gender'])\n",
    "data_notNull['Gender']=le.transform(data_notNull['Gender'])\n",
    "le.fit(data_notNull['Rhythm'])\n",
    "data_notNull['Rhythm']=le.transform(data_notNull['Rhythm'])\n",
    "data_notNull=pd.get_dummies(data_notNull, columns=[\"Gender\"])"
   ]
  },
  {
   "cell_type": "code",
   "execution_count": 159,
   "metadata": {},
   "outputs": [
    {
     "data": {
      "text/html": [
       "<div>\n",
       "<style scoped>\n",
       "    .dataframe tbody tr th:only-of-type {\n",
       "        vertical-align: middle;\n",
       "    }\n",
       "\n",
       "    .dataframe tbody tr th {\n",
       "        vertical-align: top;\n",
       "    }\n",
       "\n",
       "    .dataframe thead th {\n",
       "        text-align: right;\n",
       "    }\n",
       "</style>\n",
       "<table border=\"1\" class=\"dataframe\">\n",
       "  <thead>\n",
       "    <tr style=\"text-align: right;\">\n",
       "      <th></th>\n",
       "      <th>Rhythm</th>\n",
       "      <th>PatientAge</th>\n",
       "      <th>VentricularRate</th>\n",
       "      <th>AtrialRate</th>\n",
       "      <th>QRSDuration</th>\n",
       "      <th>QTInterval</th>\n",
       "      <th>QTCorrected</th>\n",
       "      <th>RAxis</th>\n",
       "      <th>TAxis</th>\n",
       "      <th>QOnset</th>\n",
       "      <th>QOffset</th>\n",
       "      <th>Gender_0</th>\n",
       "      <th>Gender_1</th>\n",
       "    </tr>\n",
       "    <tr>\n",
       "      <th>FileName</th>\n",
       "      <th></th>\n",
       "      <th></th>\n",
       "      <th></th>\n",
       "      <th></th>\n",
       "      <th></th>\n",
       "      <th></th>\n",
       "      <th></th>\n",
       "      <th></th>\n",
       "      <th></th>\n",
       "      <th></th>\n",
       "      <th></th>\n",
       "      <th></th>\n",
       "      <th></th>\n",
       "    </tr>\n",
       "  </thead>\n",
       "  <tbody>\n",
       "    <tr>\n",
       "      <th>MUSE_20180113_171327_27000</th>\n",
       "      <td>0</td>\n",
       "      <td>85</td>\n",
       "      <td>117</td>\n",
       "      <td>234</td>\n",
       "      <td>114</td>\n",
       "      <td>356</td>\n",
       "      <td>496</td>\n",
       "      <td>81</td>\n",
       "      <td>-27</td>\n",
       "      <td>208</td>\n",
       "      <td>265</td>\n",
       "      <td>0</td>\n",
       "      <td>1</td>\n",
       "    </tr>\n",
       "    <tr>\n",
       "      <th>MUSE_20180112_073319_29000</th>\n",
       "      <td>2</td>\n",
       "      <td>59</td>\n",
       "      <td>52</td>\n",
       "      <td>52</td>\n",
       "      <td>92</td>\n",
       "      <td>432</td>\n",
       "      <td>401</td>\n",
       "      <td>76</td>\n",
       "      <td>42</td>\n",
       "      <td>215</td>\n",
       "      <td>261</td>\n",
       "      <td>1</td>\n",
       "      <td>0</td>\n",
       "    </tr>\n",
       "    <tr>\n",
       "      <th>MUSE_20180111_165520_97000</th>\n",
       "      <td>3</td>\n",
       "      <td>20</td>\n",
       "      <td>67</td>\n",
       "      <td>67</td>\n",
       "      <td>82</td>\n",
       "      <td>382</td>\n",
       "      <td>403</td>\n",
       "      <td>88</td>\n",
       "      <td>20</td>\n",
       "      <td>224</td>\n",
       "      <td>265</td>\n",
       "      <td>1</td>\n",
       "      <td>0</td>\n",
       "    </tr>\n",
       "    <tr>\n",
       "      <th>MUSE_20180113_121940_44000</th>\n",
       "      <td>2</td>\n",
       "      <td>66</td>\n",
       "      <td>53</td>\n",
       "      <td>53</td>\n",
       "      <td>96</td>\n",
       "      <td>456</td>\n",
       "      <td>427</td>\n",
       "      <td>34</td>\n",
       "      <td>3</td>\n",
       "      <td>219</td>\n",
       "      <td>267</td>\n",
       "      <td>0</td>\n",
       "      <td>1</td>\n",
       "    </tr>\n",
       "    <tr>\n",
       "      <th>MUSE_20180112_122850_57000</th>\n",
       "      <td>0</td>\n",
       "      <td>73</td>\n",
       "      <td>162</td>\n",
       "      <td>162</td>\n",
       "      <td>114</td>\n",
       "      <td>252</td>\n",
       "      <td>413</td>\n",
       "      <td>68</td>\n",
       "      <td>-40</td>\n",
       "      <td>228</td>\n",
       "      <td>285</td>\n",
       "      <td>1</td>\n",
       "      <td>0</td>\n",
       "    </tr>\n",
       "    <tr>\n",
       "      <th>...</th>\n",
       "      <td>...</td>\n",
       "      <td>...</td>\n",
       "      <td>...</td>\n",
       "      <td>...</td>\n",
       "      <td>...</td>\n",
       "      <td>...</td>\n",
       "      <td>...</td>\n",
       "      <td>...</td>\n",
       "      <td>...</td>\n",
       "      <td>...</td>\n",
       "      <td>...</td>\n",
       "      <td>...</td>\n",
       "      <td>...</td>\n",
       "    </tr>\n",
       "    <tr>\n",
       "      <th>MUSE_20181222_204306_99000</th>\n",
       "      <td>1</td>\n",
       "      <td>80</td>\n",
       "      <td>196</td>\n",
       "      <td>73</td>\n",
       "      <td>168</td>\n",
       "      <td>284</td>\n",
       "      <td>513</td>\n",
       "      <td>258</td>\n",
       "      <td>244</td>\n",
       "      <td>177</td>\n",
       "      <td>261</td>\n",
       "      <td>1</td>\n",
       "      <td>0</td>\n",
       "    </tr>\n",
       "    <tr>\n",
       "      <th>MUSE_20181222_204309_22000</th>\n",
       "      <td>1</td>\n",
       "      <td>81</td>\n",
       "      <td>162</td>\n",
       "      <td>81</td>\n",
       "      <td>162</td>\n",
       "      <td>294</td>\n",
       "      <td>482</td>\n",
       "      <td>110</td>\n",
       "      <td>-75</td>\n",
       "      <td>173</td>\n",
       "      <td>254</td>\n",
       "      <td>1</td>\n",
       "      <td>0</td>\n",
       "    </tr>\n",
       "    <tr>\n",
       "      <th>MUSE_20181222_204310_31000</th>\n",
       "      <td>1</td>\n",
       "      <td>39</td>\n",
       "      <td>152</td>\n",
       "      <td>92</td>\n",
       "      <td>152</td>\n",
       "      <td>340</td>\n",
       "      <td>540</td>\n",
       "      <td>250</td>\n",
       "      <td>38</td>\n",
       "      <td>208</td>\n",
       "      <td>284</td>\n",
       "      <td>0</td>\n",
       "      <td>1</td>\n",
       "    </tr>\n",
       "    <tr>\n",
       "      <th>MUSE_20181222_204312_58000</th>\n",
       "      <td>1</td>\n",
       "      <td>76</td>\n",
       "      <td>175</td>\n",
       "      <td>178</td>\n",
       "      <td>128</td>\n",
       "      <td>310</td>\n",
       "      <td>529</td>\n",
       "      <td>98</td>\n",
       "      <td>-83</td>\n",
       "      <td>205</td>\n",
       "      <td>269</td>\n",
       "      <td>0</td>\n",
       "      <td>1</td>\n",
       "    </tr>\n",
       "    <tr>\n",
       "      <th>MUSE_20181222_204314_78000</th>\n",
       "      <td>1</td>\n",
       "      <td>75</td>\n",
       "      <td>117</td>\n",
       "      <td>104</td>\n",
       "      <td>140</td>\n",
       "      <td>312</td>\n",
       "      <td>435</td>\n",
       "      <td>263</td>\n",
       "      <td>144</td>\n",
       "      <td>208</td>\n",
       "      <td>278</td>\n",
       "      <td>0</td>\n",
       "      <td>1</td>\n",
       "    </tr>\n",
       "  </tbody>\n",
       "</table>\n",
       "<p>10646 rows × 13 columns</p>\n",
       "</div>"
      ],
      "text/plain": [
       "                            Rhythm  PatientAge  VentricularRate  AtrialRate  \\\n",
       "FileName                                                                      \n",
       "MUSE_20180113_171327_27000       0          85              117         234   \n",
       "MUSE_20180112_073319_29000       2          59               52          52   \n",
       "MUSE_20180111_165520_97000       3          20               67          67   \n",
       "MUSE_20180113_121940_44000       2          66               53          53   \n",
       "MUSE_20180112_122850_57000       0          73              162         162   \n",
       "...                            ...         ...              ...         ...   \n",
       "MUSE_20181222_204306_99000       1          80              196          73   \n",
       "MUSE_20181222_204309_22000       1          81              162          81   \n",
       "MUSE_20181222_204310_31000       1          39              152          92   \n",
       "MUSE_20181222_204312_58000       1          76              175         178   \n",
       "MUSE_20181222_204314_78000       1          75              117         104   \n",
       "\n",
       "                            QRSDuration  QTInterval  QTCorrected  RAxis  \\\n",
       "FileName                                                                  \n",
       "MUSE_20180113_171327_27000          114         356          496     81   \n",
       "MUSE_20180112_073319_29000           92         432          401     76   \n",
       "MUSE_20180111_165520_97000           82         382          403     88   \n",
       "MUSE_20180113_121940_44000           96         456          427     34   \n",
       "MUSE_20180112_122850_57000          114         252          413     68   \n",
       "...                                 ...         ...          ...    ...   \n",
       "MUSE_20181222_204306_99000          168         284          513    258   \n",
       "MUSE_20181222_204309_22000          162         294          482    110   \n",
       "MUSE_20181222_204310_31000          152         340          540    250   \n",
       "MUSE_20181222_204312_58000          128         310          529     98   \n",
       "MUSE_20181222_204314_78000          140         312          435    263   \n",
       "\n",
       "                            TAxis  QOnset  QOffset  Gender_0  Gender_1  \n",
       "FileName                                                                \n",
       "MUSE_20180113_171327_27000    -27     208      265         0         1  \n",
       "MUSE_20180112_073319_29000     42     215      261         1         0  \n",
       "MUSE_20180111_165520_97000     20     224      265         1         0  \n",
       "MUSE_20180113_121940_44000      3     219      267         0         1  \n",
       "MUSE_20180112_122850_57000    -40     228      285         1         0  \n",
       "...                           ...     ...      ...       ...       ...  \n",
       "MUSE_20181222_204306_99000    244     177      261         1         0  \n",
       "MUSE_20181222_204309_22000    -75     173      254         1         0  \n",
       "MUSE_20181222_204310_31000     38     208      284         0         1  \n",
       "MUSE_20181222_204312_58000    -83     205      269         0         1  \n",
       "MUSE_20181222_204314_78000    144     208      278         0         1  \n",
       "\n",
       "[10646 rows x 13 columns]"
      ]
     },
     "execution_count": 159,
     "metadata": {},
     "output_type": "execute_result"
    }
   ],
   "source": [
    "data_notNull"
   ]
  },
  {
   "cell_type": "markdown",
   "metadata": {},
   "source": [
    "#  Vizualization\n"
   ]
  },
  {
   "cell_type": "markdown",
   "metadata": {},
   "source": [
    "Проверим выбросы "
   ]
  },
  {
   "cell_type": "code",
   "execution_count": 160,
   "metadata": {},
   "outputs": [
    {
     "data": {
      "image/png": "[encoded data removed]",
      "text/plain": [
       "<Figure size 432x288 with 1 Axes>"
      ]
     },
     "metadata": {
      "needs_background": "light"
     },
     "output_type": "display_data"
    }
   ],
   "source": [
    "plt.scatter(data_notNull['PatientAge'],data_notNull['AtrialRate'])\n",
    "pass"
   ]
  },
  {
   "cell_type": "markdown",
   "metadata": {},
   "source": [
    "Для обнаружения выбросов найдем, например, квантили для признаков Rhythm и RAxis:"
   ]
  },
  {
   "cell_type": "code",
   "execution_count": 161,
   "metadata": {},
   "outputs": [
    {
     "data": {
      "text/plain": [
       "0.005    0.0\n",
       "0.010    0.0\n",
       "0.050    0.0\n",
       "0.100    0.0\n",
       "0.500    2.0\n",
       "0.900    3.0\n",
       "0.950    3.0\n",
       "0.990    3.0\n",
       "0.995    3.0\n",
       "Name: Rhythm, dtype: float64"
      ]
     },
     "execution_count": 161,
     "metadata": {},
     "output_type": "execute_result"
    }
   ],
   "source": [
    "data_notNull['Rhythm'].quantile([0.005,.01,.05,.1,.5,.9,.95,.99,.995])"
   ]
  },
  {
   "cell_type": "code",
   "execution_count": 162,
   "metadata": {},
   "outputs": [
    {
     "data": {
      "text/plain": [
       "0.005     6.225\n",
       "0.010     9.000\n",
       "0.050    25.000\n",
       "0.100    33.000\n",
       "0.500    62.000\n",
       "0.900    81.000\n",
       "0.950    85.000\n",
       "0.990    91.000\n",
       "0.995    93.000\n",
       "Name: PatientAge, dtype: float64"
      ]
     },
     "execution_count": 162,
     "metadata": {},
     "output_type": "execute_result"
    }
   ],
   "source": [
    "data_notNull['PatientAge'].quantile([0.005,.01,.05,.1,.5,.9,.95,.99,.995])"
   ]
  },
  {
   "cell_type": "markdown",
   "metadata": {},
   "source": [
    "### Train/test separating"
   ]
  },
  {
   "cell_type": "code",
   "execution_count": 163,
   "metadata": {},
   "outputs": [],
   "source": [
    "from sklearn.model_selection import StratifiedShuffleSplit\n",
    "import imblearn"
   ]
  },
  {
   "cell_type": "code",
   "execution_count": 164,
   "metadata": {},
   "outputs": [],
   "source": [
    "y=data_notNull['Rhythm']\n",
    "data_notNull.pop('Rhythm')\n",
    "X=data_notNull"
   ]
  },
  {
   "cell_type": "code",
   "execution_count": 165,
   "metadata": {},
   "outputs": [],
   "source": [
    "# from sklearn.model_selection import train_test_split\n",
    "# X_train, X_test, y_train, y_test = train_test_split(X, y, test_size=0.25,stratify=y, random_state=42)"
   ]
  },
  {
   "cell_type": "code",
   "execution_count": 166,
   "metadata": {},
   "outputs": [],
   "source": [
    "# from imblearn.under_sampling import NearMiss\n",
    "# nm = NearMiss()\n",
    "# X_train, y_train = nm.fit_resample(X_train, y_train.ravel())"
   ]
  },
  {
   "cell_type": "code",
   "execution_count": 167,
   "metadata": {},
   "outputs": [
    {
     "name": "stdout",
     "output_type": "stream",
     "text": [
      "После применения метода кол-во меток со значением True: 1669\n",
      "После применения метода кол-во меток со значением True: 1669\n",
      "После применения метода кол-во меток со значением True: 1669\n",
      "После применения метода кол-во меток со значением True: 1669\n"
     ]
    }
   ],
   "source": [
    "print('После применения метода кол-во меток со значением True: {}'.format(sum(Y_train_miss == 2)))\n",
    "print('После применения метода кол-во меток со значением True: {}'.format(sum(Y_train_miss == 1)))\n",
    "print('После применения метода кол-во меток со значением True: {}'.format(sum(Y_train_miss == 3)))\n",
    "print('После применения метода кол-во меток со значением True: {}'.format(sum(Y_train_miss == 0)))"
   ]
  },
  {
   "cell_type": "code",
   "execution_count": 168,
   "metadata": {},
   "outputs": [
    {
     "data": {
      "text/plain": [
       "2    3889\n",
       "1    2307\n",
       "3    2225\n",
       "0    2225\n",
       "Name: Rhythm, dtype: int64"
      ]
     },
     "execution_count": 168,
     "metadata": {},
     "output_type": "execute_result"
    }
   ],
   "source": [
    "y.value_counts()"
   ]
  },
  {
   "cell_type": "markdown",
   "metadata": {},
   "source": [
    "4 итоговых класса"
   ]
  },
  {
   "cell_type": "markdown",
   "metadata": {},
   "source": [
    "ML алгоритмы, которые требуют нормализации данных:  \n",
    "Логистическая регрессия  \n",
    "Метод опорных векторов  \n",
    "Нейронная сеть  \n",
    "\n",
    "(Метки нормализовать не надо)"
   ]
  },
  {
   "cell_type": "code",
   "execution_count": 169,
   "metadata": {},
   "outputs": [
    {
     "data": {
      "text/plain": [
       "array([[ 1.43174458,  0.95385586,  2.35346148, ...,  0.02927467,\n",
       "        -0.88737886,  0.88737886],\n",
       "       [-0.01036269, -0.93273231, -0.67527234, ..., -0.44909542,\n",
       "         1.12691439, -1.12691439],\n",
       "       [-2.1735236 , -0.49736581, -0.42565142, ...,  0.02927467,\n",
       "         1.12691439, -1.12691439],\n",
       "       ...,\n",
       "       [-1.11967598,  1.96971103, -0.00961656, ...,  2.30153259,\n",
       "        -0.88737886,  0.88737886],\n",
       "       [ 0.9325536 ,  2.637273  ,  1.42154338, ...,  0.50764476,\n",
       "        -0.88737886,  0.88737886],\n",
       "       [ 0.87708794,  0.95385586,  0.19008018, ...,  1.58397746,\n",
       "        -0.88737886,  0.88737886]])"
      ]
     },
     "execution_count": 169,
     "metadata": {},
     "output_type": "execute_result"
    }
   ],
   "source": [
    "from sklearn.preprocessing import scale\n",
    "X_scaled=scale(X)\n",
    "X_scaled\n"
   ]
  },
  {
   "cell_type": "code",
   "execution_count": 170,
   "metadata": {},
   "outputs": [],
   "source": [
    "# X_train=scale(X_train)\n",
    "# X_test=scale(X_test)"
   ]
  },
  {
   "cell_type": "code",
   "execution_count": 171,
   "metadata": {},
   "outputs": [
    {
     "data": {
      "text/html": [
       "<div>\n",
       "<style scoped>\n",
       "    .dataframe tbody tr th:only-of-type {\n",
       "        vertical-align: middle;\n",
       "    }\n",
       "\n",
       "    .dataframe tbody tr th {\n",
       "        vertical-align: top;\n",
       "    }\n",
       "\n",
       "    .dataframe thead th {\n",
       "        text-align: right;\n",
       "    }\n",
       "</style>\n",
       "<table border=\"1\" class=\"dataframe\">\n",
       "  <thead>\n",
       "    <tr style=\"text-align: right;\">\n",
       "      <th></th>\n",
       "      <th>PatientAge</th>\n",
       "      <th>VentricularRate</th>\n",
       "      <th>AtrialRate</th>\n",
       "      <th>QRSDuration</th>\n",
       "      <th>QTInterval</th>\n",
       "      <th>QTCorrected</th>\n",
       "      <th>RAxis</th>\n",
       "      <th>TAxis</th>\n",
       "      <th>QOnset</th>\n",
       "      <th>QOffset</th>\n",
       "      <th>Gender_0</th>\n",
       "      <th>Gender_1</th>\n",
       "    </tr>\n",
       "    <tr>\n",
       "      <th>FileName</th>\n",
       "      <th></th>\n",
       "      <th></th>\n",
       "      <th></th>\n",
       "      <th></th>\n",
       "      <th></th>\n",
       "      <th></th>\n",
       "      <th></th>\n",
       "      <th></th>\n",
       "      <th></th>\n",
       "      <th></th>\n",
       "      <th></th>\n",
       "      <th></th>\n",
       "    </tr>\n",
       "  </thead>\n",
       "  <tbody>\n",
       "    <tr>\n",
       "      <th>MUSE_20180113_171327_27000</th>\n",
       "      <td>85</td>\n",
       "      <td>117</td>\n",
       "      <td>234</td>\n",
       "      <td>114</td>\n",
       "      <td>356</td>\n",
       "      <td>496</td>\n",
       "      <td>81</td>\n",
       "      <td>-27</td>\n",
       "      <td>208</td>\n",
       "      <td>265</td>\n",
       "      <td>0</td>\n",
       "      <td>1</td>\n",
       "    </tr>\n",
       "    <tr>\n",
       "      <th>MUSE_20180112_073319_29000</th>\n",
       "      <td>59</td>\n",
       "      <td>52</td>\n",
       "      <td>52</td>\n",
       "      <td>92</td>\n",
       "      <td>432</td>\n",
       "      <td>401</td>\n",
       "      <td>76</td>\n",
       "      <td>42</td>\n",
       "      <td>215</td>\n",
       "      <td>261</td>\n",
       "      <td>1</td>\n",
       "      <td>0</td>\n",
       "    </tr>\n",
       "    <tr>\n",
       "      <th>MUSE_20180111_165520_97000</th>\n",
       "      <td>20</td>\n",
       "      <td>67</td>\n",
       "      <td>67</td>\n",
       "      <td>82</td>\n",
       "      <td>382</td>\n",
       "      <td>403</td>\n",
       "      <td>88</td>\n",
       "      <td>20</td>\n",
       "      <td>224</td>\n",
       "      <td>265</td>\n",
       "      <td>1</td>\n",
       "      <td>0</td>\n",
       "    </tr>\n",
       "    <tr>\n",
       "      <th>MUSE_20180113_121940_44000</th>\n",
       "      <td>66</td>\n",
       "      <td>53</td>\n",
       "      <td>53</td>\n",
       "      <td>96</td>\n",
       "      <td>456</td>\n",
       "      <td>427</td>\n",
       "      <td>34</td>\n",
       "      <td>3</td>\n",
       "      <td>219</td>\n",
       "      <td>267</td>\n",
       "      <td>0</td>\n",
       "      <td>1</td>\n",
       "    </tr>\n",
       "    <tr>\n",
       "      <th>MUSE_20180112_122850_57000</th>\n",
       "      <td>73</td>\n",
       "      <td>162</td>\n",
       "      <td>162</td>\n",
       "      <td>114</td>\n",
       "      <td>252</td>\n",
       "      <td>413</td>\n",
       "      <td>68</td>\n",
       "      <td>-40</td>\n",
       "      <td>228</td>\n",
       "      <td>285</td>\n",
       "      <td>1</td>\n",
       "      <td>0</td>\n",
       "    </tr>\n",
       "    <tr>\n",
       "      <th>...</th>\n",
       "      <td>...</td>\n",
       "      <td>...</td>\n",
       "      <td>...</td>\n",
       "      <td>...</td>\n",
       "      <td>...</td>\n",
       "      <td>...</td>\n",
       "      <td>...</td>\n",
       "      <td>...</td>\n",
       "      <td>...</td>\n",
       "      <td>...</td>\n",
       "      <td>...</td>\n",
       "      <td>...</td>\n",
       "    </tr>\n",
       "    <tr>\n",
       "      <th>MUSE_20181222_204306_99000</th>\n",
       "      <td>80</td>\n",
       "      <td>196</td>\n",
       "      <td>73</td>\n",
       "      <td>168</td>\n",
       "      <td>284</td>\n",
       "      <td>513</td>\n",
       "      <td>258</td>\n",
       "      <td>244</td>\n",
       "      <td>177</td>\n",
       "      <td>261</td>\n",
       "      <td>1</td>\n",
       "      <td>0</td>\n",
       "    </tr>\n",
       "    <tr>\n",
       "      <th>MUSE_20181222_204309_22000</th>\n",
       "      <td>81</td>\n",
       "      <td>162</td>\n",
       "      <td>81</td>\n",
       "      <td>162</td>\n",
       "      <td>294</td>\n",
       "      <td>482</td>\n",
       "      <td>110</td>\n",
       "      <td>-75</td>\n",
       "      <td>173</td>\n",
       "      <td>254</td>\n",
       "      <td>1</td>\n",
       "      <td>0</td>\n",
       "    </tr>\n",
       "    <tr>\n",
       "      <th>MUSE_20181222_204310_31000</th>\n",
       "      <td>39</td>\n",
       "      <td>152</td>\n",
       "      <td>92</td>\n",
       "      <td>152</td>\n",
       "      <td>340</td>\n",
       "      <td>540</td>\n",
       "      <td>250</td>\n",
       "      <td>38</td>\n",
       "      <td>208</td>\n",
       "      <td>284</td>\n",
       "      <td>0</td>\n",
       "      <td>1</td>\n",
       "    </tr>\n",
       "    <tr>\n",
       "      <th>MUSE_20181222_204312_58000</th>\n",
       "      <td>76</td>\n",
       "      <td>175</td>\n",
       "      <td>178</td>\n",
       "      <td>128</td>\n",
       "      <td>310</td>\n",
       "      <td>529</td>\n",
       "      <td>98</td>\n",
       "      <td>-83</td>\n",
       "      <td>205</td>\n",
       "      <td>269</td>\n",
       "      <td>0</td>\n",
       "      <td>1</td>\n",
       "    </tr>\n",
       "    <tr>\n",
       "      <th>MUSE_20181222_204314_78000</th>\n",
       "      <td>75</td>\n",
       "      <td>117</td>\n",
       "      <td>104</td>\n",
       "      <td>140</td>\n",
       "      <td>312</td>\n",
       "      <td>435</td>\n",
       "      <td>263</td>\n",
       "      <td>144</td>\n",
       "      <td>208</td>\n",
       "      <td>278</td>\n",
       "      <td>0</td>\n",
       "      <td>1</td>\n",
       "    </tr>\n",
       "  </tbody>\n",
       "</table>\n",
       "<p>10646 rows × 12 columns</p>\n",
       "</div>"
      ],
      "text/plain": [
       "                            PatientAge  VentricularRate  AtrialRate  \\\n",
       "FileName                                                              \n",
       "MUSE_20180113_171327_27000          85              117         234   \n",
       "MUSE_20180112_073319_29000          59               52          52   \n",
       "MUSE_20180111_165520_97000          20               67          67   \n",
       "MUSE_20180113_121940_44000          66               53          53   \n",
       "MUSE_20180112_122850_57000          73              162         162   \n",
       "...                                ...              ...         ...   \n",
       "MUSE_20181222_204306_99000          80              196          73   \n",
       "MUSE_20181222_204309_22000          81              162          81   \n",
       "MUSE_20181222_204310_31000          39              152          92   \n",
       "MUSE_20181222_204312_58000          76              175         178   \n",
       "MUSE_20181222_204314_78000          75              117         104   \n",
       "\n",
       "                            QRSDuration  QTInterval  QTCorrected  RAxis  \\\n",
       "FileName                                                                  \n",
       "MUSE_20180113_171327_27000          114         356          496     81   \n",
       "MUSE_20180112_073319_29000           92         432          401     76   \n",
       "MUSE_20180111_165520_97000           82         382          403     88   \n",
       "MUSE_20180113_121940_44000           96         456          427     34   \n",
       "MUSE_20180112_122850_57000          114         252          413     68   \n",
       "...                                 ...         ...          ...    ...   \n",
       "MUSE_20181222_204306_99000          168         284          513    258   \n",
       "MUSE_20181222_204309_22000          162         294          482    110   \n",
       "MUSE_20181222_204310_31000          152         340          540    250   \n",
       "MUSE_20181222_204312_58000          128         310          529     98   \n",
       "MUSE_20181222_204314_78000          140         312          435    263   \n",
       "\n",
       "                            TAxis  QOnset  QOffset  Gender_0  Gender_1  \n",
       "FileName                                                                \n",
       "MUSE_20180113_171327_27000    -27     208      265         0         1  \n",
       "MUSE_20180112_073319_29000     42     215      261         1         0  \n",
       "MUSE_20180111_165520_97000     20     224      265         1         0  \n",
       "MUSE_20180113_121940_44000      3     219      267         0         1  \n",
       "MUSE_20180112_122850_57000    -40     228      285         1         0  \n",
       "...                           ...     ...      ...       ...       ...  \n",
       "MUSE_20181222_204306_99000    244     177      261         1         0  \n",
       "MUSE_20181222_204309_22000    -75     173      254         1         0  \n",
       "MUSE_20181222_204310_31000     38     208      284         0         1  \n",
       "MUSE_20181222_204312_58000    -83     205      269         0         1  \n",
       "MUSE_20181222_204314_78000    144     208      278         0         1  \n",
       "\n",
       "[10646 rows x 12 columns]"
      ]
     },
     "execution_count": 171,
     "metadata": {},
     "output_type": "execute_result"
    }
   ],
   "source": [
    "data_notNull"
   ]
  },
  {
   "cell_type": "code",
   "execution_count": 174,
   "metadata": {},
   "outputs": [],
   "source": [
    "from sklearn.model_selection import train_test_split\n",
    "X_train, X_test, y_train, y_test = train_test_split(X, y, test_size=0.25,stratify=y, random_state=42)\n",
    "#мое"
   ]
  },
  {
   "cell_type": "code",
   "execution_count": 175,
   "metadata": {},
   "outputs": [
    {
     "data": {
      "text/plain": [
       "(7984, 12)"
      ]
     },
     "execution_count": 175,
     "metadata": {},
     "output_type": "execute_result"
    }
   ],
   "source": [
    "X_train.shape"
   ]
  },
  {
   "cell_type": "code",
   "execution_count": 176,
   "metadata": {},
   "outputs": [
    {
     "data": {
      "text/plain": [
       "2    2916\n",
       "1    1730\n",
       "3    1669\n",
       "0    1669\n",
       "Name: Rhythm, dtype: int64"
      ]
     },
     "execution_count": 176,
     "metadata": {},
     "output_type": "execute_result"
    }
   ],
   "source": [
    "y_train.value_counts()"
   ]
  },
  {
   "cell_type": "markdown",
   "metadata": {},
   "source": [
    "## Training and Evaluting Model "
   ]
  },
  {
   "cell_type": "code",
   "execution_count": 194,
   "metadata": {},
   "outputs": [],
   "source": [
    "from sklearn.model_selection import GridSearchCV\n",
    "from sklearn.model_selection import cross_val_score\n",
    "from sklearn.metrics import confusion_matrix\n",
    "from sklearn.metrics import accuracy_score\n",
    "from sklearn.metrics import f1_score\n",
    "from sklearn.metrics import precision_score\n",
    "from sklearn.metrics import recall_score"
   ]
  },
  {
   "cell_type": "markdown",
   "metadata": {},
   "source": [
    "### SVC"
   ]
  },
  {
   "cell_type": "code",
   "execution_count": 195,
   "metadata": {},
   "outputs": [
    {
     "data": {
      "text/plain": [
       "SVC()"
      ]
     },
     "execution_count": 195,
     "metadata": {},
     "output_type": "execute_result"
    }
   ],
   "source": [
    "from sklearn.svm import SVC\n",
    "clf = SVC()\n",
    "clf.fit(X_train, y_train)"
   ]
  },
  {
   "cell_type": "code",
   "execution_count": 196,
   "metadata": {},
   "outputs": [
    {
     "name": "stdout",
     "output_type": "stream",
     "text": [
      "recall test:  0.8190539051798917\n",
      "presion test:  0.8363121861262433\n",
      "f1_score test:  0.8212584077206749\n"
     ]
    }
   ],
   "source": [
    "y_pred=clf.predict(X_test)\n",
    "\n",
    "print(\"recall test: \",recall_score(y_test.values, y_pred,average='macro'))\n",
    "print(\"presion test: \",precision_score(y_test.values,y_pred ,average='macro'))\n",
    "print(\"f1_score test: \",f1_score(y_test.values, y_pred,average='macro'))"
   ]
  },
  {
   "cell_type": "code",
   "execution_count": 197,
   "metadata": {},
   "outputs": [
    {
     "data": {
      "text/plain": [
       "array([[335, 127,  30,  64],\n",
       "       [ 50, 518,   1,   8],\n",
       "       [  0,   0, 972,   1],\n",
       "       [ 25,  35,  64, 432]], dtype=int64)"
      ]
     },
     "execution_count": 197,
     "metadata": {},
     "output_type": "execute_result"
    }
   ],
   "source": [
    "confusion_matrix(y_test.values, y_pred)\n",
    "conf_mx = confusion_matrix(y_test.values, y_pred) #посылаем предсказанные значения и истинные\n",
    "conf_mx"
   ]
  },
  {
   "cell_type": "code",
   "execution_count": 198,
   "metadata": {},
   "outputs": [
    {
     "data": {
      "image/png": "[encoded data removed]",
      "text/plain": [
       "<Figure size 288x288 with 1 Axes>"
      ]
     },
     "metadata": {
      "needs_background": "light"
     },
     "output_type": "display_data"
    }
   ],
   "source": [
    "plt.matshow(conf_mx, cmap=plt.cm.Blues) \n",
    "plt.show() "
   ]
  },
  {
   "cell_type": "markdown",
   "metadata": {},
   "source": [
    "### KNN"
   ]
  },
  {
   "cell_type": "code",
   "execution_count": 199,
   "metadata": {},
   "outputs": [
    {
     "data": {
      "text/plain": [
       "KNeighborsClassifier()"
      ]
     },
     "execution_count": 199,
     "metadata": {},
     "output_type": "execute_result"
    }
   ],
   "source": [
    "from sklearn.neighbors import KNeighborsClassifier\n",
    "from sklearn.model_selection import ShuffleSplit\n",
    "clf = KNeighborsClassifier()\n",
    "cv = ShuffleSplit(n_splits=3, random_state=42)\n",
    "\n",
    "clf.fit(X_train, y_train)"
   ]
  },
  {
   "cell_type": "code",
   "execution_count": 214,
   "metadata": {},
   "outputs": [
    {
     "name": "stdout",
     "output_type": "stream",
     "text": [
      "recall test:  0.9065271427324593\n",
      "presion test:  0.9086353208837642\n",
      "f1_score test:  0.9073623027346553\n"
     ]
    }
   ],
   "source": [
    "y_pred=clf.predict(X_test)\n",
    "\n",
    "print(\"recall test: \",recall_score(y_test.values, y_pred,average='macro'))\n",
    "print(\"presion test: \",precision_score(y_test.values,y_pred ,average='macro'))\n",
    "print(\"f1_score test: \",f1_score(y_test.values, y_pred,average='macro'))"
   ]
  },
  {
   "cell_type": "code",
   "execution_count": 215,
   "metadata": {},
   "outputs": [
    {
     "data": {
      "text/plain": [
       "array([[445,  73,  13,  25],\n",
       "       [ 55, 511,   1,  10],\n",
       "       [  1,   0, 969,   3],\n",
       "       [ 23,   0,   8, 525]], dtype=int64)"
      ]
     },
     "execution_count": 215,
     "metadata": {},
     "output_type": "execute_result"
    }
   ],
   "source": [
    "confusion_matrix(y_test.values, y_pred)\n",
    "conf_mx = confusion_matrix(y_test.values, y_pred) \n",
    "conf_mx"
   ]
  },
  {
   "cell_type": "code",
   "execution_count": 216,
   "metadata": {},
   "outputs": [
    {
     "data": {
      "image/png": "[encoded data removed]",
      "text/plain": [
       "<Figure size 288x288 with 1 Axes>"
      ]
     },
     "metadata": {
      "needs_background": "light"
     },
     "output_type": "display_data"
    }
   ],
   "source": [
    "plt.matshow(conf_mx, cmap=plt.cm.Blues) \n",
    "plt.show() "
   ]
  },
  {
   "cell_type": "markdown",
   "metadata": {},
   "source": [
    "### RandomForest"
   ]
  },
  {
   "cell_type": "code",
   "execution_count": 217,
   "metadata": {},
   "outputs": [
    {
     "data": {
      "text/plain": [
       "RandomForestClassifier()"
      ]
     },
     "execution_count": 217,
     "metadata": {},
     "output_type": "execute_result"
    }
   ],
   "source": [
    "from sklearn.ensemble import RandomForestClassifier\n",
    "\n",
    "clf = RandomForestClassifier()\n",
    "clf.fit(X_train, y_train)"
   ]
  },
  {
   "cell_type": "code",
   "execution_count": 218,
   "metadata": {},
   "outputs": [
    {
     "name": "stdout",
     "output_type": "stream",
     "text": [
      "recall test:  0.8970846966892938\n",
      "presion test:  0.8988273207761122\n",
      "f1_score test:  0.8977799860047511\n"
     ]
    }
   ],
   "source": [
    "y_pred=clf.predict(X_test)\n",
    "\n",
    "print(\"recall test: \",recall_score(y_test.values, y_pred,average='macro'))\n",
    "print(\"presion test: \",precision_score(y_test.values,y_pred ,average='macro'))\n",
    "print(\"f1_score test: \",f1_score(y_test.values, y_pred,average='macro'))"
   ]
  },
  {
   "cell_type": "code",
   "execution_count": 219,
   "metadata": {},
   "outputs": [
    {
     "data": {
      "text/plain": [
       "array([[436,  71,  12,  37],\n",
       "       [ 55, 511,   1,  10],\n",
       "       [  1,   0, 969,   3],\n",
       "       [ 35,   0,   8, 513]], dtype=int64)"
      ]
     },
     "execution_count": 219,
     "metadata": {},
     "output_type": "execute_result"
    }
   ],
   "source": [
    "confusion_matrix(y_test.values, y_pred)\n",
    "conf_mx = confusion_matrix(y_test.values, y_pred) \n",
    "conf_mx"
   ]
  },
  {
   "cell_type": "code",
   "execution_count": 220,
   "metadata": {},
   "outputs": [
    {
     "data": {
      "image/png": "[encoded data removed]",
      "text/plain": [
       "<Figure size 288x288 with 1 Axes>"
      ]
     },
     "metadata": {
      "needs_background": "light"
     },
     "output_type": "display_data"
    }
   ],
   "source": [
    "plt.matshow(conf_mx, cmap=plt.cm.Blues) \n",
    "plt.show() "
   ]
  },
  {
   "cell_type": "markdown",
   "metadata": {},
   "source": [
    "### GradientBoostingClassifier"
   ]
  },
  {
   "cell_type": "code",
   "execution_count": 221,
   "metadata": {},
   "outputs": [
    {
     "data": {
      "text/plain": [
       "GradientBoostingClassifier()"
      ]
     },
     "execution_count": 221,
     "metadata": {},
     "output_type": "execute_result"
    }
   ],
   "source": [
    "from sklearn.ensemble import GradientBoostingClassifier\n",
    "clf = GradientBoostingClassifier()\n",
    "clf.fit(X_train, y_train)"
   ]
  },
  {
   "cell_type": "code",
   "execution_count": 222,
   "metadata": {},
   "outputs": [
    {
     "name": "stdout",
     "output_type": "stream",
     "text": [
      "recall test:  0.9065271427324593\n",
      "presion test:  0.9086353208837642\n",
      "f1_score test:  0.9073623027346553\n"
     ]
    }
   ],
   "source": [
    "y_pred=clf.predict(X_test)\n",
    "\n",
    "print(\"recall test: \",recall_score(y_test.values, y_pred,average='macro'))\n",
    "print(\"presion test: \",precision_score(y_test.values,y_pred ,average='macro'))\n",
    "print(\"f1_score test: \",f1_score(y_test.values, y_pred,average='macro'))\n"
   ]
  },
  {
   "cell_type": "code",
   "execution_count": 223,
   "metadata": {},
   "outputs": [
    {
     "data": {
      "text/plain": [
       "array([[445,  73,  13,  25],\n",
       "       [ 55, 511,   1,  10],\n",
       "       [  1,   0, 969,   3],\n",
       "       [ 23,   0,   8, 525]], dtype=int64)"
      ]
     },
     "execution_count": 223,
     "metadata": {},
     "output_type": "execute_result"
    }
   ],
   "source": [
    "confusion_matrix(y_test.values, y_pred)\n",
    "conf_mx = confusion_matrix(y_test.values, y_pred)\n",
    "conf_mx"
   ]
  },
  {
   "cell_type": "code",
   "execution_count": 224,
   "metadata": {},
   "outputs": [
    {
     "data": {
      "image/png": "[encoded data removed]",
      "text/plain": [
       "<Figure size 288x288 with 1 Axes>"
      ]
     },
     "metadata": {
      "needs_background": "light"
     },
     "output_type": "display_data"
    }
   ],
   "source": [
    "plt.matshow(conf_mx, cmap=plt.cm.Blues) \n",
    "plt.show() "
   ]
  },
  {
   "cell_type": "code",
   "execution_count": null,
   "metadata": {},
   "outputs": [],
   "source": []
  },
  {
   "cell_type": "code",
   "execution_count": null,
   "metadata": {},
   "outputs": [],
   "source": []
  },
  {
   "cell_type": "code",
   "execution_count": null,
   "metadata": {},
   "outputs": [],
   "source": []
  }
 ],
 "metadata": {
  "kernelspec": {
   "display_name": "Python 3",
   "language": "python",
   "name": "python3"
  },
  "language_info": {
   "codemirror_mode": {
    "name": "ipython",
    "version": 3
   },
   "file_extension": ".py",
   "mimetype": "text/x-python",
   "name": "python",
   "nbconvert_exporter": "python",
   "pygments_lexer": "ipython3",
   "version": "3.8.3"
  }
 },
 "nbformat": 4,
 "nbformat_minor": 4
}
