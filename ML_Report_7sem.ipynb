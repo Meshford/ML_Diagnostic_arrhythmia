{
 "cells": [
  {
   "cell_type": "markdown",
   "metadata": {},
   "source": [
    "<p style=\"text-align: center;\">\n",
    "    Министерство науки и высшего образования Российской Федерации<br>\n",
    "    Федеральное государственное автономное образовательное учреждение высшего образования «Национальный исследовательский Нижегородский государственный университет им. Н.И. Лобачевского»<br>\n",
    "    <br>\n",
    "    Институт Информационных технологий, математики и механики<br>\n",
    "    <br><br><br>\n",
    "    Отчет по учебной практике<br>\n",
    "    <h1 style=\"text-align: center;\">Исследование сигнала ЭКГ с целью выявления сердечно-сосудистых заболеваний посредством нейросетей</h1>\n",
    "</p>\n",
    "<br><br><br><br><br>\n",
    "<p style = \"text-align: left; margin-left: 80%;\">\n",
    "    Выполнил:<br>\n",
    "    студент гр. 381803-1<br>\n",
    "    <p style = \"text-align: left; margin-left: 90%;\">\n",
    "        Мешалкин Н.А.\n",
    "    </p>\n",
    "</p>\n",
    "<br><br><br>\n",
    "<p style = \"text-align: left; margin-left: 80%;\">\n",
    "    Проверил:<br>\n",
    "    директор ИИТММ, заведующий кафедрой АГДМ<br>\n",
    "    <p style = \"text-align: left; margin-left: 90%;\">\n",
    "        Золотых Ю.Н.\n",
    "    </p>\n",
    "</p>\n",
    "<br><br><br><br>\n",
    "<p style=\"text-align: center\">\n",
    "    Нижний Новгород<br>\n",
    "    2021\n",
    "</p>"
   ]
  },
  {
   "cell_type": "markdown",
   "metadata": {},
   "source": [
    "# Введение"
   ]
  },
  {
   "cell_type": "markdown",
   "metadata": {},
   "source": [
    "**Описание работы:**  \n",
    "Работа осуществляется с недавно открытой (2019г.) исследовательской базой данных под эгидой Chapman University и Shaoxing People's Hospital для сигналов электрокардиограмм в 12 отведениях. База данных направлена на исследования аритмии и других сердечно-сосудистых заболеваний. Некоторые виды аритмий, такие как мерцательная аритмия, оказывают выраженное негативное влияние на здоровье населения и качество жизни в целом. Так как в современном мире работа осуществляется с большим объемом данных, не всегда исследование \"вручную\" врачами-кардиологами возможно. Современные инструменты машинного обучения и статистики могут помочь врачам в исследовании. В связи с этим, работа направлена на исследование базы данных, содержащую ЭКГ в 12 отведениях 10 646 пациентов с частотой дискретизации 500 Гц, которая включает 11 распространенных ритмов и 67 дополнительных сердечно-сосудистых заболеваний, все помечены профессиональными экспертами. Набор данных состоит из 10-секундных 12-мерных наборов ЭКГ и соответсвующих меток для каждого объекта."
   ]
  },
  {
   "cell_type": "markdown",
   "metadata": {},
   "source": [
    "**Цель работы:**  \n",
    "Необходимо \"обработать\" голый сигнал, измеренный в 12 отведениях с частотой дискретизации 500 Гц для 10646 пациентов. Под словом \"обработать\" стоит иметь ввиду применение сегментируюшей нейросети к нашему сигналу. После получения меток для каждого образца, измерить интересующие нас характеристики (метрики). Далее следует проверить метрики, которые были получены уже на размеченных данных из базы данных. Сравнить результаты."
   ]
  },
  {
   "cell_type": "markdown",
   "metadata": {},
   "source": [
    "Данная работа состоит из двух частей:  \n",
    "1) Работа с размеченными данными, проверка характеристик.  \n",
    "2) Работа с голым сигналом, применение к голому сигналу сегментирующей нейросети ННГУ,получение размеченных данных, проверка результатов."
   ]
  },
  {
   "cell_type": "markdown",
   "metadata": {},
   "source": [
    "## Часть 1:"
   ]
  },
  {
   "cell_type": "markdown",
   "metadata": {},
   "source": [
    "Рассмотрим размеченную базу данных, содержащую ЭКГ в 12 отведениях 10 646 пациентов с частотой дискретизации 500 Гц, которая включает 11 общих ритмов и 67 дополнительных сердечно-сосудистых заболеваний."
   ]
  },
  {
   "cell_type": "markdown",
   "metadata": {},
   "source": [
    "Признаки датасета, их свойства и пояснения приведены в таблице №1."
   ]
  },
  {
   "cell_type": "markdown",
   "metadata": {},
   "source": [
    "                                                            Таблица №1."
   ]
  },
  {
   "cell_type": "markdown",
   "metadata": {},
   "source": [
    "*Attributes* | *Type* | *Value Range* | *Description* | \n",
    "--- | --- | --- | --- |\n",
    "FileName | String |  | ECG data file name |\n",
    "Rhythm | String |  | Rhythm Label |\n",
    "Beat | String |  | Other conditions Label |\n",
    "PatientAge | Numeric | 0-999 | Age |\n",
    "Gender | String | MALE/FEMALE | Gender |\n",
    "VentricularRate | Numeric | 0-999 | Ventricular rate in BPM |\n",
    "AtrialRate | Numeric | 0-999 | Atrial rate in BPM |\n",
    "QRSDuration | Numeric | 0-999 | QRS duration in BPM |\n",
    "QTInterval | Numeric | 0-999 | QT interval in msec |\n",
    "QTTCorrected | Numeric | 0-999 | Corrected QT interval in msec | \n",
    "RAxis | Numeric | -179~180 | R axis |\n",
    "TAxis | Numeric | -179~181 | T axis |\n",
    "QRSCount | Numeric | 0-254 | QRS count |\n",
    "QOnset | Numeric | 16 Bit Unsigned | Q onset |\n",
    "QOffset | Numeric | 17 Bit Unsigned | Q offset |\n",
    "TOffset | Numeric | 18 Bit Unsigned | T offset |"
   ]
  },
  {
   "cell_type": "markdown",
   "metadata": {},
   "source": [
    "Именно такие признаки были получены в ходе извлечения признаков у разработчиков базы данных. К основным признакам добавили возраст и пол из-за их важности почти во всех анализах медицинских данных. Характеристики, извлеченные II-го отведения, включают частоту желудочков в ударах в минуту (VentricularRate), предсердную частоту в ударах в минуту (AtrialRate), продолжительность QRS в миллисекундах (QRSDuration), интервал QT в миллисекундах (QTInterval), ось R (RAxis), ось T (TAxis), количество QRS (QRSCount), начало Q (QOnset), смещение Q (QOffset), среднее значение интервала RR, дисперсия интервала RR, количество интервалов RR."
   ]
  },
  {
   "cell_type": "markdown",
   "metadata": {},
   "source": [
    "Таким образом, наш датасет состоит из 10646 объектов/сэмплов (пациенты), у которых признаками являются признаки, полученные в результате исследования голого сигнала ЭКГ (признаки приведены в таблице №1). Нам необходимо будет предсказывать посредством алгоритмов машинного обучения признак Rhytnm, который отображает нарушение сердечного ритма у данного пациента."
   ]
  },
  {
   "cell_type": "markdown",
   "metadata": {},
   "source": [
    "Прочитаем данные:"
   ]
  },
  {
   "cell_type": "code",
   "execution_count": 2,
   "metadata": {},
   "outputs": [],
   "source": [
    "import sklearn\n",
    "import pandas as pd\n",
    "pd.options.mode.chained_assignment = None \n",
    "import numpy as np \n",
    "import matplotlib.pyplot as plt \n",
    "import seaborn as sns "
   ]
  },
  {
   "cell_type": "code",
   "execution_count": 3,
   "metadata": {},
   "outputs": [
    {
     "data": {
      "text/html": [
       "<div>\n",
       "<style scoped>\n",
       "    .dataframe tbody tr th:only-of-type {\n",
       "        vertical-align: middle;\n",
       "    }\n",
       "\n",
       "    .dataframe tbody tr th {\n",
       "        vertical-align: top;\n",
       "    }\n",
       "\n",
       "    .dataframe thead th {\n",
       "        text-align: right;\n",
       "    }\n",
       "</style>\n",
       "<table border=\"1\" class=\"dataframe\">\n",
       "  <thead>\n",
       "    <tr style=\"text-align: right;\">\n",
       "      <th></th>\n",
       "      <th>Rhythm</th>\n",
       "      <th>Beat</th>\n",
       "      <th>PatientAge</th>\n",
       "      <th>Gender</th>\n",
       "      <th>VentricularRate</th>\n",
       "      <th>AtrialRate</th>\n",
       "      <th>QRSDuration</th>\n",
       "      <th>QTInterval</th>\n",
       "      <th>QTCorrected</th>\n",
       "      <th>RAxis</th>\n",
       "      <th>TAxis</th>\n",
       "      <th>QRSCount</th>\n",
       "      <th>QOnset</th>\n",
       "      <th>QOffset</th>\n",
       "      <th>TOffset</th>\n",
       "    </tr>\n",
       "    <tr>\n",
       "      <th>FileName</th>\n",
       "      <th></th>\n",
       "      <th></th>\n",
       "      <th></th>\n",
       "      <th></th>\n",
       "      <th></th>\n",
       "      <th></th>\n",
       "      <th></th>\n",
       "      <th></th>\n",
       "      <th></th>\n",
       "      <th></th>\n",
       "      <th></th>\n",
       "      <th></th>\n",
       "      <th></th>\n",
       "      <th></th>\n",
       "      <th></th>\n",
       "    </tr>\n",
       "  </thead>\n",
       "  <tbody>\n",
       "    <tr>\n",
       "      <th>MUSE_20180113_171327_27000</th>\n",
       "      <td>AFIB</td>\n",
       "      <td>RBBB TWC</td>\n",
       "      <td>85</td>\n",
       "      <td>MALE</td>\n",
       "      <td>117</td>\n",
       "      <td>234</td>\n",
       "      <td>114</td>\n",
       "      <td>356</td>\n",
       "      <td>496</td>\n",
       "      <td>81</td>\n",
       "      <td>-27</td>\n",
       "      <td>19</td>\n",
       "      <td>208</td>\n",
       "      <td>265</td>\n",
       "      <td>386</td>\n",
       "    </tr>\n",
       "    <tr>\n",
       "      <th>MUSE_20180112_073319_29000</th>\n",
       "      <td>SB</td>\n",
       "      <td>TWC</td>\n",
       "      <td>59</td>\n",
       "      <td>FEMALE</td>\n",
       "      <td>52</td>\n",
       "      <td>52</td>\n",
       "      <td>92</td>\n",
       "      <td>432</td>\n",
       "      <td>401</td>\n",
       "      <td>76</td>\n",
       "      <td>42</td>\n",
       "      <td>8</td>\n",
       "      <td>215</td>\n",
       "      <td>261</td>\n",
       "      <td>431</td>\n",
       "    </tr>\n",
       "    <tr>\n",
       "      <th>MUSE_20180111_165520_97000</th>\n",
       "      <td>SA</td>\n",
       "      <td>NONE</td>\n",
       "      <td>20</td>\n",
       "      <td>FEMALE</td>\n",
       "      <td>67</td>\n",
       "      <td>67</td>\n",
       "      <td>82</td>\n",
       "      <td>382</td>\n",
       "      <td>403</td>\n",
       "      <td>88</td>\n",
       "      <td>20</td>\n",
       "      <td>11</td>\n",
       "      <td>224</td>\n",
       "      <td>265</td>\n",
       "      <td>415</td>\n",
       "    </tr>\n",
       "    <tr>\n",
       "      <th>MUSE_20180113_121940_44000</th>\n",
       "      <td>SB</td>\n",
       "      <td>NONE</td>\n",
       "      <td>66</td>\n",
       "      <td>MALE</td>\n",
       "      <td>53</td>\n",
       "      <td>53</td>\n",
       "      <td>96</td>\n",
       "      <td>456</td>\n",
       "      <td>427</td>\n",
       "      <td>34</td>\n",
       "      <td>3</td>\n",
       "      <td>9</td>\n",
       "      <td>219</td>\n",
       "      <td>267</td>\n",
       "      <td>447</td>\n",
       "    </tr>\n",
       "    <tr>\n",
       "      <th>MUSE_20180112_122850_57000</th>\n",
       "      <td>AF</td>\n",
       "      <td>STDD STTC</td>\n",
       "      <td>73</td>\n",
       "      <td>FEMALE</td>\n",
       "      <td>162</td>\n",
       "      <td>162</td>\n",
       "      <td>114</td>\n",
       "      <td>252</td>\n",
       "      <td>413</td>\n",
       "      <td>68</td>\n",
       "      <td>-40</td>\n",
       "      <td>26</td>\n",
       "      <td>228</td>\n",
       "      <td>285</td>\n",
       "      <td>354</td>\n",
       "    </tr>\n",
       "    <tr>\n",
       "      <th>...</th>\n",
       "      <td>...</td>\n",
       "      <td>...</td>\n",
       "      <td>...</td>\n",
       "      <td>...</td>\n",
       "      <td>...</td>\n",
       "      <td>...</td>\n",
       "      <td>...</td>\n",
       "      <td>...</td>\n",
       "      <td>...</td>\n",
       "      <td>...</td>\n",
       "      <td>...</td>\n",
       "      <td>...</td>\n",
       "      <td>...</td>\n",
       "      <td>...</td>\n",
       "      <td>...</td>\n",
       "    </tr>\n",
       "    <tr>\n",
       "      <th>MUSE_20181222_204306_99000</th>\n",
       "      <td>SVT</td>\n",
       "      <td>NONE</td>\n",
       "      <td>80</td>\n",
       "      <td>FEMALE</td>\n",
       "      <td>196</td>\n",
       "      <td>73</td>\n",
       "      <td>168</td>\n",
       "      <td>284</td>\n",
       "      <td>513</td>\n",
       "      <td>258</td>\n",
       "      <td>244</td>\n",
       "      <td>32</td>\n",
       "      <td>177</td>\n",
       "      <td>261</td>\n",
       "      <td>319</td>\n",
       "    </tr>\n",
       "    <tr>\n",
       "      <th>MUSE_20181222_204309_22000</th>\n",
       "      <td>SVT</td>\n",
       "      <td>NONE</td>\n",
       "      <td>81</td>\n",
       "      <td>FEMALE</td>\n",
       "      <td>162</td>\n",
       "      <td>81</td>\n",
       "      <td>162</td>\n",
       "      <td>294</td>\n",
       "      <td>482</td>\n",
       "      <td>110</td>\n",
       "      <td>-75</td>\n",
       "      <td>27</td>\n",
       "      <td>173</td>\n",
       "      <td>254</td>\n",
       "      <td>320</td>\n",
       "    </tr>\n",
       "    <tr>\n",
       "      <th>MUSE_20181222_204310_31000</th>\n",
       "      <td>SVT</td>\n",
       "      <td>NONE</td>\n",
       "      <td>39</td>\n",
       "      <td>MALE</td>\n",
       "      <td>152</td>\n",
       "      <td>92</td>\n",
       "      <td>152</td>\n",
       "      <td>340</td>\n",
       "      <td>540</td>\n",
       "      <td>250</td>\n",
       "      <td>38</td>\n",
       "      <td>25</td>\n",
       "      <td>208</td>\n",
       "      <td>284</td>\n",
       "      <td>378</td>\n",
       "    </tr>\n",
       "    <tr>\n",
       "      <th>MUSE_20181222_204312_58000</th>\n",
       "      <td>SVT</td>\n",
       "      <td>NONE</td>\n",
       "      <td>76</td>\n",
       "      <td>MALE</td>\n",
       "      <td>175</td>\n",
       "      <td>178</td>\n",
       "      <td>128</td>\n",
       "      <td>310</td>\n",
       "      <td>529</td>\n",
       "      <td>98</td>\n",
       "      <td>-83</td>\n",
       "      <td>29</td>\n",
       "      <td>205</td>\n",
       "      <td>269</td>\n",
       "      <td>360</td>\n",
       "    </tr>\n",
       "    <tr>\n",
       "      <th>MUSE_20181222_204314_78000</th>\n",
       "      <td>SVT</td>\n",
       "      <td>NONE</td>\n",
       "      <td>75</td>\n",
       "      <td>MALE</td>\n",
       "      <td>117</td>\n",
       "      <td>104</td>\n",
       "      <td>140</td>\n",
       "      <td>312</td>\n",
       "      <td>435</td>\n",
       "      <td>263</td>\n",
       "      <td>144</td>\n",
       "      <td>19</td>\n",
       "      <td>208</td>\n",
       "      <td>278</td>\n",
       "      <td>364</td>\n",
       "    </tr>\n",
       "  </tbody>\n",
       "</table>\n",
       "<p>10646 rows × 15 columns</p>\n",
       "</div>"
      ],
      "text/plain": [
       "                           Rhythm       Beat  PatientAge  Gender  \\\n",
       "FileName                                                           \n",
       "MUSE_20180113_171327_27000   AFIB   RBBB TWC          85    MALE   \n",
       "MUSE_20180112_073319_29000     SB        TWC          59  FEMALE   \n",
       "MUSE_20180111_165520_97000     SA       NONE          20  FEMALE   \n",
       "MUSE_20180113_121940_44000     SB       NONE          66    MALE   \n",
       "MUSE_20180112_122850_57000     AF  STDD STTC          73  FEMALE   \n",
       "...                           ...        ...         ...     ...   \n",
       "MUSE_20181222_204306_99000    SVT       NONE          80  FEMALE   \n",
       "MUSE_20181222_204309_22000    SVT       NONE          81  FEMALE   \n",
       "MUSE_20181222_204310_31000    SVT       NONE          39    MALE   \n",
       "MUSE_20181222_204312_58000    SVT       NONE          76    MALE   \n",
       "MUSE_20181222_204314_78000    SVT       NONE          75    MALE   \n",
       "\n",
       "                            VentricularRate  AtrialRate  QRSDuration  \\\n",
       "FileName                                                               \n",
       "MUSE_20180113_171327_27000              117         234          114   \n",
       "MUSE_20180112_073319_29000               52          52           92   \n",
       "MUSE_20180111_165520_97000               67          67           82   \n",
       "MUSE_20180113_121940_44000               53          53           96   \n",
       "MUSE_20180112_122850_57000              162         162          114   \n",
       "...                                     ...         ...          ...   \n",
       "MUSE_20181222_204306_99000              196          73          168   \n",
       "MUSE_20181222_204309_22000              162          81          162   \n",
       "MUSE_20181222_204310_31000              152          92          152   \n",
       "MUSE_20181222_204312_58000              175         178          128   \n",
       "MUSE_20181222_204314_78000              117         104          140   \n",
       "\n",
       "                            QTInterval  QTCorrected  RAxis  TAxis  QRSCount  \\\n",
       "FileName                                                                      \n",
       "MUSE_20180113_171327_27000         356          496     81    -27        19   \n",
       "MUSE_20180112_073319_29000         432          401     76     42         8   \n",
       "MUSE_20180111_165520_97000         382          403     88     20        11   \n",
       "MUSE_20180113_121940_44000         456          427     34      3         9   \n",
       "MUSE_20180112_122850_57000         252          413     68    -40        26   \n",
       "...                                ...          ...    ...    ...       ...   \n",
       "MUSE_20181222_204306_99000         284          513    258    244        32   \n",
       "MUSE_20181222_204309_22000         294          482    110    -75        27   \n",
       "MUSE_20181222_204310_31000         340          540    250     38        25   \n",
       "MUSE_20181222_204312_58000         310          529     98    -83        29   \n",
       "MUSE_20181222_204314_78000         312          435    263    144        19   \n",
       "\n",
       "                            QOnset  QOffset  TOffset  \n",
       "FileName                                              \n",
       "MUSE_20180113_171327_27000     208      265      386  \n",
       "MUSE_20180112_073319_29000     215      261      431  \n",
       "MUSE_20180111_165520_97000     224      265      415  \n",
       "MUSE_20180113_121940_44000     219      267      447  \n",
       "MUSE_20180112_122850_57000     228      285      354  \n",
       "...                            ...      ...      ...  \n",
       "MUSE_20181222_204306_99000     177      261      319  \n",
       "MUSE_20181222_204309_22000     173      254      320  \n",
       "MUSE_20181222_204310_31000     208      284      378  \n",
       "MUSE_20181222_204312_58000     205      269      360  \n",
       "MUSE_20181222_204314_78000     208      278      364  \n",
       "\n",
       "[10646 rows x 15 columns]"
      ]
     },
     "execution_count": 3,
     "metadata": {},
     "output_type": "execute_result"
    }
   ],
   "source": [
    "data = pd.read_csv(\"data/Diagnostics.csv\",delimiter=';',index_col='FileName')\n",
    "data"
   ]
  },
  {
   "cell_type": "markdown",
   "metadata": {},
   "source": [
    "Нас интересует столбец \"Rhythm\". Рассмотрим его значения подробнее."
   ]
  },
  {
   "cell_type": "code",
   "execution_count": 4,
   "metadata": {},
   "outputs": [
    {
     "data": {
      "text/plain": [
       "SB       3889\n",
       "SR       1826\n",
       "AFIB     1780\n",
       "ST       1568\n",
       "SVT       587\n",
       "AF        445\n",
       "SA        399\n",
       "AT        121\n",
       "AVNRT      16\n",
       "AVRT        8\n",
       "SAAWR       7\n",
       "Name: Rhythm, dtype: int64"
      ]
     },
     "execution_count": 4,
     "metadata": {},
     "output_type": "execute_result"
    }
   ],
   "source": [
    "data[\"Rhythm\"].value_counts()"
   ]
  },
  {
   "cell_type": "markdown",
   "metadata": {},
   "source": [
    "Видим, что присутствует дисбаланс классов. Чтобы углубиться в проблему, рассмтотрим наши метки и разберемся, что они из себя представляют.  \n",
    "Классы нашего датасета представлены в таблице №2.\n"
   ]
  },
  {
   "cell_type": "markdown",
   "metadata": {},
   "source": [
    "                                                           Таблица №2."
   ]
  },
  {
   "cell_type": "markdown",
   "metadata": {},
   "source": [
    "*Acronym Name* | *Full Name* | *Frequency,n(%)* |\n",
    "--- | --- | --- | \n",
    "SB | Sinus Bradycardia | 3.88(36.53) |\n",
    "SR | Sinus Rhythm | 1.82(17.15) |\n",
    "Beat | Atrial Fibrillation | 1.7(16.72) | \n",
    "PatientAge | Sinus Tachycardia | 1.5(14.73) |\n",
    "Gender | Atrial Flutter | 445 (4.18) |\n",
    "VentricularRate | Sinus Irregularity | 399 (3.75) |\n",
    "AtrialRate | Supraventricular Tachycardia | 587 (5.51) |\n",
    "QRSDuration | Atrial Tachycardia | 121 (1.14) |\n",
    "QTInterval | Atrioventicular Node Reentrant Tachycardia | 16 (0.15) | \n",
    "QTTCorrected | Atrioventicular Reentrant Tachycardia | 8 (0.07) |\n",
    "RAxis | Sinus Atrium to Atrial Wandering Rhythm | 7 (0.07) |\n",
    "All | All | 10.646 (100) |\n"
   ]
  },
  {
   "cell_type": "markdown",
   "metadata": {},
   "source": [
    "Поскольку некоторые ритмы имеют крайне мало образцов, по предложению кардиологов следует объединить несколько редких случаев в типы аритмий верхнего уровня.   \n",
    "Таким образом, 11 ритмов были объединены в 4 группы (SB, AFIB, GSVT, SR), представленные в таблице 3."
   ]
  },
  {
   "cell_type": "markdown",
   "metadata": {},
   "source": [
    "**SB включает:**  \n",
    "1) Синусовую брадикардию (sinus bradycardia (SB))\n",
    "\n",
    "**AFIB состоит:**  \n",
    "1) Фибрилляции предсердий (atrial fibrillation (AFIB)),  \n",
    "2) Трепетания предсердий (and atrial flutter (AF))  \n",
    "  \n",
    "**GSVT содержит:**  \n",
    "1) Наджелудочковая тахикардия (supraventricular tachycardia (SVT)),  \n",
    "2) Предсердная тахикардия( atrial tachycardia (AT)),  \n",
    "3) Атриовентрикулярная возвратная тахикардия в узле(atrioventricular node reentrant tachycardia (AVNRT)),  \n",
    "4) Возвратная атриовентрикулярная тахикардия(atrioventricular reentrant tachycardia (AVRT)),  \n",
    "5) Синусовое предсердие с блуждающим ритмом предсердий(sinus atrium to atrial wandering rhythm (SAAWR)),  \n",
    "6) Синусовая тахикардия (sinus Tachycardia (ST))\n",
    "  \n",
    "**SR включает:**  \n",
    "1) Синусовый ритм (sinus rhythm (SR))  \n",
    "2) Нерегулярность синусового узла (sinus irregularity (SI))"
   ]
  },
  {
   "cell_type": "markdown",
   "metadata": {},
   "source": [
    "                                                  Таблица №3. Итоговые классы."
   ]
  },
  {
   "cell_type": "markdown",
   "metadata": {},
   "source": [
    "*Merged from* | *Merged to* | *Total* |\n",
    "--- | --- | --- | \n",
    "AFIB,AF | AFIB | 3,889 |\n",
    "SVT,AT,SAAWR,ST,AVNRT,AVRT | GSVT | 2,307 |\n",
    "SB | SB | 2,225 | \n",
    "SR,SI | SR | 2,225 |\n",
    "All | All | 10,646 |\n",
    "\n"
   ]
  },
  {
   "cell_type": "markdown",
   "metadata": {},
   "source": [
    "Объединим классы:"
   ]
  },
  {
   "cell_type": "code",
   "execution_count": 5,
   "metadata": {},
   "outputs": [],
   "source": [
    "for i in range(0,len(data[\"Rhythm\"])):\n",
    "    if data['Rhythm'][i]=='AFIB' or data['Rhythm'][i]=='AF':\n",
    "        data['Rhythm'][i]='AFIB'\n",
    "    if data['Rhythm'][i]=='SVT' or data['Rhythm'][i]=='AT' or data['Rhythm'][i]=='AVNRT' or data['Rhythm'][i]=='AVRT'  or data['Rhythm'][i]=='ST' or data['Rhythm'][i]=='SAAWR':\n",
    "        data['Rhythm'][i]='GSVT'\n",
    "    if data['Rhythm'][i]=='SR' or data['Rhythm'][i]=='SA':\n",
    "        data['Rhythm'][i]='SR'"
   ]
  },
  {
   "cell_type": "code",
   "execution_count": 6,
   "metadata": {},
   "outputs": [
    {
     "data": {
      "text/plain": [
       "SB      3889\n",
       "GSVT    2307\n",
       "SR      2225\n",
       "AFIB    2225\n",
       "Name: Rhythm, dtype: int64"
      ]
     },
     "execution_count": 6,
     "metadata": {},
     "output_type": "execute_result"
    }
   ],
   "source": [
    "data['Rhythm'].value_counts()"
   ]
  },
  {
   "cell_type": "markdown",
   "metadata": {},
   "source": [
    "### Работа с данными:"
   ]
  },
  {
   "cell_type": "markdown",
   "metadata": {},
   "source": [
    "##### Проверка коррелирующих признаков"
   ]
  },
  {
   "cell_type": "code",
   "execution_count": 7,
   "metadata": {},
   "outputs": [
    {
     "data": {
      "text/html": [
       "<div>\n",
       "<style scoped>\n",
       "    .dataframe tbody tr th:only-of-type {\n",
       "        vertical-align: middle;\n",
       "    }\n",
       "\n",
       "    .dataframe tbody tr th {\n",
       "        vertical-align: top;\n",
       "    }\n",
       "\n",
       "    .dataframe thead th {\n",
       "        text-align: right;\n",
       "    }\n",
       "</style>\n",
       "<table border=\"1\" class=\"dataframe\">\n",
       "  <thead>\n",
       "    <tr style=\"text-align: right;\">\n",
       "      <th></th>\n",
       "      <th>PatientAge</th>\n",
       "      <th>VentricularRate</th>\n",
       "      <th>AtrialRate</th>\n",
       "      <th>QRSDuration</th>\n",
       "      <th>QTInterval</th>\n",
       "      <th>QTCorrected</th>\n",
       "      <th>RAxis</th>\n",
       "      <th>TAxis</th>\n",
       "      <th>QRSCount</th>\n",
       "      <th>QOnset</th>\n",
       "      <th>QOffset</th>\n",
       "      <th>TOffset</th>\n",
       "    </tr>\n",
       "  </thead>\n",
       "  <tbody>\n",
       "    <tr>\n",
       "      <th>PatientAge</th>\n",
       "      <td>1.000000</td>\n",
       "      <td>0.032784</td>\n",
       "      <td>0.123134</td>\n",
       "      <td>0.095891</td>\n",
       "      <td>0.095131</td>\n",
       "      <td>0.240466</td>\n",
       "      <td>-0.253646</td>\n",
       "      <td>0.083759</td>\n",
       "      <td>0.031308</td>\n",
       "      <td>0.018093</td>\n",
       "      <td>0.114092</td>\n",
       "      <td>0.098501</td>\n",
       "    </tr>\n",
       "    <tr>\n",
       "      <th>VentricularRate</th>\n",
       "      <td>0.032784</td>\n",
       "      <td>1.000000</td>\n",
       "      <td>0.533340</td>\n",
       "      <td>-0.054847</td>\n",
       "      <td>-0.853169</td>\n",
       "      <td>0.421672</td>\n",
       "      <td>0.091437</td>\n",
       "      <td>0.104201</td>\n",
       "      <td>0.997072</td>\n",
       "      <td>0.011266</td>\n",
       "      <td>-0.048688</td>\n",
       "      <td>-0.846037</td>\n",
       "    </tr>\n",
       "    <tr>\n",
       "      <th>AtrialRate</th>\n",
       "      <td>0.123134</td>\n",
       "      <td>0.533340</td>\n",
       "      <td>1.000000</td>\n",
       "      <td>-0.060148</td>\n",
       "      <td>-0.474084</td>\n",
       "      <td>0.252017</td>\n",
       "      <td>0.051855</td>\n",
       "      <td>0.050377</td>\n",
       "      <td>0.530587</td>\n",
       "      <td>0.037640</td>\n",
       "      <td>-0.034009</td>\n",
       "      <td>-0.463366</td>\n",
       "    </tr>\n",
       "    <tr>\n",
       "      <th>QRSDuration</th>\n",
       "      <td>0.095891</td>\n",
       "      <td>-0.054847</td>\n",
       "      <td>-0.060148</td>\n",
       "      <td>1.000000</td>\n",
       "      <td>0.196121</td>\n",
       "      <td>0.188760</td>\n",
       "      <td>-0.084620</td>\n",
       "      <td>0.009285</td>\n",
       "      <td>-0.053868</td>\n",
       "      <td>-0.424377</td>\n",
       "      <td>0.719834</td>\n",
       "      <td>0.103680</td>\n",
       "    </tr>\n",
       "    <tr>\n",
       "      <th>QTInterval</th>\n",
       "      <td>0.095131</td>\n",
       "      <td>-0.853169</td>\n",
       "      <td>-0.474084</td>\n",
       "      <td>0.196121</td>\n",
       "      <td>1.000000</td>\n",
       "      <td>0.025108</td>\n",
       "      <td>-0.123269</td>\n",
       "      <td>-0.056627</td>\n",
       "      <td>-0.850519</td>\n",
       "      <td>-0.082541</td>\n",
       "      <td>0.141702</td>\n",
       "      <td>0.976715</td>\n",
       "    </tr>\n",
       "    <tr>\n",
       "      <th>QTCorrected</th>\n",
       "      <td>0.240466</td>\n",
       "      <td>0.421672</td>\n",
       "      <td>0.252017</td>\n",
       "      <td>0.188760</td>\n",
       "      <td>0.025108</td>\n",
       "      <td>1.000000</td>\n",
       "      <td>-0.048156</td>\n",
       "      <td>0.071952</td>\n",
       "      <td>0.420488</td>\n",
       "      <td>-0.125955</td>\n",
       "      <td>0.100727</td>\n",
       "      <td>-0.002145</td>\n",
       "    </tr>\n",
       "    <tr>\n",
       "      <th>RAxis</th>\n",
       "      <td>-0.253646</td>\n",
       "      <td>0.091437</td>\n",
       "      <td>0.051855</td>\n",
       "      <td>-0.084620</td>\n",
       "      <td>-0.123269</td>\n",
       "      <td>-0.048156</td>\n",
       "      <td>1.000000</td>\n",
       "      <td>0.046593</td>\n",
       "      <td>0.090857</td>\n",
       "      <td>0.061945</td>\n",
       "      <td>-0.040955</td>\n",
       "      <td>-0.109254</td>\n",
       "    </tr>\n",
       "    <tr>\n",
       "      <th>TAxis</th>\n",
       "      <td>0.083759</td>\n",
       "      <td>0.104201</td>\n",
       "      <td>0.050377</td>\n",
       "      <td>0.009285</td>\n",
       "      <td>-0.056627</td>\n",
       "      <td>0.071952</td>\n",
       "      <td>0.046593</td>\n",
       "      <td>1.000000</td>\n",
       "      <td>0.103753</td>\n",
       "      <td>-0.075576</td>\n",
       "      <td>-0.048233</td>\n",
       "      <td>-0.072584</td>\n",
       "    </tr>\n",
       "    <tr>\n",
       "      <th>QRSCount</th>\n",
       "      <td>0.031308</td>\n",
       "      <td>0.997072</td>\n",
       "      <td>0.530587</td>\n",
       "      <td>-0.053868</td>\n",
       "      <td>-0.850519</td>\n",
       "      <td>0.420488</td>\n",
       "      <td>0.090857</td>\n",
       "      <td>0.103753</td>\n",
       "      <td>1.000000</td>\n",
       "      <td>0.010224</td>\n",
       "      <td>-0.048463</td>\n",
       "      <td>-0.843626</td>\n",
       "    </tr>\n",
       "    <tr>\n",
       "      <th>QOnset</th>\n",
       "      <td>0.018093</td>\n",
       "      <td>0.011266</td>\n",
       "      <td>0.037640</td>\n",
       "      <td>-0.424377</td>\n",
       "      <td>-0.082541</td>\n",
       "      <td>-0.125955</td>\n",
       "      <td>0.061945</td>\n",
       "      <td>-0.075576</td>\n",
       "      <td>0.010224</td>\n",
       "      <td>1.000000</td>\n",
       "      <td>0.323058</td>\n",
       "      <td>0.133192</td>\n",
       "    </tr>\n",
       "    <tr>\n",
       "      <th>QOffset</th>\n",
       "      <td>0.114092</td>\n",
       "      <td>-0.048688</td>\n",
       "      <td>-0.034009</td>\n",
       "      <td>0.719834</td>\n",
       "      <td>0.141702</td>\n",
       "      <td>0.100727</td>\n",
       "      <td>-0.040955</td>\n",
       "      <td>-0.048233</td>\n",
       "      <td>-0.048463</td>\n",
       "      <td>0.323058</td>\n",
       "      <td>1.000000</td>\n",
       "      <td>0.210468</td>\n",
       "    </tr>\n",
       "    <tr>\n",
       "      <th>TOffset</th>\n",
       "      <td>0.098501</td>\n",
       "      <td>-0.846037</td>\n",
       "      <td>-0.463366</td>\n",
       "      <td>0.103680</td>\n",
       "      <td>0.976715</td>\n",
       "      <td>-0.002145</td>\n",
       "      <td>-0.109254</td>\n",
       "      <td>-0.072584</td>\n",
       "      <td>-0.843626</td>\n",
       "      <td>0.133192</td>\n",
       "      <td>0.210468</td>\n",
       "      <td>1.000000</td>\n",
       "    </tr>\n",
       "  </tbody>\n",
       "</table>\n",
       "</div>"
      ],
      "text/plain": [
       "                 PatientAge  VentricularRate  AtrialRate  QRSDuration  \\\n",
       "PatientAge         1.000000         0.032784    0.123134     0.095891   \n",
       "VentricularRate    0.032784         1.000000    0.533340    -0.054847   \n",
       "AtrialRate         0.123134         0.533340    1.000000    -0.060148   \n",
       "QRSDuration        0.095891        -0.054847   -0.060148     1.000000   \n",
       "QTInterval         0.095131        -0.853169   -0.474084     0.196121   \n",
       "QTCorrected        0.240466         0.421672    0.252017     0.188760   \n",
       "RAxis             -0.253646         0.091437    0.051855    -0.084620   \n",
       "TAxis              0.083759         0.104201    0.050377     0.009285   \n",
       "QRSCount           0.031308         0.997072    0.530587    -0.053868   \n",
       "QOnset             0.018093         0.011266    0.037640    -0.424377   \n",
       "QOffset            0.114092        -0.048688   -0.034009     0.719834   \n",
       "TOffset            0.098501        -0.846037   -0.463366     0.103680   \n",
       "\n",
       "                 QTInterval  QTCorrected     RAxis     TAxis  QRSCount  \\\n",
       "PatientAge         0.095131     0.240466 -0.253646  0.083759  0.031308   \n",
       "VentricularRate   -0.853169     0.421672  0.091437  0.104201  0.997072   \n",
       "AtrialRate        -0.474084     0.252017  0.051855  0.050377  0.530587   \n",
       "QRSDuration        0.196121     0.188760 -0.084620  0.009285 -0.053868   \n",
       "QTInterval         1.000000     0.025108 -0.123269 -0.056627 -0.850519   \n",
       "QTCorrected        0.025108     1.000000 -0.048156  0.071952  0.420488   \n",
       "RAxis             -0.123269    -0.048156  1.000000  0.046593  0.090857   \n",
       "TAxis             -0.056627     0.071952  0.046593  1.000000  0.103753   \n",
       "QRSCount          -0.850519     0.420488  0.090857  0.103753  1.000000   \n",
       "QOnset            -0.082541    -0.125955  0.061945 -0.075576  0.010224   \n",
       "QOffset            0.141702     0.100727 -0.040955 -0.048233 -0.048463   \n",
       "TOffset            0.976715    -0.002145 -0.109254 -0.072584 -0.843626   \n",
       "\n",
       "                   QOnset   QOffset   TOffset  \n",
       "PatientAge       0.018093  0.114092  0.098501  \n",
       "VentricularRate  0.011266 -0.048688 -0.846037  \n",
       "AtrialRate       0.037640 -0.034009 -0.463366  \n",
       "QRSDuration     -0.424377  0.719834  0.103680  \n",
       "QTInterval      -0.082541  0.141702  0.976715  \n",
       "QTCorrected     -0.125955  0.100727 -0.002145  \n",
       "RAxis            0.061945 -0.040955 -0.109254  \n",
       "TAxis           -0.075576 -0.048233 -0.072584  \n",
       "QRSCount         0.010224 -0.048463 -0.843626  \n",
       "QOnset           1.000000  0.323058  0.133192  \n",
       "QOffset          0.323058  1.000000  0.210468  \n",
       "TOffset          0.133192  0.210468  1.000000  "
      ]
     },
     "execution_count": 7,
     "metadata": {},
     "output_type": "execute_result"
    }
   ],
   "source": [
    "corr_mat = data.corr()\n",
    "corr_mat"
   ]
  },
  {
   "cell_type": "code",
   "execution_count": 8,
   "metadata": {},
   "outputs": [
    {
     "data": {
      "image/png": "[encoded data removed]",
      "text/plain": [
       "<Figure size 432x288 with 2 Axes>"
      ]
     },
     "metadata": {
      "needs_background": "light"
     },
     "output_type": "display_data"
    }
   ],
   "source": [
    "sns.heatmap(corr_mat, square=True, cmap='coolwarm')\n",
    "pass"
   ]
  },
  {
   "cell_type": "markdown",
   "metadata": {},
   "source": [
    "Из матрицы корреляции четко видно что, есть некоторое количество коррелирующих между собой признаков. Рассмотрим их подробнее."
   ]
  },
  {
   "cell_type": "code",
   "execution_count": 9,
   "metadata": {},
   "outputs": [
    {
     "data": {
      "text/plain": [
       "VentricularRate  QRSCount    0.997072\n",
       "QTInterval       TOffset     0.976715\n",
       "dtype: float64"
      ]
     },
     "execution_count": 9,
     "metadata": {},
     "output_type": "execute_result"
    }
   ],
   "source": [
    "corr_mat.where(np.triu(corr_mat > 0.75, k=1)).stack().sort_values(ascending=False)"
   ]
  },
  {
   "cell_type": "markdown",
   "metadata": {},
   "source": [
    "Удалим коррелирующие признаки из нашего датасета."
   ]
  },
  {
   "cell_type": "code",
   "execution_count": 10,
   "metadata": {},
   "outputs": [
    {
     "data": {
      "text/plain": [
       "Series([], dtype: float64)"
      ]
     },
     "execution_count": 10,
     "metadata": {},
     "output_type": "execute_result"
    }
   ],
   "source": [
    "data=data.drop(['TOffset'], axis = 1)\n",
    "data=data.drop(['QRSCount'], axis = 1)\n",
    "\n",
    "corr_mat = data.corr()\n",
    "corr_mat.where(np.triu(corr_mat > 0.75, k=1)).stack().sort_values(ascending=False)\n"
   ]
  },
  {
   "cell_type": "markdown",
   "metadata": {},
   "source": [
    "#####  Приведение данных к одному типу"
   ]
  },
  {
   "cell_type": "code",
   "execution_count": 11,
   "metadata": {},
   "outputs": [
    {
     "data": {
      "text/html": [
       "<div>\n",
       "<style scoped>\n",
       "    .dataframe tbody tr th:only-of-type {\n",
       "        vertical-align: middle;\n",
       "    }\n",
       "\n",
       "    .dataframe tbody tr th {\n",
       "        vertical-align: top;\n",
       "    }\n",
       "\n",
       "    .dataframe thead th {\n",
       "        text-align: right;\n",
       "    }\n",
       "</style>\n",
       "<table border=\"1\" class=\"dataframe\">\n",
       "  <thead>\n",
       "    <tr style=\"text-align: right;\">\n",
       "      <th></th>\n",
       "      <th>Rhythm</th>\n",
       "      <th>PatientAge</th>\n",
       "      <th>Gender</th>\n",
       "      <th>VentricularRate</th>\n",
       "      <th>AtrialRate</th>\n",
       "      <th>QRSDuration</th>\n",
       "      <th>QTInterval</th>\n",
       "      <th>QTCorrected</th>\n",
       "      <th>RAxis</th>\n",
       "      <th>TAxis</th>\n",
       "      <th>QOnset</th>\n",
       "      <th>QOffset</th>\n",
       "    </tr>\n",
       "    <tr>\n",
       "      <th>FileName</th>\n",
       "      <th></th>\n",
       "      <th></th>\n",
       "      <th></th>\n",
       "      <th></th>\n",
       "      <th></th>\n",
       "      <th></th>\n",
       "      <th></th>\n",
       "      <th></th>\n",
       "      <th></th>\n",
       "      <th></th>\n",
       "      <th></th>\n",
       "      <th></th>\n",
       "    </tr>\n",
       "  </thead>\n",
       "  <tbody>\n",
       "    <tr>\n",
       "      <th>MUSE_20180113_171327_27000</th>\n",
       "      <td>AFIB</td>\n",
       "      <td>85</td>\n",
       "      <td>MALE</td>\n",
       "      <td>117</td>\n",
       "      <td>234</td>\n",
       "      <td>114</td>\n",
       "      <td>356</td>\n",
       "      <td>496</td>\n",
       "      <td>81</td>\n",
       "      <td>-27</td>\n",
       "      <td>208</td>\n",
       "      <td>265</td>\n",
       "    </tr>\n",
       "    <tr>\n",
       "      <th>MUSE_20180112_073319_29000</th>\n",
       "      <td>SB</td>\n",
       "      <td>59</td>\n",
       "      <td>FEMALE</td>\n",
       "      <td>52</td>\n",
       "      <td>52</td>\n",
       "      <td>92</td>\n",
       "      <td>432</td>\n",
       "      <td>401</td>\n",
       "      <td>76</td>\n",
       "      <td>42</td>\n",
       "      <td>215</td>\n",
       "      <td>261</td>\n",
       "    </tr>\n",
       "    <tr>\n",
       "      <th>MUSE_20180111_165520_97000</th>\n",
       "      <td>SR</td>\n",
       "      <td>20</td>\n",
       "      <td>FEMALE</td>\n",
       "      <td>67</td>\n",
       "      <td>67</td>\n",
       "      <td>82</td>\n",
       "      <td>382</td>\n",
       "      <td>403</td>\n",
       "      <td>88</td>\n",
       "      <td>20</td>\n",
       "      <td>224</td>\n",
       "      <td>265</td>\n",
       "    </tr>\n",
       "    <tr>\n",
       "      <th>MUSE_20180113_121940_44000</th>\n",
       "      <td>SB</td>\n",
       "      <td>66</td>\n",
       "      <td>MALE</td>\n",
       "      <td>53</td>\n",
       "      <td>53</td>\n",
       "      <td>96</td>\n",
       "      <td>456</td>\n",
       "      <td>427</td>\n",
       "      <td>34</td>\n",
       "      <td>3</td>\n",
       "      <td>219</td>\n",
       "      <td>267</td>\n",
       "    </tr>\n",
       "    <tr>\n",
       "      <th>MUSE_20180112_122850_57000</th>\n",
       "      <td>AFIB</td>\n",
       "      <td>73</td>\n",
       "      <td>FEMALE</td>\n",
       "      <td>162</td>\n",
       "      <td>162</td>\n",
       "      <td>114</td>\n",
       "      <td>252</td>\n",
       "      <td>413</td>\n",
       "      <td>68</td>\n",
       "      <td>-40</td>\n",
       "      <td>228</td>\n",
       "      <td>285</td>\n",
       "    </tr>\n",
       "    <tr>\n",
       "      <th>...</th>\n",
       "      <td>...</td>\n",
       "      <td>...</td>\n",
       "      <td>...</td>\n",
       "      <td>...</td>\n",
       "      <td>...</td>\n",
       "      <td>...</td>\n",
       "      <td>...</td>\n",
       "      <td>...</td>\n",
       "      <td>...</td>\n",
       "      <td>...</td>\n",
       "      <td>...</td>\n",
       "      <td>...</td>\n",
       "    </tr>\n",
       "    <tr>\n",
       "      <th>MUSE_20181222_204306_99000</th>\n",
       "      <td>GSVT</td>\n",
       "      <td>80</td>\n",
       "      <td>FEMALE</td>\n",
       "      <td>196</td>\n",
       "      <td>73</td>\n",
       "      <td>168</td>\n",
       "      <td>284</td>\n",
       "      <td>513</td>\n",
       "      <td>258</td>\n",
       "      <td>244</td>\n",
       "      <td>177</td>\n",
       "      <td>261</td>\n",
       "    </tr>\n",
       "    <tr>\n",
       "      <th>MUSE_20181222_204309_22000</th>\n",
       "      <td>GSVT</td>\n",
       "      <td>81</td>\n",
       "      <td>FEMALE</td>\n",
       "      <td>162</td>\n",
       "      <td>81</td>\n",
       "      <td>162</td>\n",
       "      <td>294</td>\n",
       "      <td>482</td>\n",
       "      <td>110</td>\n",
       "      <td>-75</td>\n",
       "      <td>173</td>\n",
       "      <td>254</td>\n",
       "    </tr>\n",
       "    <tr>\n",
       "      <th>MUSE_20181222_204310_31000</th>\n",
       "      <td>GSVT</td>\n",
       "      <td>39</td>\n",
       "      <td>MALE</td>\n",
       "      <td>152</td>\n",
       "      <td>92</td>\n",
       "      <td>152</td>\n",
       "      <td>340</td>\n",
       "      <td>540</td>\n",
       "      <td>250</td>\n",
       "      <td>38</td>\n",
       "      <td>208</td>\n",
       "      <td>284</td>\n",
       "    </tr>\n",
       "    <tr>\n",
       "      <th>MUSE_20181222_204312_58000</th>\n",
       "      <td>GSVT</td>\n",
       "      <td>76</td>\n",
       "      <td>MALE</td>\n",
       "      <td>175</td>\n",
       "      <td>178</td>\n",
       "      <td>128</td>\n",
       "      <td>310</td>\n",
       "      <td>529</td>\n",
       "      <td>98</td>\n",
       "      <td>-83</td>\n",
       "      <td>205</td>\n",
       "      <td>269</td>\n",
       "    </tr>\n",
       "    <tr>\n",
       "      <th>MUSE_20181222_204314_78000</th>\n",
       "      <td>GSVT</td>\n",
       "      <td>75</td>\n",
       "      <td>MALE</td>\n",
       "      <td>117</td>\n",
       "      <td>104</td>\n",
       "      <td>140</td>\n",
       "      <td>312</td>\n",
       "      <td>435</td>\n",
       "      <td>263</td>\n",
       "      <td>144</td>\n",
       "      <td>208</td>\n",
       "      <td>278</td>\n",
       "    </tr>\n",
       "  </tbody>\n",
       "</table>\n",
       "<p>10646 rows × 12 columns</p>\n",
       "</div>"
      ],
      "text/plain": [
       "                           Rhythm  PatientAge  Gender  VentricularRate  \\\n",
       "FileName                                                                 \n",
       "MUSE_20180113_171327_27000   AFIB          85    MALE              117   \n",
       "MUSE_20180112_073319_29000     SB          59  FEMALE               52   \n",
       "MUSE_20180111_165520_97000     SR          20  FEMALE               67   \n",
       "MUSE_20180113_121940_44000     SB          66    MALE               53   \n",
       "MUSE_20180112_122850_57000   AFIB          73  FEMALE              162   \n",
       "...                           ...         ...     ...              ...   \n",
       "MUSE_20181222_204306_99000   GSVT          80  FEMALE              196   \n",
       "MUSE_20181222_204309_22000   GSVT          81  FEMALE              162   \n",
       "MUSE_20181222_204310_31000   GSVT          39    MALE              152   \n",
       "MUSE_20181222_204312_58000   GSVT          76    MALE              175   \n",
       "MUSE_20181222_204314_78000   GSVT          75    MALE              117   \n",
       "\n",
       "                            AtrialRate  QRSDuration  QTInterval  QTCorrected  \\\n",
       "FileName                                                                       \n",
       "MUSE_20180113_171327_27000         234          114         356          496   \n",
       "MUSE_20180112_073319_29000          52           92         432          401   \n",
       "MUSE_20180111_165520_97000          67           82         382          403   \n",
       "MUSE_20180113_121940_44000          53           96         456          427   \n",
       "MUSE_20180112_122850_57000         162          114         252          413   \n",
       "...                                ...          ...         ...          ...   \n",
       "MUSE_20181222_204306_99000          73          168         284          513   \n",
       "MUSE_20181222_204309_22000          81          162         294          482   \n",
       "MUSE_20181222_204310_31000          92          152         340          540   \n",
       "MUSE_20181222_204312_58000         178          128         310          529   \n",
       "MUSE_20181222_204314_78000         104          140         312          435   \n",
       "\n",
       "                            RAxis  TAxis  QOnset  QOffset  \n",
       "FileName                                                   \n",
       "MUSE_20180113_171327_27000     81    -27     208      265  \n",
       "MUSE_20180112_073319_29000     76     42     215      261  \n",
       "MUSE_20180111_165520_97000     88     20     224      265  \n",
       "MUSE_20180113_121940_44000     34      3     219      267  \n",
       "MUSE_20180112_122850_57000     68    -40     228      285  \n",
       "...                           ...    ...     ...      ...  \n",
       "MUSE_20181222_204306_99000    258    244     177      261  \n",
       "MUSE_20181222_204309_22000    110    -75     173      254  \n",
       "MUSE_20181222_204310_31000    250     38     208      284  \n",
       "MUSE_20181222_204312_58000     98    -83     205      269  \n",
       "MUSE_20181222_204314_78000    263    144     208      278  \n",
       "\n",
       "[10646 rows x 12 columns]"
      ]
     },
     "execution_count": 11,
     "metadata": {},
     "output_type": "execute_result"
    }
   ],
   "source": [
    "data_notNull = data.drop(['Beat'], axis=1) #Удаление столбца Beat, из-за большого числа пропущенных значений\n",
    "data_notNull"
   ]
  },
  {
   "cell_type": "markdown",
   "metadata": {},
   "source": [
    "Воспользуемся функцией Label Encoder. Данная функция маркирует признаки с нечисловыми типами данных и приводит их к числовым."
   ]
  },
  {
   "cell_type": "code",
   "execution_count": 12,
   "metadata": {},
   "outputs": [],
   "source": [
    "from sklearn import preprocessing\n",
    "le = preprocessing.LabelEncoder()\n",
    "\n",
    "le.fit(data['Gender'])\n",
    "data_notNull['Gender']=le.transform(data_notNull['Gender'])\n",
    "le.fit(data_notNull['Rhythm'])\n",
    "data_notNull['Rhythm']=le.transform(data_notNull['Rhythm'])\n",
    "data_notNull=pd.get_dummies(data_notNull, columns=[\"Gender\"])"
   ]
  },
  {
   "cell_type": "code",
   "execution_count": 13,
   "metadata": {},
   "outputs": [
    {
     "data": {
      "text/html": [
       "<div>\n",
       "<style scoped>\n",
       "    .dataframe tbody tr th:only-of-type {\n",
       "        vertical-align: middle;\n",
       "    }\n",
       "\n",
       "    .dataframe tbody tr th {\n",
       "        vertical-align: top;\n",
       "    }\n",
       "\n",
       "    .dataframe thead th {\n",
       "        text-align: right;\n",
       "    }\n",
       "</style>\n",
       "<table border=\"1\" class=\"dataframe\">\n",
       "  <thead>\n",
       "    <tr style=\"text-align: right;\">\n",
       "      <th></th>\n",
       "      <th>Rhythm</th>\n",
       "      <th>PatientAge</th>\n",
       "      <th>VentricularRate</th>\n",
       "      <th>AtrialRate</th>\n",
       "      <th>QRSDuration</th>\n",
       "      <th>QTInterval</th>\n",
       "      <th>QTCorrected</th>\n",
       "      <th>RAxis</th>\n",
       "      <th>TAxis</th>\n",
       "      <th>QOnset</th>\n",
       "      <th>QOffset</th>\n",
       "      <th>Gender_0</th>\n",
       "      <th>Gender_1</th>\n",
       "    </tr>\n",
       "    <tr>\n",
       "      <th>FileName</th>\n",
       "      <th></th>\n",
       "      <th></th>\n",
       "      <th></th>\n",
       "      <th></th>\n",
       "      <th></th>\n",
       "      <th></th>\n",
       "      <th></th>\n",
       "      <th></th>\n",
       "      <th></th>\n",
       "      <th></th>\n",
       "      <th></th>\n",
       "      <th></th>\n",
       "      <th></th>\n",
       "    </tr>\n",
       "  </thead>\n",
       "  <tbody>\n",
       "    <tr>\n",
       "      <th>MUSE_20180113_171327_27000</th>\n",
       "      <td>0</td>\n",
       "      <td>85</td>\n",
       "      <td>117</td>\n",
       "      <td>234</td>\n",
       "      <td>114</td>\n",
       "      <td>356</td>\n",
       "      <td>496</td>\n",
       "      <td>81</td>\n",
       "      <td>-27</td>\n",
       "      <td>208</td>\n",
       "      <td>265</td>\n",
       "      <td>0</td>\n",
       "      <td>1</td>\n",
       "    </tr>\n",
       "    <tr>\n",
       "      <th>MUSE_20180112_073319_29000</th>\n",
       "      <td>2</td>\n",
       "      <td>59</td>\n",
       "      <td>52</td>\n",
       "      <td>52</td>\n",
       "      <td>92</td>\n",
       "      <td>432</td>\n",
       "      <td>401</td>\n",
       "      <td>76</td>\n",
       "      <td>42</td>\n",
       "      <td>215</td>\n",
       "      <td>261</td>\n",
       "      <td>1</td>\n",
       "      <td>0</td>\n",
       "    </tr>\n",
       "    <tr>\n",
       "      <th>MUSE_20180111_165520_97000</th>\n",
       "      <td>3</td>\n",
       "      <td>20</td>\n",
       "      <td>67</td>\n",
       "      <td>67</td>\n",
       "      <td>82</td>\n",
       "      <td>382</td>\n",
       "      <td>403</td>\n",
       "      <td>88</td>\n",
       "      <td>20</td>\n",
       "      <td>224</td>\n",
       "      <td>265</td>\n",
       "      <td>1</td>\n",
       "      <td>0</td>\n",
       "    </tr>\n",
       "    <tr>\n",
       "      <th>MUSE_20180113_121940_44000</th>\n",
       "      <td>2</td>\n",
       "      <td>66</td>\n",
       "      <td>53</td>\n",
       "      <td>53</td>\n",
       "      <td>96</td>\n",
       "      <td>456</td>\n",
       "      <td>427</td>\n",
       "      <td>34</td>\n",
       "      <td>3</td>\n",
       "      <td>219</td>\n",
       "      <td>267</td>\n",
       "      <td>0</td>\n",
       "      <td>1</td>\n",
       "    </tr>\n",
       "    <tr>\n",
       "      <th>MUSE_20180112_122850_57000</th>\n",
       "      <td>0</td>\n",
       "      <td>73</td>\n",
       "      <td>162</td>\n",
       "      <td>162</td>\n",
       "      <td>114</td>\n",
       "      <td>252</td>\n",
       "      <td>413</td>\n",
       "      <td>68</td>\n",
       "      <td>-40</td>\n",
       "      <td>228</td>\n",
       "      <td>285</td>\n",
       "      <td>1</td>\n",
       "      <td>0</td>\n",
       "    </tr>\n",
       "    <tr>\n",
       "      <th>...</th>\n",
       "      <td>...</td>\n",
       "      <td>...</td>\n",
       "      <td>...</td>\n",
       "      <td>...</td>\n",
       "      <td>...</td>\n",
       "      <td>...</td>\n",
       "      <td>...</td>\n",
       "      <td>...</td>\n",
       "      <td>...</td>\n",
       "      <td>...</td>\n",
       "      <td>...</td>\n",
       "      <td>...</td>\n",
       "      <td>...</td>\n",
       "    </tr>\n",
       "    <tr>\n",
       "      <th>MUSE_20181222_204306_99000</th>\n",
       "      <td>1</td>\n",
       "      <td>80</td>\n",
       "      <td>196</td>\n",
       "      <td>73</td>\n",
       "      <td>168</td>\n",
       "      <td>284</td>\n",
       "      <td>513</td>\n",
       "      <td>258</td>\n",
       "      <td>244</td>\n",
       "      <td>177</td>\n",
       "      <td>261</td>\n",
       "      <td>1</td>\n",
       "      <td>0</td>\n",
       "    </tr>\n",
       "    <tr>\n",
       "      <th>MUSE_20181222_204309_22000</th>\n",
       "      <td>1</td>\n",
       "      <td>81</td>\n",
       "      <td>162</td>\n",
       "      <td>81</td>\n",
       "      <td>162</td>\n",
       "      <td>294</td>\n",
       "      <td>482</td>\n",
       "      <td>110</td>\n",
       "      <td>-75</td>\n",
       "      <td>173</td>\n",
       "      <td>254</td>\n",
       "      <td>1</td>\n",
       "      <td>0</td>\n",
       "    </tr>\n",
       "    <tr>\n",
       "      <th>MUSE_20181222_204310_31000</th>\n",
       "      <td>1</td>\n",
       "      <td>39</td>\n",
       "      <td>152</td>\n",
       "      <td>92</td>\n",
       "      <td>152</td>\n",
       "      <td>340</td>\n",
       "      <td>540</td>\n",
       "      <td>250</td>\n",
       "      <td>38</td>\n",
       "      <td>208</td>\n",
       "      <td>284</td>\n",
       "      <td>0</td>\n",
       "      <td>1</td>\n",
       "    </tr>\n",
       "    <tr>\n",
       "      <th>MUSE_20181222_204312_58000</th>\n",
       "      <td>1</td>\n",
       "      <td>76</td>\n",
       "      <td>175</td>\n",
       "      <td>178</td>\n",
       "      <td>128</td>\n",
       "      <td>310</td>\n",
       "      <td>529</td>\n",
       "      <td>98</td>\n",
       "      <td>-83</td>\n",
       "      <td>205</td>\n",
       "      <td>269</td>\n",
       "      <td>0</td>\n",
       "      <td>1</td>\n",
       "    </tr>\n",
       "    <tr>\n",
       "      <th>MUSE_20181222_204314_78000</th>\n",
       "      <td>1</td>\n",
       "      <td>75</td>\n",
       "      <td>117</td>\n",
       "      <td>104</td>\n",
       "      <td>140</td>\n",
       "      <td>312</td>\n",
       "      <td>435</td>\n",
       "      <td>263</td>\n",
       "      <td>144</td>\n",
       "      <td>208</td>\n",
       "      <td>278</td>\n",
       "      <td>0</td>\n",
       "      <td>1</td>\n",
       "    </tr>\n",
       "  </tbody>\n",
       "</table>\n",
       "<p>10646 rows × 13 columns</p>\n",
       "</div>"
      ],
      "text/plain": [
       "                            Rhythm  PatientAge  VentricularRate  AtrialRate  \\\n",
       "FileName                                                                      \n",
       "MUSE_20180113_171327_27000       0          85              117         234   \n",
       "MUSE_20180112_073319_29000       2          59               52          52   \n",
       "MUSE_20180111_165520_97000       3          20               67          67   \n",
       "MUSE_20180113_121940_44000       2          66               53          53   \n",
       "MUSE_20180112_122850_57000       0          73              162         162   \n",
       "...                            ...         ...              ...         ...   \n",
       "MUSE_20181222_204306_99000       1          80              196          73   \n",
       "MUSE_20181222_204309_22000       1          81              162          81   \n",
       "MUSE_20181222_204310_31000       1          39              152          92   \n",
       "MUSE_20181222_204312_58000       1          76              175         178   \n",
       "MUSE_20181222_204314_78000       1          75              117         104   \n",
       "\n",
       "                            QRSDuration  QTInterval  QTCorrected  RAxis  \\\n",
       "FileName                                                                  \n",
       "MUSE_20180113_171327_27000          114         356          496     81   \n",
       "MUSE_20180112_073319_29000           92         432          401     76   \n",
       "MUSE_20180111_165520_97000           82         382          403     88   \n",
       "MUSE_20180113_121940_44000           96         456          427     34   \n",
       "MUSE_20180112_122850_57000          114         252          413     68   \n",
       "...                                 ...         ...          ...    ...   \n",
       "MUSE_20181222_204306_99000          168         284          513    258   \n",
       "MUSE_20181222_204309_22000          162         294          482    110   \n",
       "MUSE_20181222_204310_31000          152         340          540    250   \n",
       "MUSE_20181222_204312_58000          128         310          529     98   \n",
       "MUSE_20181222_204314_78000          140         312          435    263   \n",
       "\n",
       "                            TAxis  QOnset  QOffset  Gender_0  Gender_1  \n",
       "FileName                                                                \n",
       "MUSE_20180113_171327_27000    -27     208      265         0         1  \n",
       "MUSE_20180112_073319_29000     42     215      261         1         0  \n",
       "MUSE_20180111_165520_97000     20     224      265         1         0  \n",
       "MUSE_20180113_121940_44000      3     219      267         0         1  \n",
       "MUSE_20180112_122850_57000    -40     228      285         1         0  \n",
       "...                           ...     ...      ...       ...       ...  \n",
       "MUSE_20181222_204306_99000    244     177      261         1         0  \n",
       "MUSE_20181222_204309_22000    -75     173      254         1         0  \n",
       "MUSE_20181222_204310_31000     38     208      284         0         1  \n",
       "MUSE_20181222_204312_58000    -83     205      269         0         1  \n",
       "MUSE_20181222_204314_78000    144     208      278         0         1  \n",
       "\n",
       "[10646 rows x 13 columns]"
      ]
     },
     "execution_count": 13,
     "metadata": {},
     "output_type": "execute_result"
    }
   ],
   "source": [
    "data_notNull"
   ]
  },
  {
   "cell_type": "markdown",
   "metadata": {},
   "source": [
    "##### Проверка выбросов \n"
   ]
  },
  {
   "cell_type": "markdown",
   "metadata": {},
   "source": [
    "Проверим наиболее для нас важные признаки и удалим те объекты из нашего датасета, которые выходят за интервал квантиля (0.005;0.995)"
   ]
  },
  {
   "cell_type": "code",
   "execution_count": 14,
   "metadata": {},
   "outputs": [
    {
     "data": {
      "image/png": "[encoded data removed]",
      "text/plain": [
       "<Figure size 432x288 with 1 Axes>"
      ]
     },
     "metadata": {
      "needs_background": "light"
     },
     "output_type": "display_data"
    }
   ],
   "source": [
    "plt.scatter(data_notNull['Rhythm'],data_notNull['PatientAge'])\n",
    "pass"
   ]
  },
  {
   "cell_type": "code",
   "execution_count": 15,
   "metadata": {},
   "outputs": [
    {
     "data": {
      "text/plain": [
       "(10551, 13)"
      ]
     },
     "execution_count": 15,
     "metadata": {},
     "output_type": "execute_result"
    }
   ],
   "source": [
    "rows_to_drop = data_notNull[(data_notNull['PatientAge'] < data_notNull['PatientAge'].quantile(0.005)) |\n",
    "                            (data_notNull['PatientAge'] > data_notNull['PatientAge'].quantile(0.995))].index\n",
    "data_notNull = data_notNull.drop(rows_to_drop)\n",
    "data_notNull.shape "
   ]
  },
  {
   "cell_type": "code",
   "execution_count": 16,
   "metadata": {},
   "outputs": [
    {
     "data": {
      "image/png": "[encoded data removed]",
      "text/plain": [
       "<Figure size 432x288 with 1 Axes>"
      ]
     },
     "metadata": {
      "needs_background": "light"
     },
     "output_type": "display_data"
    }
   ],
   "source": [
    "plt.scatter(data_notNull['Rhythm'],data_notNull['VentricularRate'])\n",
    "pass"
   ]
  },
  {
   "cell_type": "code",
   "execution_count": 17,
   "metadata": {},
   "outputs": [
    {
     "data": {
      "text/plain": [
       "(10462, 13)"
      ]
     },
     "execution_count": 17,
     "metadata": {},
     "output_type": "execute_result"
    }
   ],
   "source": [
    "rows_to_drop = data_notNull[(data_notNull['VentricularRate'] < data_notNull['VentricularRate'].quantile(0.005)) |\n",
    "                            (data_notNull['VentricularRate'] > data_notNull['VentricularRate'].quantile(0.995))].index\n",
    "data_notNull = data_notNull.drop(rows_to_drop)\n",
    "data_notNull.shape "
   ]
  },
  {
   "cell_type": "code",
   "execution_count": 18,
   "metadata": {},
   "outputs": [
    {
     "data": {
      "image/png": "[encoded data removed]",
      "text/plain": [
       "<Figure size 432x288 with 1 Axes>"
      ]
     },
     "metadata": {
      "needs_background": "light"
     },
     "output_type": "display_data"
    }
   ],
   "source": [
    "plt.scatter(data_notNull['Rhythm'],data_notNull['AtrialRate'])\n",
    "pass"
   ]
  },
  {
   "cell_type": "code",
   "execution_count": 19,
   "metadata": {},
   "outputs": [
    {
     "data": {
      "text/plain": [
       "(10374, 13)"
      ]
     },
     "execution_count": 19,
     "metadata": {},
     "output_type": "execute_result"
    }
   ],
   "source": [
    "rows_to_drop = data_notNull[(data_notNull['AtrialRate'] < data_notNull['AtrialRate'].quantile(0.005)) |\n",
    "                            (data_notNull['AtrialRate'] > data_notNull['AtrialRate'].quantile(0.995))].index\n",
    "data_notNull = data_notNull.drop(rows_to_drop)\n",
    "data_notNull.shape "
   ]
  },
  {
   "cell_type": "code",
   "execution_count": 20,
   "metadata": {},
   "outputs": [
    {
     "data": {
      "image/png": "[encoded data removed]",
      "text/plain": [
       "<Figure size 432x288 with 1 Axes>"
      ]
     },
     "metadata": {
      "needs_background": "light"
     },
     "output_type": "display_data"
    }
   ],
   "source": [
    "plt.scatter(data_notNull['Rhythm'],data_notNull['RAxis'])\n",
    "pass"
   ]
  },
  {
   "cell_type": "code",
   "execution_count": 21,
   "metadata": {},
   "outputs": [
    {
     "data": {
      "text/plain": [
       "(10273, 13)"
      ]
     },
     "execution_count": 21,
     "metadata": {},
     "output_type": "execute_result"
    }
   ],
   "source": [
    "rows_to_drop = data_notNull[(data_notNull['RAxis'] < data_notNull['RAxis'].quantile(0.005)) |\n",
    "                            (data_notNull['RAxis'] > data_notNull['RAxis'].quantile(0.995))].index\n",
    "data_notNull = data_notNull.drop(rows_to_drop)\n",
    "data_notNull.shape "
   ]
  },
  {
   "cell_type": "code",
   "execution_count": 22,
   "metadata": {},
   "outputs": [
    {
     "data": {
      "image/png": "[encoded data removed]",
      "text/plain": [
       "<Figure size 432x288 with 1 Axes>"
      ]
     },
     "metadata": {
      "needs_background": "light"
     },
     "output_type": "display_data"
    }
   ],
   "source": [
    "plt.scatter(data_notNull['Rhythm'],data_notNull['QTInterval'])\n",
    "pass"
   ]
  },
  {
   "cell_type": "code",
   "execution_count": 23,
   "metadata": {},
   "outputs": [
    {
     "data": {
      "text/plain": [
       "(10173, 13)"
      ]
     },
     "execution_count": 23,
     "metadata": {},
     "output_type": "execute_result"
    }
   ],
   "source": [
    "rows_to_drop = data_notNull[(data_notNull['QTInterval'] < data_notNull['QTInterval'].quantile(0.005)) |\n",
    "                            (data_notNull['QTInterval'] > data_notNull['QTInterval'].quantile(0.995))].index\n",
    "data_notNull = data_notNull.drop(rows_to_drop)\n",
    "data_notNull.shape "
   ]
  },
  {
   "cell_type": "markdown",
   "metadata": {},
   "source": [
    "### Разделение данных на тренировочную и тестовую выборки:"
   ]
  },
  {
   "cell_type": "code",
   "execution_count": 24,
   "metadata": {},
   "outputs": [],
   "source": [
    "from sklearn.model_selection import StratifiedShuffleSplit\n",
    "import imblearn"
   ]
  },
  {
   "cell_type": "markdown",
   "metadata": {},
   "source": [
    "Выделем наш целевой столбец."
   ]
  },
  {
   "cell_type": "code",
   "execution_count": 25,
   "metadata": {},
   "outputs": [],
   "source": [
    "y=data_notNull['Rhythm']\n",
    "data_notNull.pop('Rhythm')\n",
    "X=data_notNull"
   ]
  },
  {
   "cell_type": "code",
   "execution_count": 26,
   "metadata": {},
   "outputs": [
    {
     "data": {
      "text/plain": [
       "2    3810\n",
       "3    2198\n",
       "1    2097\n",
       "0    2068\n",
       "Name: Rhythm, dtype: int64"
      ]
     },
     "execution_count": 26,
     "metadata": {},
     "output_type": "execute_result"
    }
   ],
   "source": [
    "y.value_counts()"
   ]
  },
  {
   "cell_type": "markdown",
   "metadata": {},
   "source": [
    "Посмотрим на наши 4 итоговых класса. Видим, что есть небольшая несбалансированность классов (Но для частоты эксперимента не будем с ней бороться)."
   ]
  },
  {
   "cell_type": "markdown",
   "metadata": {},
   "source": [
    "Проведем нормализацию данных."
   ]
  },
  {
   "cell_type": "code",
   "execution_count": 27,
   "metadata": {},
   "outputs": [
    {
     "data": {
      "text/plain": [
       "array([[ 1.47534442,  1.0756389 ,  2.60433182, ...,  0.0411852 ,\n",
       "        -0.89383387,  0.89383387],\n",
       "       [-0.00989983, -0.95031815, -0.69547157, ..., -0.45187399,\n",
       "         1.11877613, -1.11877613],\n",
       "       [-2.23776621, -0.4827896 , -0.42350975, ...,  0.0411852 ,\n",
       "         1.11877613, -1.11877613],\n",
       "       ...,\n",
       "       [-1.32376975,  2.13537028,  1.09947643, ..., -0.3286092 ,\n",
       "        -0.89383387,  0.89383387],\n",
       "       [ 1.2468453 ,  2.47822455, -0.16967872, ..., -1.31472759,\n",
       "         1.11877613, -1.11877613],\n",
       "       [ 0.96122141,  2.88341596,  1.5890077 , ...,  0.5342444 ,\n",
       "        -0.89383387,  0.89383387]])"
      ]
     },
     "execution_count": 27,
     "metadata": {},
     "output_type": "execute_result"
    }
   ],
   "source": [
    "from sklearn.preprocessing import scale\n",
    "X_scaled=scale(X)\n",
    "X_scaled"
   ]
  },
  {
   "cell_type": "markdown",
   "metadata": {},
   "source": [
    "Разделим данные на тестовую (25%) и тренировочную выборки (75%)."
   ]
  },
  {
   "cell_type": "code",
   "execution_count": 28,
   "metadata": {},
   "outputs": [],
   "source": [
    "from sklearn.model_selection import train_test_split\n",
    "X_train, X_test, y_train, y_test = train_test_split(X_scaled, y, test_size=0.25,stratify=y, random_state=42)\n",
    "#мое"
   ]
  },
  {
   "cell_type": "code",
   "execution_count": 29,
   "metadata": {},
   "outputs": [
    {
     "data": {
      "text/plain": [
       "(7629, 12)"
      ]
     },
     "execution_count": 29,
     "metadata": {},
     "output_type": "execute_result"
    }
   ],
   "source": [
    "X_train.shape"
   ]
  },
  {
   "cell_type": "code",
   "execution_count": 30,
   "metadata": {},
   "outputs": [
    {
     "data": {
      "text/plain": [
       "2    2857\n",
       "3    1648\n",
       "1    1573\n",
       "0    1551\n",
       "Name: Rhythm, dtype: int64"
      ]
     },
     "execution_count": 30,
     "metadata": {},
     "output_type": "execute_result"
    }
   ],
   "source": [
    "y_train.value_counts()"
   ]
  },
  {
   "cell_type": "markdown",
   "metadata": {},
   "source": [
    "#### Тренировка и оценка модели."
   ]
  },
  {
   "cell_type": "markdown",
   "metadata": {},
   "source": [
    "В качестве метрик рассмотрим f1score и confusion matrix. В данных условиях они являются более репрезетативными."
   ]
  },
  {
   "cell_type": "code",
   "execution_count": 31,
   "metadata": {},
   "outputs": [],
   "source": [
    "from sklearn.model_selection import GridSearchCV\n",
    "from sklearn.model_selection import cross_val_score\n",
    "from sklearn.metrics import confusion_matrix\n",
    "from sklearn.metrics import accuracy_score\n",
    "from sklearn.metrics import f1_score\n",
    "from sklearn.metrics import precision_score\n",
    "from sklearn.metrics import recall_score"
   ]
  },
  {
   "cell_type": "markdown",
   "metadata": {},
   "source": [
    "#### SVC"
   ]
  },
  {
   "cell_type": "code",
   "execution_count": 32,
   "metadata": {},
   "outputs": [
    {
     "data": {
      "text/plain": [
       "SVC()"
      ]
     },
     "execution_count": 32,
     "metadata": {},
     "output_type": "execute_result"
    }
   ],
   "source": [
    "from sklearn.svm import SVC\n",
    "clf = SVC()\n",
    "clf.fit(X_train, y_train)"
   ]
  },
  {
   "cell_type": "code",
   "execution_count": 33,
   "metadata": {},
   "outputs": [
    {
     "name": "stdout",
     "output_type": "stream",
     "text": [
      "recall test:  0.8342013626368103\n",
      "presion test:  0.8403142803967811\n",
      "f1_score test:  0.834496180480217\n"
     ]
    }
   ],
   "source": [
    "y_pred=clf.predict(X_test)\n",
    "\n",
    "print(\"recall test: \",recall_score(y_test.values, y_pred,average='macro'))\n",
    "print(\"presion test: \",precision_score(y_test.values,y_pred ,average='macro'))\n",
    "print(\"f1_score test: \",f1_score(y_test.values, y_pred,average='macro'))"
   ]
  },
  {
   "cell_type": "code",
   "execution_count": 34,
   "metadata": {},
   "outputs": [
    {
     "data": {
      "text/plain": [
       "array([[317, 110,  25,  65],\n",
       "       [ 62, 456,   0,   6],\n",
       "       [  5,   0, 945,   3],\n",
       "       [ 30,  11,  35, 474]], dtype=int64)"
      ]
     },
     "execution_count": 34,
     "metadata": {},
     "output_type": "execute_result"
    }
   ],
   "source": [
    "confusion_matrix(y_test.values, y_pred)\n",
    "conf_mx = confusion_matrix(y_test.values, y_pred) #посылаем предсказанные значения и истинные\n",
    "conf_mx"
   ]
  },
  {
   "cell_type": "code",
   "execution_count": 35,
   "metadata": {},
   "outputs": [
    {
     "data": {
      "image/png": "[encoded data removed]",
      "text/plain": [
       "<Figure size 288x288 with 1 Axes>"
      ]
     },
     "metadata": {
      "needs_background": "light"
     },
     "output_type": "display_data"
    }
   ],
   "source": [
    "plt.matshow(conf_mx, cmap=plt.cm.Blues) \n",
    "plt.show() "
   ]
  },
  {
   "cell_type": "markdown",
   "metadata": {},
   "source": [
    "#### KNN"
   ]
  },
  {
   "cell_type": "code",
   "execution_count": 36,
   "metadata": {},
   "outputs": [
    {
     "data": {
      "text/plain": [
       "KNeighborsClassifier()"
      ]
     },
     "execution_count": 36,
     "metadata": {},
     "output_type": "execute_result"
    }
   ],
   "source": [
    "from sklearn.neighbors import KNeighborsClassifier\n",
    "from sklearn.model_selection import ShuffleSplit\n",
    "clf = KNeighborsClassifier()\n",
    "cv = ShuffleSplit(n_splits=3, random_state=42)\n",
    "\n",
    "clf.fit(X_train, y_train)"
   ]
  },
  {
   "cell_type": "code",
   "execution_count": 37,
   "metadata": {},
   "outputs": [
    {
     "name": "stdout",
     "output_type": "stream",
     "text": [
      "recall test:  0.786290505439629\n",
      "presion test:  0.8021542872222893\n",
      "f1_score test:  0.7902168584936935\n"
     ]
    }
   ],
   "source": [
    "y_pred=clf.predict(X_test)\n",
    "\n",
    "print(\"recall test: \",recall_score(y_test.values, y_pred,average='macro'))\n",
    "print(\"presion test: \",precision_score(y_test.values,y_pred ,average='macro'))\n",
    "print(\"f1_score test: \",f1_score(y_test.values, y_pred,average='macro'))"
   ]
  },
  {
   "cell_type": "code",
   "execution_count": 38,
   "metadata": {},
   "outputs": [
    {
     "data": {
      "text/plain": [
       "array([[308, 116,  40,  53],\n",
       "       [ 73, 444,   0,   7],\n",
       "       [  8,   0, 929,  16],\n",
       "       [ 32,  19,  99, 400]], dtype=int64)"
      ]
     },
     "execution_count": 38,
     "metadata": {},
     "output_type": "execute_result"
    }
   ],
   "source": [
    "confusion_matrix(y_test.values, y_pred)\n",
    "conf_mx = confusion_matrix(y_test.values, y_pred) \n",
    "conf_mx"
   ]
  },
  {
   "cell_type": "code",
   "execution_count": 39,
   "metadata": {},
   "outputs": [
    {
     "data": {
      "image/png": "[encoded data removed]",
      "text/plain": [
       "<Figure size 288x288 with 1 Axes>"
      ]
     },
     "metadata": {
      "needs_background": "light"
     },
     "output_type": "display_data"
    }
   ],
   "source": [
    "plt.matshow(conf_mx, cmap=plt.cm.Blues) \n",
    "plt.show() "
   ]
  },
  {
   "cell_type": "markdown",
   "metadata": {},
   "source": [
    "#### RandomForest"
   ]
  },
  {
   "cell_type": "code",
   "execution_count": 40,
   "metadata": {},
   "outputs": [
    {
     "data": {
      "text/plain": [
       "RandomForestClassifier()"
      ]
     },
     "execution_count": 40,
     "metadata": {},
     "output_type": "execute_result"
    }
   ],
   "source": [
    "from sklearn.ensemble import RandomForestClassifier\n",
    "\n",
    "clf = RandomForestClassifier()\n",
    "clf.fit(X_train, y_train)"
   ]
  },
  {
   "cell_type": "code",
   "execution_count": 41,
   "metadata": {},
   "outputs": [
    {
     "name": "stdout",
     "output_type": "stream",
     "text": [
      "recall test:  0.888597594245684\n",
      "presion test:  0.8896411365103502\n",
      "f1_score test:  0.8883430281804541\n"
     ]
    }
   ],
   "source": [
    "y_pred=clf.predict(X_test)\n",
    "\n",
    "print(\"recall test: \",recall_score(y_test.values, y_pred,average='macro'))\n",
    "print(\"presion test: \",precision_score(y_test.values,y_pred ,average='macro'))\n",
    "print(\"f1_score test: \",f1_score(y_test.values, y_pred,average='macro'))"
   ]
  },
  {
   "cell_type": "code",
   "execution_count": 42,
   "metadata": {},
   "outputs": [
    {
     "data": {
      "text/plain": [
       "array([[380,  72,  12,  53],\n",
       "       [ 51, 466,   0,   7],\n",
       "       [  5,   0, 947,   1],\n",
       "       [ 27,   3,   5, 515]], dtype=int64)"
      ]
     },
     "execution_count": 42,
     "metadata": {},
     "output_type": "execute_result"
    }
   ],
   "source": [
    "confusion_matrix(y_test.values, y_pred)\n",
    "conf_mx = confusion_matrix(y_test.values, y_pred) \n",
    "conf_mx"
   ]
  },
  {
   "cell_type": "code",
   "execution_count": 43,
   "metadata": {},
   "outputs": [
    {
     "data": {
      "image/png": "[encoded data removed]",
      "text/plain": [
       "<Figure size 288x288 with 1 Axes>"
      ]
     },
     "metadata": {
      "needs_background": "light"
     },
     "output_type": "display_data"
    }
   ],
   "source": [
    "plt.matshow(conf_mx, cmap=plt.cm.Blues) \n",
    "plt.show() "
   ]
  },
  {
   "cell_type": "markdown",
   "metadata": {},
   "source": [
    "#### GradientBoostingClassifier"
   ]
  },
  {
   "cell_type": "code",
   "execution_count": 44,
   "metadata": {},
   "outputs": [
    {
     "data": {
      "text/plain": [
       "GradientBoostingClassifier()"
      ]
     },
     "execution_count": 44,
     "metadata": {},
     "output_type": "execute_result"
    }
   ],
   "source": [
    "from sklearn.ensemble import GradientBoostingClassifier\n",
    "clf = GradientBoostingClassifier()\n",
    "clf.fit(X_train, y_train)"
   ]
  },
  {
   "cell_type": "code",
   "execution_count": 45,
   "metadata": {},
   "outputs": [
    {
     "name": "stdout",
     "output_type": "stream",
     "text": [
      "recall test:  0.893104400984503\n",
      "presion test:  0.8943229287437973\n",
      "f1_score test:  0.8926508184495053\n"
     ]
    }
   ],
   "source": [
    "y_pred=clf.predict(X_test)\n",
    "\n",
    "print(\"recall test: \",recall_score(y_test.values, y_pred,average='macro'))\n",
    "print(\"presion test: \",precision_score(y_test.values,y_pred ,average='macro'))\n",
    "print(\"f1_score test: \",f1_score(y_test.values, y_pred,average='macro'))\n"
   ]
  },
  {
   "cell_type": "code",
   "execution_count": 46,
   "metadata": {},
   "outputs": [
    {
     "data": {
      "text/plain": [
       "array([[381,  73,  12,  51],\n",
       "       [ 54, 463,   0,   7],\n",
       "       [  4,   0, 947,   2],\n",
       "       [ 17,   2,   4, 527]], dtype=int64)"
      ]
     },
     "execution_count": 46,
     "metadata": {},
     "output_type": "execute_result"
    }
   ],
   "source": [
    "confusion_matrix(y_test.values, y_pred)\n",
    "conf_mx = confusion_matrix(y_test.values, y_pred)\n",
    "conf_mx"
   ]
  },
  {
   "cell_type": "code",
   "execution_count": 47,
   "metadata": {},
   "outputs": [
    {
     "data": {
      "image/png": "[encoded data removed]",
      "text/plain": [
       "<Figure size 288x288 with 1 Axes>"
      ]
     },
     "metadata": {
      "needs_background": "light"
     },
     "output_type": "display_data"
    }
   ],
   "source": [
    "plt.matshow(conf_mx, cmap=plt.cm.Blues) \n",
    "plt.show() "
   ]
  },
  {
   "cell_type": "markdown",
   "metadata": {},
   "source": [
    "#### Neural network"
   ]
  },
  {
   "cell_type": "code",
   "execution_count": 48,
   "metadata": {},
   "outputs": [],
   "source": [
    "#Подключаем библиотеки\n",
    "import tensorflow as tf\n",
    "from tensorflow import keras\n",
    "import numpy as np\n",
    "import matplotlib.pyplot as plt"
   ]
  },
  {
   "cell_type": "code",
   "execution_count": 49,
   "metadata": {},
   "outputs": [
    {
     "data": {
      "text/html": [
       "<div>\n",
       "<style scoped>\n",
       "    .dataframe tbody tr th:only-of-type {\n",
       "        vertical-align: middle;\n",
       "    }\n",
       "\n",
       "    .dataframe tbody tr th {\n",
       "        vertical-align: top;\n",
       "    }\n",
       "\n",
       "    .dataframe thead th {\n",
       "        text-align: right;\n",
       "    }\n",
       "</style>\n",
       "<table border=\"1\" class=\"dataframe\">\n",
       "  <thead>\n",
       "    <tr style=\"text-align: right;\">\n",
       "      <th></th>\n",
       "      <th>PatientAge</th>\n",
       "      <th>VentricularRate</th>\n",
       "      <th>AtrialRate</th>\n",
       "      <th>QRSDuration</th>\n",
       "      <th>QTInterval</th>\n",
       "      <th>QTCorrected</th>\n",
       "      <th>RAxis</th>\n",
       "      <th>TAxis</th>\n",
       "      <th>QOnset</th>\n",
       "      <th>QOffset</th>\n",
       "      <th>Gender_0</th>\n",
       "      <th>Gender_1</th>\n",
       "    </tr>\n",
       "    <tr>\n",
       "      <th>FileName</th>\n",
       "      <th></th>\n",
       "      <th></th>\n",
       "      <th></th>\n",
       "      <th></th>\n",
       "      <th></th>\n",
       "      <th></th>\n",
       "      <th></th>\n",
       "      <th></th>\n",
       "      <th></th>\n",
       "      <th></th>\n",
       "      <th></th>\n",
       "      <th></th>\n",
       "    </tr>\n",
       "  </thead>\n",
       "  <tbody>\n",
       "    <tr>\n",
       "      <th>MUSE_20180113_171327_27000</th>\n",
       "      <td>85</td>\n",
       "      <td>117</td>\n",
       "      <td>234</td>\n",
       "      <td>114</td>\n",
       "      <td>356</td>\n",
       "      <td>496</td>\n",
       "      <td>81</td>\n",
       "      <td>-27</td>\n",
       "      <td>208</td>\n",
       "      <td>265</td>\n",
       "      <td>0</td>\n",
       "      <td>1</td>\n",
       "    </tr>\n",
       "    <tr>\n",
       "      <th>MUSE_20180112_073319_29000</th>\n",
       "      <td>59</td>\n",
       "      <td>52</td>\n",
       "      <td>52</td>\n",
       "      <td>92</td>\n",
       "      <td>432</td>\n",
       "      <td>401</td>\n",
       "      <td>76</td>\n",
       "      <td>42</td>\n",
       "      <td>215</td>\n",
       "      <td>261</td>\n",
       "      <td>1</td>\n",
       "      <td>0</td>\n",
       "    </tr>\n",
       "    <tr>\n",
       "      <th>MUSE_20180111_165520_97000</th>\n",
       "      <td>20</td>\n",
       "      <td>67</td>\n",
       "      <td>67</td>\n",
       "      <td>82</td>\n",
       "      <td>382</td>\n",
       "      <td>403</td>\n",
       "      <td>88</td>\n",
       "      <td>20</td>\n",
       "      <td>224</td>\n",
       "      <td>265</td>\n",
       "      <td>1</td>\n",
       "      <td>0</td>\n",
       "    </tr>\n",
       "    <tr>\n",
       "      <th>MUSE_20180113_121940_44000</th>\n",
       "      <td>66</td>\n",
       "      <td>53</td>\n",
       "      <td>53</td>\n",
       "      <td>96</td>\n",
       "      <td>456</td>\n",
       "      <td>427</td>\n",
       "      <td>34</td>\n",
       "      <td>3</td>\n",
       "      <td>219</td>\n",
       "      <td>267</td>\n",
       "      <td>0</td>\n",
       "      <td>1</td>\n",
       "    </tr>\n",
       "    <tr>\n",
       "      <th>MUSE_20180112_122850_57000</th>\n",
       "      <td>73</td>\n",
       "      <td>162</td>\n",
       "      <td>162</td>\n",
       "      <td>114</td>\n",
       "      <td>252</td>\n",
       "      <td>413</td>\n",
       "      <td>68</td>\n",
       "      <td>-40</td>\n",
       "      <td>228</td>\n",
       "      <td>285</td>\n",
       "      <td>1</td>\n",
       "      <td>0</td>\n",
       "    </tr>\n",
       "    <tr>\n",
       "      <th>...</th>\n",
       "      <td>...</td>\n",
       "      <td>...</td>\n",
       "      <td>...</td>\n",
       "      <td>...</td>\n",
       "      <td>...</td>\n",
       "      <td>...</td>\n",
       "      <td>...</td>\n",
       "      <td>...</td>\n",
       "      <td>...</td>\n",
       "      <td>...</td>\n",
       "      <td>...</td>\n",
       "      <td>...</td>\n",
       "    </tr>\n",
       "    <tr>\n",
       "      <th>MUSE_20181222_204248_77000</th>\n",
       "      <td>23</td>\n",
       "      <td>181</td>\n",
       "      <td>159</td>\n",
       "      <td>74</td>\n",
       "      <td>252</td>\n",
       "      <td>437</td>\n",
       "      <td>69</td>\n",
       "      <td>-1</td>\n",
       "      <td>228</td>\n",
       "      <td>265</td>\n",
       "      <td>1</td>\n",
       "      <td>0</td>\n",
       "    </tr>\n",
       "    <tr>\n",
       "      <th>MUSE_20181222_204249_88000</th>\n",
       "      <td>69</td>\n",
       "      <td>178</td>\n",
       "      <td>170</td>\n",
       "      <td>122</td>\n",
       "      <td>308</td>\n",
       "      <td>530</td>\n",
       "      <td>57</td>\n",
       "      <td>225</td>\n",
       "      <td>203</td>\n",
       "      <td>264</td>\n",
       "      <td>0</td>\n",
       "      <td>1</td>\n",
       "    </tr>\n",
       "    <tr>\n",
       "      <th>MUSE_20181222_204303_61000</th>\n",
       "      <td>36</td>\n",
       "      <td>151</td>\n",
       "      <td>151</td>\n",
       "      <td>88</td>\n",
       "      <td>274</td>\n",
       "      <td>434</td>\n",
       "      <td>67</td>\n",
       "      <td>12</td>\n",
       "      <td>218</td>\n",
       "      <td>262</td>\n",
       "      <td>0</td>\n",
       "      <td>1</td>\n",
       "    </tr>\n",
       "    <tr>\n",
       "      <th>MUSE_20181222_204309_22000</th>\n",
       "      <td>81</td>\n",
       "      <td>162</td>\n",
       "      <td>81</td>\n",
       "      <td>162</td>\n",
       "      <td>294</td>\n",
       "      <td>482</td>\n",
       "      <td>110</td>\n",
       "      <td>-75</td>\n",
       "      <td>173</td>\n",
       "      <td>254</td>\n",
       "      <td>1</td>\n",
       "      <td>0</td>\n",
       "    </tr>\n",
       "    <tr>\n",
       "      <th>MUSE_20181222_204312_58000</th>\n",
       "      <td>76</td>\n",
       "      <td>175</td>\n",
       "      <td>178</td>\n",
       "      <td>128</td>\n",
       "      <td>310</td>\n",
       "      <td>529</td>\n",
       "      <td>98</td>\n",
       "      <td>-83</td>\n",
       "      <td>205</td>\n",
       "      <td>269</td>\n",
       "      <td>0</td>\n",
       "      <td>1</td>\n",
       "    </tr>\n",
       "  </tbody>\n",
       "</table>\n",
       "<p>10173 rows × 12 columns</p>\n",
       "</div>"
      ],
      "text/plain": [
       "                            PatientAge  VentricularRate  AtrialRate  \\\n",
       "FileName                                                              \n",
       "MUSE_20180113_171327_27000          85              117         234   \n",
       "MUSE_20180112_073319_29000          59               52          52   \n",
       "MUSE_20180111_165520_97000          20               67          67   \n",
       "MUSE_20180113_121940_44000          66               53          53   \n",
       "MUSE_20180112_122850_57000          73              162         162   \n",
       "...                                ...              ...         ...   \n",
       "MUSE_20181222_204248_77000          23              181         159   \n",
       "MUSE_20181222_204249_88000          69              178         170   \n",
       "MUSE_20181222_204303_61000          36              151         151   \n",
       "MUSE_20181222_204309_22000          81              162          81   \n",
       "MUSE_20181222_204312_58000          76              175         178   \n",
       "\n",
       "                            QRSDuration  QTInterval  QTCorrected  RAxis  \\\n",
       "FileName                                                                  \n",
       "MUSE_20180113_171327_27000          114         356          496     81   \n",
       "MUSE_20180112_073319_29000           92         432          401     76   \n",
       "MUSE_20180111_165520_97000           82         382          403     88   \n",
       "MUSE_20180113_121940_44000           96         456          427     34   \n",
       "MUSE_20180112_122850_57000          114         252          413     68   \n",
       "...                                 ...         ...          ...    ...   \n",
       "MUSE_20181222_204248_77000           74         252          437     69   \n",
       "MUSE_20181222_204249_88000          122         308          530     57   \n",
       "MUSE_20181222_204303_61000           88         274          434     67   \n",
       "MUSE_20181222_204309_22000          162         294          482    110   \n",
       "MUSE_20181222_204312_58000          128         310          529     98   \n",
       "\n",
       "                            TAxis  QOnset  QOffset  Gender_0  Gender_1  \n",
       "FileName                                                                \n",
       "MUSE_20180113_171327_27000    -27     208      265         0         1  \n",
       "MUSE_20180112_073319_29000     42     215      261         1         0  \n",
       "MUSE_20180111_165520_97000     20     224      265         1         0  \n",
       "MUSE_20180113_121940_44000      3     219      267         0         1  \n",
       "MUSE_20180112_122850_57000    -40     228      285         1         0  \n",
       "...                           ...     ...      ...       ...       ...  \n",
       "MUSE_20181222_204248_77000     -1     228      265         1         0  \n",
       "MUSE_20181222_204249_88000    225     203      264         0         1  \n",
       "MUSE_20181222_204303_61000     12     218      262         0         1  \n",
       "MUSE_20181222_204309_22000    -75     173      254         1         0  \n",
       "MUSE_20181222_204312_58000    -83     205      269         0         1  \n",
       "\n",
       "[10173 rows x 12 columns]"
      ]
     },
     "execution_count": 49,
     "metadata": {},
     "output_type": "execute_result"
    }
   ],
   "source": [
    "X"
   ]
  },
  {
   "cell_type": "code",
   "execution_count": 50,
   "metadata": {},
   "outputs": [],
   "source": [
    "model = keras.Sequential([\n",
    "    keras.layers.Flatten(input_shape=(12,)),\n",
    "    keras.layers.Dense(300, activation=tf.nn.tanh),\n",
    "    keras.layers.Dense(200, activation=tf.nn.tanh),\n",
    "    keras.layers.Dense(80, activation=tf.nn.tanh),\n",
    "    keras.layers.Dense(4, activation=tf.nn.softmax)\n",
    "])"
   ]
  },
  {
   "cell_type": "code",
   "execution_count": 51,
   "metadata": {},
   "outputs": [
    {
     "name": "stdout",
     "output_type": "stream",
     "text": [
      "Model: \"sequential\"\n",
      "_________________________________________________________________\n",
      "Layer (type)                 Output Shape              Param #   \n",
      "=================================================================\n",
      "flatten (Flatten)            (None, 12)                0         \n",
      "_________________________________________________________________\n",
      "dense (Dense)                (None, 300)               3900      \n",
      "_________________________________________________________________\n",
      "dense_1 (Dense)              (None, 200)               60200     \n",
      "_________________________________________________________________\n",
      "dense_2 (Dense)              (None, 80)                16080     \n",
      "_________________________________________________________________\n",
      "dense_3 (Dense)              (None, 4)                 324       \n",
      "=================================================================\n",
      "Total params: 80,504\n",
      "Trainable params: 80,504\n",
      "Non-trainable params: 0\n",
      "_________________________________________________________________\n"
     ]
    }
   ],
   "source": [
    "model.summary()"
   ]
  },
  {
   "cell_type": "code",
   "execution_count": 52,
   "metadata": {},
   "outputs": [],
   "source": [
    "model.compile(optimizer=tf.keras.optimizers.RMSprop(), \n",
    "              loss='sparse_categorical_crossentropy',\n",
    "              metrics=['accuracy'])"
   ]
  },
  {
   "cell_type": "code",
   "execution_count": 53,
   "metadata": {},
   "outputs": [
    {
     "data": {
      "image/png": "[encoded data removed]",
      "text/plain": [
       "<IPython.core.display.Image object>"
      ]
     },
     "execution_count": 53,
     "metadata": {},
     "output_type": "execute_result"
    }
   ],
   "source": [
    "tf.keras.utils.plot_model(model, show_shapes=True)"
   ]
  },
  {
   "cell_type": "code",
   "execution_count": 54,
   "metadata": {},
   "outputs": [
    {
     "name": "stdout",
     "output_type": "stream",
     "text": [
      "Epoch 1/20\n",
      "239/239 [==============================] - 3s 3ms/step - loss: 0.5581 - accuracy: 0.7683\n",
      "Epoch 2/20\n",
      "239/239 [==============================] - 1s 3ms/step - loss: 0.3851 - accuracy: 0.8542\n",
      "Epoch 3/20\n",
      "239/239 [==============================] - 1s 3ms/step - loss: 0.3551 - accuracy: 0.8577\n",
      "Epoch 4/20\n",
      "239/239 [==============================] - 1s 3ms/step - loss: 0.3460 - accuracy: 0.8651\n",
      "Epoch 5/20\n",
      "239/239 [==============================] - 1s 3ms/step - loss: 0.3139 - accuracy: 0.8784\n",
      "Epoch 6/20\n",
      "239/239 [==============================] - 1s 4ms/step - loss: 0.3189 - accuracy: 0.8732\n",
      "Epoch 7/20\n",
      "239/239 [==============================] - 1s 4ms/step - loss: 0.2852 - accuracy: 0.8948\n",
      "Epoch 8/20\n",
      "239/239 [==============================] - 1s 4ms/step - loss: 0.2714 - accuracy: 0.8988\n",
      "Epoch 9/20\n",
      "239/239 [==============================] - 1s 4ms/step - loss: 0.2470 - accuracy: 0.9078\n",
      "Epoch 10/20\n",
      "239/239 [==============================] - 1s 4ms/step - loss: 0.2432 - accuracy: 0.9074\n",
      "Epoch 11/20\n",
      "239/239 [==============================] - 1s 3ms/step - loss: 0.2209 - accuracy: 0.9155\n",
      "Epoch 12/20\n",
      "239/239 [==============================] - 1s 3ms/step - loss: 0.2030 - accuracy: 0.9234\n",
      "Epoch 13/20\n",
      "239/239 [==============================] - 1s 4ms/step - loss: 0.2075 - accuracy: 0.9287\n",
      "Epoch 14/20\n",
      "239/239 [==============================] - 1s 4ms/step - loss: 0.1981 - accuracy: 0.9304\n",
      "Epoch 15/20\n",
      "239/239 [==============================] - 1s 4ms/step - loss: 0.1884 - accuracy: 0.9304\n",
      "Epoch 16/20\n",
      "239/239 [==============================] - 1s 4ms/step - loss: 0.1862 - accuracy: 0.9339\n",
      "Epoch 17/20\n",
      "239/239 [==============================] - 1s 4ms/step - loss: 0.1736 - accuracy: 0.9340\n",
      "Epoch 18/20\n",
      "239/239 [==============================] - 1s 4ms/step - loss: 0.1823 - accuracy: 0.9352\n",
      "Epoch 19/20\n",
      "239/239 [==============================] - 1s 4ms/step - loss: 0.1625 - accuracy: 0.9391\n",
      "Epoch 20/20\n",
      "239/239 [==============================] - 1s 4ms/step - loss: 0.1704 - accuracy: 0.9399\n"
     ]
    },
    {
     "data": {
      "text/plain": [
       "<tensorflow.python.keras.callbacks.History at 0x20ea05648b0>"
      ]
     },
     "execution_count": 54,
     "metadata": {},
     "output_type": "execute_result"
    }
   ],
   "source": [
    "model.fit(X_train, y_train, epochs=20)"
   ]
  },
  {
   "cell_type": "code",
   "execution_count": 55,
   "metadata": {},
   "outputs": [
    {
     "name": "stdout",
     "output_type": "stream",
     "text": [
      "80/80 [==============================] - 1s 3ms/step - loss: 0.2639 - accuracy: 0.9049\n",
      "Test accuracy: 0.9048742055892944\n"
     ]
    }
   ],
   "source": [
    "test_loss, test_acc = model.evaluate(X_test, y_test)\n",
    "print('Test accuracy:', test_acc)"
   ]
  },
  {
   "cell_type": "markdown",
   "metadata": {},
   "source": [
    "Лучшим алгоритмом является нейронная сеть. Она показала лучшую точность ~92%.  \n",
    "Таким образом мы провели исследование размеченных данных, которые нам были предоставлены базой данных Chapman University и Shaoxing People's Hospital. Теперь нам следует собственноручно провести исследование над голым сигналом и получить свои размеченные данные."
   ]
  },
  {
   "cell_type": "markdown",
   "metadata": {},
   "source": [
    "## Часть 2:"
   ]
  },
  {
   "cell_type": "markdown",
   "metadata": {},
   "source": [
    "Рассмотрим сигналы электрокардиограммы в 12 отведениях (5000 образцов). Напомним, что для каждого испытуемого доступен сигнал длиной в 10 секунд. Общее количество испытуемых: 10646 человек."
   ]
  },
  {
   "cell_type": "markdown",
   "metadata": {},
   "source": [
    "Рассмотрим, случайно взятого пациента."
   ]
  },
  {
   "cell_type": "code",
   "execution_count": 56,
   "metadata": {},
   "outputs": [
    {
     "data": {
      "text/html": [
       "<div>\n",
       "<style scoped>\n",
       "    .dataframe tbody tr th:only-of-type {\n",
       "        vertical-align: middle;\n",
       "    }\n",
       "\n",
       "    .dataframe tbody tr th {\n",
       "        vertical-align: top;\n",
       "    }\n",
       "\n",
       "    .dataframe thead th {\n",
       "        text-align: right;\n",
       "    }\n",
       "</style>\n",
       "<table border=\"1\" class=\"dataframe\">\n",
       "  <thead>\n",
       "    <tr style=\"text-align: right;\">\n",
       "      <th></th>\n",
       "      <th>I</th>\n",
       "      <th>II</th>\n",
       "      <th>III</th>\n",
       "      <th>aVR</th>\n",
       "      <th>aVL</th>\n",
       "      <th>aVF</th>\n",
       "      <th>V1</th>\n",
       "      <th>V2</th>\n",
       "      <th>V3</th>\n",
       "      <th>V4</th>\n",
       "      <th>V5</th>\n",
       "      <th>V6</th>\n",
       "    </tr>\n",
       "  </thead>\n",
       "  <tbody>\n",
       "    <tr>\n",
       "      <th>0</th>\n",
       "      <td>-214.72</td>\n",
       "      <td>-229.36</td>\n",
       "      <td>-14.64</td>\n",
       "      <td>224.48</td>\n",
       "      <td>-102.48</td>\n",
       "      <td>-122.00</td>\n",
       "      <td>614.88</td>\n",
       "      <td>814.96</td>\n",
       "      <td>912.56</td>\n",
       "      <td>126.88</td>\n",
       "      <td>-239.12</td>\n",
       "      <td>-507.52</td>\n",
       "    </tr>\n",
       "    <tr>\n",
       "      <th>1</th>\n",
       "      <td>-200.08</td>\n",
       "      <td>-209.84</td>\n",
       "      <td>-9.76</td>\n",
       "      <td>204.96</td>\n",
       "      <td>-97.60</td>\n",
       "      <td>-112.24</td>\n",
       "      <td>605.12</td>\n",
       "      <td>819.84</td>\n",
       "      <td>927.20</td>\n",
       "      <td>165.92</td>\n",
       "      <td>-195.20</td>\n",
       "      <td>-463.60</td>\n",
       "    </tr>\n",
       "    <tr>\n",
       "      <th>2</th>\n",
       "      <td>-190.32</td>\n",
       "      <td>-195.20</td>\n",
       "      <td>-4.88</td>\n",
       "      <td>195.20</td>\n",
       "      <td>-92.72</td>\n",
       "      <td>-102.48</td>\n",
       "      <td>600.24</td>\n",
       "      <td>829.60</td>\n",
       "      <td>956.48</td>\n",
       "      <td>204.96</td>\n",
       "      <td>-151.28</td>\n",
       "      <td>-429.44</td>\n",
       "    </tr>\n",
       "    <tr>\n",
       "      <th>3</th>\n",
       "      <td>-165.92</td>\n",
       "      <td>-165.92</td>\n",
       "      <td>0.00</td>\n",
       "      <td>165.92</td>\n",
       "      <td>-82.96</td>\n",
       "      <td>-82.96</td>\n",
       "      <td>590.48</td>\n",
       "      <td>844.24</td>\n",
       "      <td>971.12</td>\n",
       "      <td>239.12</td>\n",
       "      <td>-117.12</td>\n",
       "      <td>-400.16</td>\n",
       "    </tr>\n",
       "    <tr>\n",
       "      <th>4</th>\n",
       "      <td>-161.04</td>\n",
       "      <td>-156.16</td>\n",
       "      <td>4.88</td>\n",
       "      <td>161.04</td>\n",
       "      <td>-82.96</td>\n",
       "      <td>-78.08</td>\n",
       "      <td>585.60</td>\n",
       "      <td>844.24</td>\n",
       "      <td>985.76</td>\n",
       "      <td>273.28</td>\n",
       "      <td>-78.08</td>\n",
       "      <td>-370.88</td>\n",
       "    </tr>\n",
       "    <tr>\n",
       "      <th>...</th>\n",
       "      <td>...</td>\n",
       "      <td>...</td>\n",
       "      <td>...</td>\n",
       "      <td>...</td>\n",
       "      <td>...</td>\n",
       "      <td>...</td>\n",
       "      <td>...</td>\n",
       "      <td>...</td>\n",
       "      <td>...</td>\n",
       "      <td>...</td>\n",
       "      <td>...</td>\n",
       "      <td>...</td>\n",
       "    </tr>\n",
       "    <tr>\n",
       "      <th>4995</th>\n",
       "      <td>-117.12</td>\n",
       "      <td>9.76</td>\n",
       "      <td>126.88</td>\n",
       "      <td>53.68</td>\n",
       "      <td>-122.00</td>\n",
       "      <td>68.32</td>\n",
       "      <td>439.20</td>\n",
       "      <td>634.40</td>\n",
       "      <td>800.32</td>\n",
       "      <td>278.16</td>\n",
       "      <td>0.00</td>\n",
       "      <td>-273.28</td>\n",
       "    </tr>\n",
       "    <tr>\n",
       "      <th>4996</th>\n",
       "      <td>-102.48</td>\n",
       "      <td>14.64</td>\n",
       "      <td>117.12</td>\n",
       "      <td>43.92</td>\n",
       "      <td>-112.24</td>\n",
       "      <td>63.44</td>\n",
       "      <td>424.56</td>\n",
       "      <td>634.40</td>\n",
       "      <td>819.84</td>\n",
       "      <td>297.68</td>\n",
       "      <td>24.40</td>\n",
       "      <td>-248.88</td>\n",
       "    </tr>\n",
       "    <tr>\n",
       "      <th>4997</th>\n",
       "      <td>-92.72</td>\n",
       "      <td>29.28</td>\n",
       "      <td>122.00</td>\n",
       "      <td>34.16</td>\n",
       "      <td>-107.36</td>\n",
       "      <td>73.20</td>\n",
       "      <td>424.56</td>\n",
       "      <td>644.16</td>\n",
       "      <td>829.60</td>\n",
       "      <td>312.32</td>\n",
       "      <td>43.92</td>\n",
       "      <td>-229.36</td>\n",
       "    </tr>\n",
       "    <tr>\n",
       "      <th>4998</th>\n",
       "      <td>-92.72</td>\n",
       "      <td>34.16</td>\n",
       "      <td>126.88</td>\n",
       "      <td>29.28</td>\n",
       "      <td>-112.24</td>\n",
       "      <td>78.08</td>\n",
       "      <td>424.56</td>\n",
       "      <td>644.16</td>\n",
       "      <td>829.60</td>\n",
       "      <td>312.32</td>\n",
       "      <td>58.56</td>\n",
       "      <td>-204.96</td>\n",
       "    </tr>\n",
       "    <tr>\n",
       "      <th>4999</th>\n",
       "      <td>-87.84</td>\n",
       "      <td>29.28</td>\n",
       "      <td>117.12</td>\n",
       "      <td>29.28</td>\n",
       "      <td>-102.48</td>\n",
       "      <td>73.20</td>\n",
       "      <td>424.56</td>\n",
       "      <td>653.92</td>\n",
       "      <td>834.48</td>\n",
       "      <td>312.32</td>\n",
       "      <td>63.44</td>\n",
       "      <td>-200.08</td>\n",
       "    </tr>\n",
       "  </tbody>\n",
       "</table>\n",
       "<p>5000 rows × 12 columns</p>\n",
       "</div>"
      ],
      "text/plain": [
       "           I      II     III     aVR     aVL     aVF      V1      V2      V3  \\\n",
       "0    -214.72 -229.36  -14.64  224.48 -102.48 -122.00  614.88  814.96  912.56   \n",
       "1    -200.08 -209.84   -9.76  204.96  -97.60 -112.24  605.12  819.84  927.20   \n",
       "2    -190.32 -195.20   -4.88  195.20  -92.72 -102.48  600.24  829.60  956.48   \n",
       "3    -165.92 -165.92    0.00  165.92  -82.96  -82.96  590.48  844.24  971.12   \n",
       "4    -161.04 -156.16    4.88  161.04  -82.96  -78.08  585.60  844.24  985.76   \n",
       "...      ...     ...     ...     ...     ...     ...     ...     ...     ...   \n",
       "4995 -117.12    9.76  126.88   53.68 -122.00   68.32  439.20  634.40  800.32   \n",
       "4996 -102.48   14.64  117.12   43.92 -112.24   63.44  424.56  634.40  819.84   \n",
       "4997  -92.72   29.28  122.00   34.16 -107.36   73.20  424.56  644.16  829.60   \n",
       "4998  -92.72   34.16  126.88   29.28 -112.24   78.08  424.56  644.16  829.60   \n",
       "4999  -87.84   29.28  117.12   29.28 -102.48   73.20  424.56  653.92  834.48   \n",
       "\n",
       "          V4      V5      V6  \n",
       "0     126.88 -239.12 -507.52  \n",
       "1     165.92 -195.20 -463.60  \n",
       "2     204.96 -151.28 -429.44  \n",
       "3     239.12 -117.12 -400.16  \n",
       "4     273.28  -78.08 -370.88  \n",
       "...      ...     ...     ...  \n",
       "4995  278.16    0.00 -273.28  \n",
       "4996  297.68   24.40 -248.88  \n",
       "4997  312.32   43.92 -229.36  \n",
       "4998  312.32   58.56 -204.96  \n",
       "4999  312.32   63.44 -200.08  \n",
       "\n",
       "[5000 rows x 12 columns]"
      ]
     },
     "execution_count": 56,
     "metadata": {},
     "output_type": "execute_result"
    }
   ],
   "source": [
    "data = pd.read_csv(\"ECGData/MUSE_20180111_155115_19000.csv\",delimiter=',')\n",
    "data "
   ]
  },
  {
   "cell_type": "markdown",
   "metadata": {},
   "source": [
    "Напомню, что мы будем использовать нейронную сеть для сегментации сигналов на p, qrs и t сегменты. Результат сохраняется в виде формата json там же, где лежат сами сигналы."
   ]
  },
  {
   "cell_type": "code",
   "execution_count": 57,
   "metadata": {},
   "outputs": [],
   "source": [
    "# import json\n",
    "# import matplotlib.pyplot as plt\n",
    "# import numpy as np\n",
    "# import torch\n",
    "# import pandas as pd\n",
    "# import wfdb\n",
    "\n",
    "# sample_rate = 500\n",
    "# path_to_model = \"Segmentation/\"\n",
    "# path_to_data = \"data/\"\n",
    "\n",
    "# class Delineation:\n",
    "#     def __init__(self):\n",
    "#         self._model = torch.jit.load(path_to_model + \"model.pt\")\n",
    "#         self._max_dist = int(0.03 * sample_rate)\n",
    "#         self._border = int(0.8 * sample_rate)\n",
    "        \n",
    "#     def _remove_small(self, signal):\n",
    "#         last_zero = 0\n",
    "#         for i in range(len(signal)):\n",
    "#             if signal[i] == 0:\n",
    "#                 if i - last_zero < self._max_dist:\n",
    "#                     signal[last_zero:i] = 0\n",
    "#                 last_zero = i\n",
    "\n",
    "#     def _merge_small(self, signal):\n",
    "#         lasts = np.full(signal.max() + 1, -(self._max_dist+1))\n",
    "#         for i in range(len(signal)):\n",
    "#             m = signal[i]\n",
    "#             if i - lasts[m] < self._max_dist and m > 0:\n",
    "#                 signal[lasts[m]:i] = m\n",
    "#             lasts[m] = i\n",
    "\n",
    "#     def _mask_to_delineation(self, data):\n",
    "#         masks = np.argmax(data, 1)\n",
    "#         delineation = []\n",
    "#         v_to_del = {0:'none', 1:'p', 2:'qrs', 3:'t'}\n",
    "#         for rec in masks:\n",
    "#             self._merge_small(rec)\n",
    "#             self._remove_small(rec)\n",
    "#             rec_del = []\n",
    "#             i = 0\n",
    "#             rec_len = len(rec)\n",
    "#             while i < rec_len:\n",
    "#                 v = rec[i]\n",
    "#                 if v > 0:\n",
    "#                     rec_del.append({\n",
    "#                         \"begin\": i,\n",
    "#                         \"end\": 0,\n",
    "#                         \"type\": v_to_del[v]\n",
    "#                     })\n",
    "#                     while i < rec_len and rec[i] == v:\n",
    "#                         rec_del[-1][\"end\"] = i\n",
    "#                         i += 1\n",
    "#                     t = rec_del[-1]\n",
    "#                     if t[\"begin\"] < self._border or t[\"end\"] > rec_len - self._border:\n",
    "#                         rec_del.pop()\n",
    "#                 i += 1\n",
    "#             d_res = []\n",
    "#             for c, n in zip(rec_del[:-1], rec_del[1:]):\n",
    "#                 d_res.append(c)\n",
    "#                 d_res.append({\n",
    "#                     \"begin\": c[\"end\"],\n",
    "#                     \"end\": n[\"begin\"],\n",
    "#                     \"type\": \"none\"\n",
    "#                 })\n",
    "#             if rec_del:\n",
    "#                 begin = {\n",
    "#                     \"begin\": 0,\n",
    "#                     \"end\": rec_del[0][\"begin\"],\n",
    "#                     \"type\": \"none\"\n",
    "#                 }\n",
    "#                 end = {\n",
    "#                     \"begin\": rec_del[-1][\"end\"],\n",
    "#                     \"end\": rec_len,\n",
    "#                     \"type\": \"none\"\n",
    "#                 }\n",
    "#                 d_res = [begin] + d_res + [rec_del[-1], end]\n",
    "#             else:\n",
    "#                 d_res.append({\n",
    "#                     \"begin\": 0,\n",
    "#                     \"end\": rec_len,\n",
    "#                     \"type\": \"none\"\n",
    "#                 })\n",
    "#             delineation.append(d_res)\n",
    "#         return delineation\n",
    "\n",
    "#     def __call__(self, signal):\n",
    "#         signal = torch.FloatTensor(np.expand_dims(signal, axis=1))\n",
    "#         masks = self._model(signal).data.numpy()\n",
    "#         return self._mask_to_delineation(masks)\n",
    "\n",
    "# def main():\n",
    "#     database_info = pd.read_csv(path_to_data+\"Diagnostics.csv\",delimiter=';')\n",
    "#     delineation = Delineation()\n",
    "#     i = 0\n",
    "#     for f in database_info['FileName']:\n",
    "#         signal = pd.read_csv(\"ECGDataDenoised/\"+f+'.csv',delimiter=',')\n",
    "#         data = np.array(signal)\n",
    "#         data_transp = np.transpose(data)\n",
    "#         result = delineation(data_transp)\n",
    "#         with open(path_to_data + f + \".json\", \"w\") as write_file:\n",
    "#             json.dump(result, write_file)\n",
    "#         print(i, \" record passed\")\n",
    "#         i+=1\n",
    "\n",
    "# if __name__ == \"__main__\":\n",
    "#     main()"
   ]
  },
  {
   "cell_type": "markdown",
   "metadata": {},
   "source": [
    "Теперь необходимо выделить нужные нам характеристики."
   ]
  },
  {
   "cell_type": "code",
   "execution_count": 58,
   "metadata": {},
   "outputs": [
    {
     "data": {
      "text/html": [
       "<div>\n",
       "<style scoped>\n",
       "    .dataframe tbody tr th:only-of-type {\n",
       "        vertical-align: middle;\n",
       "    }\n",
       "\n",
       "    .dataframe tbody tr th {\n",
       "        vertical-align: top;\n",
       "    }\n",
       "\n",
       "    .dataframe thead th {\n",
       "        text-align: right;\n",
       "    }\n",
       "</style>\n",
       "<table border=\"1\" class=\"dataframe\">\n",
       "  <thead>\n",
       "    <tr style=\"text-align: right;\">\n",
       "      <th></th>\n",
       "      <th>Gender</th>\n",
       "      <th>PatientAge</th>\n",
       "      <th>ALL_C_P_AV</th>\n",
       "      <th>ALL_C_P_DEV</th>\n",
       "      <th>ALL_C_QRS_AV</th>\n",
       "      <th>ALL_C_QRS_DEV</th>\n",
       "      <th>ALL_C_T_AV</th>\n",
       "      <th>ALL_C_T_DEV</th>\n",
       "      <th>ALL_C_PR_INT_AV</th>\n",
       "      <th>ALL_C_PR_INT_DEV</th>\n",
       "      <th>...</th>\n",
       "      <th>V6_C_T_AV</th>\n",
       "      <th>V6_C_T_DEV</th>\n",
       "      <th>V6_C_PR_INT_AV</th>\n",
       "      <th>V6_C_PR_INT_DEV</th>\n",
       "      <th>V6_C_PR_SEGM_AV</th>\n",
       "      <th>V6_C_PR_SEGM_DEV</th>\n",
       "      <th>V6_C_ST_SEGM_AV</th>\n",
       "      <th>V6_C_ST_SEGM_DEV</th>\n",
       "      <th>V6_C_QT_INT_AV</th>\n",
       "      <th>V6_C_QT_INT_DEV</th>\n",
       "    </tr>\n",
       "  </thead>\n",
       "  <tbody>\n",
       "  </tbody>\n",
       "</table>\n",
       "<p>0 rows × 184 columns</p>\n",
       "</div>"
      ],
      "text/plain": [
       "Empty DataFrame\n",
       "Columns: [Gender, PatientAge, ALL_C_P_AV, ALL_C_P_DEV, ALL_C_QRS_AV, ALL_C_QRS_DEV, ALL_C_T_AV, ALL_C_T_DEV, ALL_C_PR_INT_AV, ALL_C_PR_INT_DEV, ALL_C_PR_SEGM_AV, ALL_C_PR_SEGM_DEV, ALL_C_ST_SEGM_AV, ALL_C_ST_SEGM_DEV, ALL_C_QT_INT_AV, ALL_C_QT_INT_DEV, I_C_P_AV, I_C_P_DEV, I_C_QRS_AV, I_C_QRS_DEV, I_C_T_AV, I_C_T_DEV, I_C_PR_INT_AV, I_C_PR_INT_DEV, I_C_PR_SEGM_AV, I_C_PR_SEGM_DEV, I_C_ST_SEGM_AV, I_C_ST_SEGM_DEV, I_C_QT_INT_AV, I_C_QT_INT_DEV, II_C_P_AV, II_C_P_DEV, II_C_QRS_AV, II_C_QRS_DEV, II_C_T_AV, II_C_T_DEV, II_C_PR_INT_AV, II_C_PR_INT_DEV, II_C_PR_SEGM_AV, II_C_PR_SEGM_DEV, II_C_ST_SEGM_AV, II_C_ST_SEGM_DEV, II_C_QT_INT_AV, II_C_QT_INT_DEV, III_C_P_AV, III_C_P_DEV, III_C_QRS_AV, III_C_QRS_DEV, III_C_T_AV, III_C_T_DEV, III_C_PR_INT_AV, III_C_PR_INT_DEV, III_C_PR_SEGM_AV, III_C_PR_SEGM_DEV, III_C_ST_SEGM_AV, III_C_ST_SEGM_DEV, III_C_QT_INT_AV, III_C_QT_INT_DEV, AVR_C_P_AV, AVR_C_P_DEV, AVR_C_QRS_AV, AVR_C_QRS_DEV, AVR_C_T_AV, AVR_C_T_DEV, AVR_C_PR_INT_AV, AVR_C_PR_INT_DEV, AVR_C_PR_SEGM_AV, AVR_C_PR_SEGM_DEV, AVR_C_ST_SEGM_AV, AVR_C_ST_SEGM_DEV, AVR_C_QT_INT_AV, AVR_C_QT_INT_DEV, AVL_C_P_AV, AVL_C_P_DEV, AVL_C_QRS_AV, AVL_C_QRS_DEV, AVL_C_T_AV, AVL_C_T_DEV, AVL_C_PR_INT_AV, AVL_C_PR_INT_DEV, AVL_C_PR_SEGM_AV, AVL_C_PR_SEGM_DEV, AVL_C_ST_SEGM_AV, AVL_C_ST_SEGM_DEV, AVL_C_QT_INT_AV, AVL_C_QT_INT_DEV, AVF_C_P_AV, AVF_C_P_DEV, AVF_C_QRS_AV, AVF_C_QRS_DEV, AVF_C_T_AV, AVF_C_T_DEV, AVF_C_PR_INT_AV, AVF_C_PR_INT_DEV, AVF_C_PR_SEGM_AV, AVF_C_PR_SEGM_DEV, AVF_C_ST_SEGM_AV, AVF_C_ST_SEGM_DEV, AVF_C_QT_INT_AV, AVF_C_QT_INT_DEV, ...]\n",
       "Index: []\n",
       "\n",
       "[0 rows x 184 columns]"
      ]
     },
     "execution_count": 58,
     "metadata": {},
     "output_type": "execute_result"
    }
   ],
   "source": [
    "ch_names = ['I', 'II', 'III', 'AVR', 'AVL', 'AVF', 'V1', 'V2', 'V3', 'V4', 'V5', 'V6']\n",
    "attr_names = ['P_AV', 'P_DEV', 'QRS_AV', 'QRS_DEV', 'T_AV', 'T_DEV', 'PR_INT_AV', 'PR_INT_DEV', 'PR_SEGM_AV', 'PR_SEGM_DEV', 'ST_SEGM_AV',  'ST_SEGM_DEV', 'QT_INT_AV', 'QT_INT_DEV']\n",
    "attributes = [\"Gender\", \"PatientAge\"]\n",
    "for attr_name in attr_names:\n",
    "    attributes.append('ALL_C_' + attr_name)\n",
    "for ch_name in ch_names:\n",
    "    for attr_name in attr_names:\n",
    "        attributes.append(ch_name + '_C_' + attr_name)\n",
    "macro_data = pd.DataFrame(columns=attributes)\n",
    "macro_data"
   ]
  },
  {
   "cell_type": "code",
   "execution_count": 59,
   "metadata": {},
   "outputs": [
    {
     "data": {
      "text/html": [
       "<div>\n",
       "<style scoped>\n",
       "    .dataframe tbody tr th:only-of-type {\n",
       "        vertical-align: middle;\n",
       "    }\n",
       "\n",
       "    .dataframe tbody tr th {\n",
       "        vertical-align: top;\n",
       "    }\n",
       "\n",
       "    .dataframe thead th {\n",
       "        text-align: right;\n",
       "    }\n",
       "</style>\n",
       "<table border=\"1\" class=\"dataframe\">\n",
       "  <thead>\n",
       "    <tr style=\"text-align: right;\">\n",
       "      <th></th>\n",
       "      <th>FileName</th>\n",
       "      <th>Rhythm</th>\n",
       "      <th>Beat</th>\n",
       "      <th>PatientAge</th>\n",
       "      <th>Gender</th>\n",
       "      <th>VentricularRate</th>\n",
       "      <th>AtrialRate</th>\n",
       "      <th>QRSDuration</th>\n",
       "      <th>QTInterval</th>\n",
       "      <th>QTCorrected</th>\n",
       "      <th>RAxis</th>\n",
       "      <th>TAxis</th>\n",
       "      <th>QRSCount</th>\n",
       "      <th>QOnset</th>\n",
       "      <th>QOffset</th>\n",
       "      <th>TOffset</th>\n",
       "    </tr>\n",
       "  </thead>\n",
       "  <tbody>\n",
       "    <tr>\n",
       "      <th>0</th>\n",
       "      <td>MUSE_20180113_171327_27000</td>\n",
       "      <td>AFIB</td>\n",
       "      <td>RBBB TWC</td>\n",
       "      <td>85</td>\n",
       "      <td>MALE</td>\n",
       "      <td>117</td>\n",
       "      <td>234</td>\n",
       "      <td>114</td>\n",
       "      <td>356</td>\n",
       "      <td>496</td>\n",
       "      <td>81</td>\n",
       "      <td>-27</td>\n",
       "      <td>19</td>\n",
       "      <td>208</td>\n",
       "      <td>265</td>\n",
       "      <td>386</td>\n",
       "    </tr>\n",
       "    <tr>\n",
       "      <th>1</th>\n",
       "      <td>MUSE_20180112_073319_29000</td>\n",
       "      <td>SB</td>\n",
       "      <td>TWC</td>\n",
       "      <td>59</td>\n",
       "      <td>FEMALE</td>\n",
       "      <td>52</td>\n",
       "      <td>52</td>\n",
       "      <td>92</td>\n",
       "      <td>432</td>\n",
       "      <td>401</td>\n",
       "      <td>76</td>\n",
       "      <td>42</td>\n",
       "      <td>8</td>\n",
       "      <td>215</td>\n",
       "      <td>261</td>\n",
       "      <td>431</td>\n",
       "    </tr>\n",
       "    <tr>\n",
       "      <th>2</th>\n",
       "      <td>MUSE_20180111_165520_97000</td>\n",
       "      <td>SA</td>\n",
       "      <td>NONE</td>\n",
       "      <td>20</td>\n",
       "      <td>FEMALE</td>\n",
       "      <td>67</td>\n",
       "      <td>67</td>\n",
       "      <td>82</td>\n",
       "      <td>382</td>\n",
       "      <td>403</td>\n",
       "      <td>88</td>\n",
       "      <td>20</td>\n",
       "      <td>11</td>\n",
       "      <td>224</td>\n",
       "      <td>265</td>\n",
       "      <td>415</td>\n",
       "    </tr>\n",
       "    <tr>\n",
       "      <th>3</th>\n",
       "      <td>MUSE_20180113_121940_44000</td>\n",
       "      <td>SB</td>\n",
       "      <td>NONE</td>\n",
       "      <td>66</td>\n",
       "      <td>MALE</td>\n",
       "      <td>53</td>\n",
       "      <td>53</td>\n",
       "      <td>96</td>\n",
       "      <td>456</td>\n",
       "      <td>427</td>\n",
       "      <td>34</td>\n",
       "      <td>3</td>\n",
       "      <td>9</td>\n",
       "      <td>219</td>\n",
       "      <td>267</td>\n",
       "      <td>447</td>\n",
       "    </tr>\n",
       "    <tr>\n",
       "      <th>4</th>\n",
       "      <td>MUSE_20180112_122850_57000</td>\n",
       "      <td>AF</td>\n",
       "      <td>STDD STTC</td>\n",
       "      <td>73</td>\n",
       "      <td>FEMALE</td>\n",
       "      <td>162</td>\n",
       "      <td>162</td>\n",
       "      <td>114</td>\n",
       "      <td>252</td>\n",
       "      <td>413</td>\n",
       "      <td>68</td>\n",
       "      <td>-40</td>\n",
       "      <td>26</td>\n",
       "      <td>228</td>\n",
       "      <td>285</td>\n",
       "      <td>354</td>\n",
       "    </tr>\n",
       "    <tr>\n",
       "      <th>...</th>\n",
       "      <td>...</td>\n",
       "      <td>...</td>\n",
       "      <td>...</td>\n",
       "      <td>...</td>\n",
       "      <td>...</td>\n",
       "      <td>...</td>\n",
       "      <td>...</td>\n",
       "      <td>...</td>\n",
       "      <td>...</td>\n",
       "      <td>...</td>\n",
       "      <td>...</td>\n",
       "      <td>...</td>\n",
       "      <td>...</td>\n",
       "      <td>...</td>\n",
       "      <td>...</td>\n",
       "      <td>...</td>\n",
       "    </tr>\n",
       "    <tr>\n",
       "      <th>10641</th>\n",
       "      <td>MUSE_20181222_204306_99000</td>\n",
       "      <td>SVT</td>\n",
       "      <td>NONE</td>\n",
       "      <td>80</td>\n",
       "      <td>FEMALE</td>\n",
       "      <td>196</td>\n",
       "      <td>73</td>\n",
       "      <td>168</td>\n",
       "      <td>284</td>\n",
       "      <td>513</td>\n",
       "      <td>258</td>\n",
       "      <td>244</td>\n",
       "      <td>32</td>\n",
       "      <td>177</td>\n",
       "      <td>261</td>\n",
       "      <td>319</td>\n",
       "    </tr>\n",
       "    <tr>\n",
       "      <th>10642</th>\n",
       "      <td>MUSE_20181222_204309_22000</td>\n",
       "      <td>SVT</td>\n",
       "      <td>NONE</td>\n",
       "      <td>81</td>\n",
       "      <td>FEMALE</td>\n",
       "      <td>162</td>\n",
       "      <td>81</td>\n",
       "      <td>162</td>\n",
       "      <td>294</td>\n",
       "      <td>482</td>\n",
       "      <td>110</td>\n",
       "      <td>-75</td>\n",
       "      <td>27</td>\n",
       "      <td>173</td>\n",
       "      <td>254</td>\n",
       "      <td>320</td>\n",
       "    </tr>\n",
       "    <tr>\n",
       "      <th>10643</th>\n",
       "      <td>MUSE_20181222_204310_31000</td>\n",
       "      <td>SVT</td>\n",
       "      <td>NONE</td>\n",
       "      <td>39</td>\n",
       "      <td>MALE</td>\n",
       "      <td>152</td>\n",
       "      <td>92</td>\n",
       "      <td>152</td>\n",
       "      <td>340</td>\n",
       "      <td>540</td>\n",
       "      <td>250</td>\n",
       "      <td>38</td>\n",
       "      <td>25</td>\n",
       "      <td>208</td>\n",
       "      <td>284</td>\n",
       "      <td>378</td>\n",
       "    </tr>\n",
       "    <tr>\n",
       "      <th>10644</th>\n",
       "      <td>MUSE_20181222_204312_58000</td>\n",
       "      <td>SVT</td>\n",
       "      <td>NONE</td>\n",
       "      <td>76</td>\n",
       "      <td>MALE</td>\n",
       "      <td>175</td>\n",
       "      <td>178</td>\n",
       "      <td>128</td>\n",
       "      <td>310</td>\n",
       "      <td>529</td>\n",
       "      <td>98</td>\n",
       "      <td>-83</td>\n",
       "      <td>29</td>\n",
       "      <td>205</td>\n",
       "      <td>269</td>\n",
       "      <td>360</td>\n",
       "    </tr>\n",
       "    <tr>\n",
       "      <th>10645</th>\n",
       "      <td>MUSE_20181222_204314_78000</td>\n",
       "      <td>SVT</td>\n",
       "      <td>NONE</td>\n",
       "      <td>75</td>\n",
       "      <td>MALE</td>\n",
       "      <td>117</td>\n",
       "      <td>104</td>\n",
       "      <td>140</td>\n",
       "      <td>312</td>\n",
       "      <td>435</td>\n",
       "      <td>263</td>\n",
       "      <td>144</td>\n",
       "      <td>19</td>\n",
       "      <td>208</td>\n",
       "      <td>278</td>\n",
       "      <td>364</td>\n",
       "    </tr>\n",
       "  </tbody>\n",
       "</table>\n",
       "<p>10646 rows × 16 columns</p>\n",
       "</div>"
      ],
      "text/plain": [
       "                         FileName Rhythm       Beat  PatientAge  Gender  \\\n",
       "0      MUSE_20180113_171327_27000   AFIB   RBBB TWC          85    MALE   \n",
       "1      MUSE_20180112_073319_29000     SB        TWC          59  FEMALE   \n",
       "2      MUSE_20180111_165520_97000     SA       NONE          20  FEMALE   \n",
       "3      MUSE_20180113_121940_44000     SB       NONE          66    MALE   \n",
       "4      MUSE_20180112_122850_57000     AF  STDD STTC          73  FEMALE   \n",
       "...                           ...    ...        ...         ...     ...   \n",
       "10641  MUSE_20181222_204306_99000    SVT       NONE          80  FEMALE   \n",
       "10642  MUSE_20181222_204309_22000    SVT       NONE          81  FEMALE   \n",
       "10643  MUSE_20181222_204310_31000    SVT       NONE          39    MALE   \n",
       "10644  MUSE_20181222_204312_58000    SVT       NONE          76    MALE   \n",
       "10645  MUSE_20181222_204314_78000    SVT       NONE          75    MALE   \n",
       "\n",
       "       VentricularRate  AtrialRate  QRSDuration  QTInterval  QTCorrected  \\\n",
       "0                  117         234          114         356          496   \n",
       "1                   52          52           92         432          401   \n",
       "2                   67          67           82         382          403   \n",
       "3                   53          53           96         456          427   \n",
       "4                  162         162          114         252          413   \n",
       "...                ...         ...          ...         ...          ...   \n",
       "10641              196          73          168         284          513   \n",
       "10642              162          81          162         294          482   \n",
       "10643              152          92          152         340          540   \n",
       "10644              175         178          128         310          529   \n",
       "10645              117         104          140         312          435   \n",
       "\n",
       "       RAxis  TAxis  QRSCount  QOnset  QOffset  TOffset  \n",
       "0         81    -27        19     208      265      386  \n",
       "1         76     42         8     215      261      431  \n",
       "2         88     20        11     224      265      415  \n",
       "3         34      3         9     219      267      447  \n",
       "4         68    -40        26     228      285      354  \n",
       "...      ...    ...       ...     ...      ...      ...  \n",
       "10641    258    244        32     177      261      319  \n",
       "10642    110    -75        27     173      254      320  \n",
       "10643    250     38        25     208      284      378  \n",
       "10644     98    -83        29     205      269      360  \n",
       "10645    263    144        19     208      278      364  \n",
       "\n",
       "[10646 rows x 16 columns]"
      ]
     },
     "execution_count": 59,
     "metadata": {},
     "output_type": "execute_result"
    }
   ],
   "source": [
    "data = pd.read_csv(\"data/Diagnostics.csv\",delimiter=';')\n",
    "data"
   ]
  },
  {
   "cell_type": "markdown",
   "metadata": {},
   "source": [
    "Добавим из нашего датасета, с которым работали в начале, в наш новый датасет возраст и пол пациента."
   ]
  },
  {
   "cell_type": "code",
   "execution_count": 60,
   "metadata": {},
   "outputs": [
    {
     "data": {
      "text/html": [
       "<div>\n",
       "<style scoped>\n",
       "    .dataframe tbody tr th:only-of-type {\n",
       "        vertical-align: middle;\n",
       "    }\n",
       "\n",
       "    .dataframe tbody tr th {\n",
       "        vertical-align: top;\n",
       "    }\n",
       "\n",
       "    .dataframe thead th {\n",
       "        text-align: right;\n",
       "    }\n",
       "</style>\n",
       "<table border=\"1\" class=\"dataframe\">\n",
       "  <thead>\n",
       "    <tr style=\"text-align: right;\">\n",
       "      <th></th>\n",
       "      <th>Gender</th>\n",
       "      <th>PatientAge</th>\n",
       "      <th>ALL_C_P_AV</th>\n",
       "      <th>ALL_C_P_DEV</th>\n",
       "      <th>ALL_C_QRS_AV</th>\n",
       "      <th>ALL_C_QRS_DEV</th>\n",
       "      <th>ALL_C_T_AV</th>\n",
       "      <th>ALL_C_T_DEV</th>\n",
       "      <th>ALL_C_PR_INT_AV</th>\n",
       "      <th>ALL_C_PR_INT_DEV</th>\n",
       "      <th>...</th>\n",
       "      <th>V6_C_T_AV</th>\n",
       "      <th>V6_C_T_DEV</th>\n",
       "      <th>V6_C_PR_INT_AV</th>\n",
       "      <th>V6_C_PR_INT_DEV</th>\n",
       "      <th>V6_C_PR_SEGM_AV</th>\n",
       "      <th>V6_C_PR_SEGM_DEV</th>\n",
       "      <th>V6_C_ST_SEGM_AV</th>\n",
       "      <th>V6_C_ST_SEGM_DEV</th>\n",
       "      <th>V6_C_QT_INT_AV</th>\n",
       "      <th>V6_C_QT_INT_DEV</th>\n",
       "    </tr>\n",
       "  </thead>\n",
       "  <tbody>\n",
       "    <tr>\n",
       "      <th>0</th>\n",
       "      <td>MALE</td>\n",
       "      <td>85</td>\n",
       "      <td>NaN</td>\n",
       "      <td>NaN</td>\n",
       "      <td>NaN</td>\n",
       "      <td>NaN</td>\n",
       "      <td>NaN</td>\n",
       "      <td>NaN</td>\n",
       "      <td>NaN</td>\n",
       "      <td>NaN</td>\n",
       "      <td>...</td>\n",
       "      <td>NaN</td>\n",
       "      <td>NaN</td>\n",
       "      <td>NaN</td>\n",
       "      <td>NaN</td>\n",
       "      <td>NaN</td>\n",
       "      <td>NaN</td>\n",
       "      <td>NaN</td>\n",
       "      <td>NaN</td>\n",
       "      <td>NaN</td>\n",
       "      <td>NaN</td>\n",
       "    </tr>\n",
       "    <tr>\n",
       "      <th>1</th>\n",
       "      <td>FEMALE</td>\n",
       "      <td>59</td>\n",
       "      <td>NaN</td>\n",
       "      <td>NaN</td>\n",
       "      <td>NaN</td>\n",
       "      <td>NaN</td>\n",
       "      <td>NaN</td>\n",
       "      <td>NaN</td>\n",
       "      <td>NaN</td>\n",
       "      <td>NaN</td>\n",
       "      <td>...</td>\n",
       "      <td>NaN</td>\n",
       "      <td>NaN</td>\n",
       "      <td>NaN</td>\n",
       "      <td>NaN</td>\n",
       "      <td>NaN</td>\n",
       "      <td>NaN</td>\n",
       "      <td>NaN</td>\n",
       "      <td>NaN</td>\n",
       "      <td>NaN</td>\n",
       "      <td>NaN</td>\n",
       "    </tr>\n",
       "    <tr>\n",
       "      <th>2</th>\n",
       "      <td>FEMALE</td>\n",
       "      <td>20</td>\n",
       "      <td>NaN</td>\n",
       "      <td>NaN</td>\n",
       "      <td>NaN</td>\n",
       "      <td>NaN</td>\n",
       "      <td>NaN</td>\n",
       "      <td>NaN</td>\n",
       "      <td>NaN</td>\n",
       "      <td>NaN</td>\n",
       "      <td>...</td>\n",
       "      <td>NaN</td>\n",
       "      <td>NaN</td>\n",
       "      <td>NaN</td>\n",
       "      <td>NaN</td>\n",
       "      <td>NaN</td>\n",
       "      <td>NaN</td>\n",
       "      <td>NaN</td>\n",
       "      <td>NaN</td>\n",
       "      <td>NaN</td>\n",
       "      <td>NaN</td>\n",
       "    </tr>\n",
       "    <tr>\n",
       "      <th>3</th>\n",
       "      <td>MALE</td>\n",
       "      <td>66</td>\n",
       "      <td>NaN</td>\n",
       "      <td>NaN</td>\n",
       "      <td>NaN</td>\n",
       "      <td>NaN</td>\n",
       "      <td>NaN</td>\n",
       "      <td>NaN</td>\n",
       "      <td>NaN</td>\n",
       "      <td>NaN</td>\n",
       "      <td>...</td>\n",
       "      <td>NaN</td>\n",
       "      <td>NaN</td>\n",
       "      <td>NaN</td>\n",
       "      <td>NaN</td>\n",
       "      <td>NaN</td>\n",
       "      <td>NaN</td>\n",
       "      <td>NaN</td>\n",
       "      <td>NaN</td>\n",
       "      <td>NaN</td>\n",
       "      <td>NaN</td>\n",
       "    </tr>\n",
       "    <tr>\n",
       "      <th>4</th>\n",
       "      <td>FEMALE</td>\n",
       "      <td>73</td>\n",
       "      <td>NaN</td>\n",
       "      <td>NaN</td>\n",
       "      <td>NaN</td>\n",
       "      <td>NaN</td>\n",
       "      <td>NaN</td>\n",
       "      <td>NaN</td>\n",
       "      <td>NaN</td>\n",
       "      <td>NaN</td>\n",
       "      <td>...</td>\n",
       "      <td>NaN</td>\n",
       "      <td>NaN</td>\n",
       "      <td>NaN</td>\n",
       "      <td>NaN</td>\n",
       "      <td>NaN</td>\n",
       "      <td>NaN</td>\n",
       "      <td>NaN</td>\n",
       "      <td>NaN</td>\n",
       "      <td>NaN</td>\n",
       "      <td>NaN</td>\n",
       "    </tr>\n",
       "    <tr>\n",
       "      <th>...</th>\n",
       "      <td>...</td>\n",
       "      <td>...</td>\n",
       "      <td>...</td>\n",
       "      <td>...</td>\n",
       "      <td>...</td>\n",
       "      <td>...</td>\n",
       "      <td>...</td>\n",
       "      <td>...</td>\n",
       "      <td>...</td>\n",
       "      <td>...</td>\n",
       "      <td>...</td>\n",
       "      <td>...</td>\n",
       "      <td>...</td>\n",
       "      <td>...</td>\n",
       "      <td>...</td>\n",
       "      <td>...</td>\n",
       "      <td>...</td>\n",
       "      <td>...</td>\n",
       "      <td>...</td>\n",
       "      <td>...</td>\n",
       "      <td>...</td>\n",
       "    </tr>\n",
       "    <tr>\n",
       "      <th>10641</th>\n",
       "      <td>FEMALE</td>\n",
       "      <td>80</td>\n",
       "      <td>NaN</td>\n",
       "      <td>NaN</td>\n",
       "      <td>NaN</td>\n",
       "      <td>NaN</td>\n",
       "      <td>NaN</td>\n",
       "      <td>NaN</td>\n",
       "      <td>NaN</td>\n",
       "      <td>NaN</td>\n",
       "      <td>...</td>\n",
       "      <td>NaN</td>\n",
       "      <td>NaN</td>\n",
       "      <td>NaN</td>\n",
       "      <td>NaN</td>\n",
       "      <td>NaN</td>\n",
       "      <td>NaN</td>\n",
       "      <td>NaN</td>\n",
       "      <td>NaN</td>\n",
       "      <td>NaN</td>\n",
       "      <td>NaN</td>\n",
       "    </tr>\n",
       "    <tr>\n",
       "      <th>10642</th>\n",
       "      <td>FEMALE</td>\n",
       "      <td>81</td>\n",
       "      <td>NaN</td>\n",
       "      <td>NaN</td>\n",
       "      <td>NaN</td>\n",
       "      <td>NaN</td>\n",
       "      <td>NaN</td>\n",
       "      <td>NaN</td>\n",
       "      <td>NaN</td>\n",
       "      <td>NaN</td>\n",
       "      <td>...</td>\n",
       "      <td>NaN</td>\n",
       "      <td>NaN</td>\n",
       "      <td>NaN</td>\n",
       "      <td>NaN</td>\n",
       "      <td>NaN</td>\n",
       "      <td>NaN</td>\n",
       "      <td>NaN</td>\n",
       "      <td>NaN</td>\n",
       "      <td>NaN</td>\n",
       "      <td>NaN</td>\n",
       "    </tr>\n",
       "    <tr>\n",
       "      <th>10643</th>\n",
       "      <td>MALE</td>\n",
       "      <td>39</td>\n",
       "      <td>NaN</td>\n",
       "      <td>NaN</td>\n",
       "      <td>NaN</td>\n",
       "      <td>NaN</td>\n",
       "      <td>NaN</td>\n",
       "      <td>NaN</td>\n",
       "      <td>NaN</td>\n",
       "      <td>NaN</td>\n",
       "      <td>...</td>\n",
       "      <td>NaN</td>\n",
       "      <td>NaN</td>\n",
       "      <td>NaN</td>\n",
       "      <td>NaN</td>\n",
       "      <td>NaN</td>\n",
       "      <td>NaN</td>\n",
       "      <td>NaN</td>\n",
       "      <td>NaN</td>\n",
       "      <td>NaN</td>\n",
       "      <td>NaN</td>\n",
       "    </tr>\n",
       "    <tr>\n",
       "      <th>10644</th>\n",
       "      <td>MALE</td>\n",
       "      <td>76</td>\n",
       "      <td>NaN</td>\n",
       "      <td>NaN</td>\n",
       "      <td>NaN</td>\n",
       "      <td>NaN</td>\n",
       "      <td>NaN</td>\n",
       "      <td>NaN</td>\n",
       "      <td>NaN</td>\n",
       "      <td>NaN</td>\n",
       "      <td>...</td>\n",
       "      <td>NaN</td>\n",
       "      <td>NaN</td>\n",
       "      <td>NaN</td>\n",
       "      <td>NaN</td>\n",
       "      <td>NaN</td>\n",
       "      <td>NaN</td>\n",
       "      <td>NaN</td>\n",
       "      <td>NaN</td>\n",
       "      <td>NaN</td>\n",
       "      <td>NaN</td>\n",
       "    </tr>\n",
       "    <tr>\n",
       "      <th>10645</th>\n",
       "      <td>MALE</td>\n",
       "      <td>75</td>\n",
       "      <td>NaN</td>\n",
       "      <td>NaN</td>\n",
       "      <td>NaN</td>\n",
       "      <td>NaN</td>\n",
       "      <td>NaN</td>\n",
       "      <td>NaN</td>\n",
       "      <td>NaN</td>\n",
       "      <td>NaN</td>\n",
       "      <td>...</td>\n",
       "      <td>NaN</td>\n",
       "      <td>NaN</td>\n",
       "      <td>NaN</td>\n",
       "      <td>NaN</td>\n",
       "      <td>NaN</td>\n",
       "      <td>NaN</td>\n",
       "      <td>NaN</td>\n",
       "      <td>NaN</td>\n",
       "      <td>NaN</td>\n",
       "      <td>NaN</td>\n",
       "    </tr>\n",
       "  </tbody>\n",
       "</table>\n",
       "<p>10646 rows × 184 columns</p>\n",
       "</div>"
      ],
      "text/plain": [
       "       Gender  PatientAge ALL_C_P_AV ALL_C_P_DEV ALL_C_QRS_AV ALL_C_QRS_DEV  \\\n",
       "0        MALE          85        NaN         NaN          NaN           NaN   \n",
       "1      FEMALE          59        NaN         NaN          NaN           NaN   \n",
       "2      FEMALE          20        NaN         NaN          NaN           NaN   \n",
       "3        MALE          66        NaN         NaN          NaN           NaN   \n",
       "4      FEMALE          73        NaN         NaN          NaN           NaN   \n",
       "...       ...         ...        ...         ...          ...           ...   \n",
       "10641  FEMALE          80        NaN         NaN          NaN           NaN   \n",
       "10642  FEMALE          81        NaN         NaN          NaN           NaN   \n",
       "10643    MALE          39        NaN         NaN          NaN           NaN   \n",
       "10644    MALE          76        NaN         NaN          NaN           NaN   \n",
       "10645    MALE          75        NaN         NaN          NaN           NaN   \n",
       "\n",
       "      ALL_C_T_AV ALL_C_T_DEV ALL_C_PR_INT_AV ALL_C_PR_INT_DEV  ... V6_C_T_AV  \\\n",
       "0            NaN         NaN             NaN              NaN  ...       NaN   \n",
       "1            NaN         NaN             NaN              NaN  ...       NaN   \n",
       "2            NaN         NaN             NaN              NaN  ...       NaN   \n",
       "3            NaN         NaN             NaN              NaN  ...       NaN   \n",
       "4            NaN         NaN             NaN              NaN  ...       NaN   \n",
       "...          ...         ...             ...              ...  ...       ...   \n",
       "10641        NaN         NaN             NaN              NaN  ...       NaN   \n",
       "10642        NaN         NaN             NaN              NaN  ...       NaN   \n",
       "10643        NaN         NaN             NaN              NaN  ...       NaN   \n",
       "10644        NaN         NaN             NaN              NaN  ...       NaN   \n",
       "10645        NaN         NaN             NaN              NaN  ...       NaN   \n",
       "\n",
       "      V6_C_T_DEV V6_C_PR_INT_AV V6_C_PR_INT_DEV V6_C_PR_SEGM_AV  \\\n",
       "0            NaN            NaN             NaN             NaN   \n",
       "1            NaN            NaN             NaN             NaN   \n",
       "2            NaN            NaN             NaN             NaN   \n",
       "3            NaN            NaN             NaN             NaN   \n",
       "4            NaN            NaN             NaN             NaN   \n",
       "...          ...            ...             ...             ...   \n",
       "10641        NaN            NaN             NaN             NaN   \n",
       "10642        NaN            NaN             NaN             NaN   \n",
       "10643        NaN            NaN             NaN             NaN   \n",
       "10644        NaN            NaN             NaN             NaN   \n",
       "10645        NaN            NaN             NaN             NaN   \n",
       "\n",
       "      V6_C_PR_SEGM_DEV V6_C_ST_SEGM_AV V6_C_ST_SEGM_DEV V6_C_QT_INT_AV  \\\n",
       "0                  NaN             NaN              NaN            NaN   \n",
       "1                  NaN             NaN              NaN            NaN   \n",
       "2                  NaN             NaN              NaN            NaN   \n",
       "3                  NaN             NaN              NaN            NaN   \n",
       "4                  NaN             NaN              NaN            NaN   \n",
       "...                ...             ...              ...            ...   \n",
       "10641              NaN             NaN              NaN            NaN   \n",
       "10642              NaN             NaN              NaN            NaN   \n",
       "10643              NaN             NaN              NaN            NaN   \n",
       "10644              NaN             NaN              NaN            NaN   \n",
       "10645              NaN             NaN              NaN            NaN   \n",
       "\n",
       "      V6_C_QT_INT_DEV  \n",
       "0                 NaN  \n",
       "1                 NaN  \n",
       "2                 NaN  \n",
       "3                 NaN  \n",
       "4                 NaN  \n",
       "...               ...  \n",
       "10641             NaN  \n",
       "10642             NaN  \n",
       "10643             NaN  \n",
       "10644             NaN  \n",
       "10645             NaN  \n",
       "\n",
       "[10646 rows x 184 columns]"
      ]
     },
     "execution_count": 60,
     "metadata": {},
     "output_type": "execute_result"
    }
   ],
   "source": [
    "macro_data[\"Gender\"]=data[\"Gender\"]\n",
    "macro_data[\"PatientAge\"]=data[\"PatientAge\"]\n",
    "macro_data"
   ]
  },
  {
   "cell_type": "markdown",
   "metadata": {},
   "source": [
    "Теперь выделим необходимы для работы признаки:"
   ]
  },
  {
   "cell_type": "markdown",
   "metadata": {},
   "source": [
    "*Short Name* | *Description* | \n",
    "--- | --- | \n",
    "P_AV | Average values of the length wave p |\n",
    "QRS_AV | Average values of the length qrs | \n",
    "QRS_DEV | Dispersion qrs| \n",
    "T_AV | Average values of the length wave t |\n",
    "T_DEV | Dispersion wave t | \n",
    "PR_INT_AV | Average values of the pr interval | \n",
    "PR_INT_DEV | Dispersion of the pr interval | \n",
    "PR_SEGM_AV | Average values of the pr segment | \n",
    "PR_SEGM_DEV | Dispersion of the pr segment |  \n",
    "ST_SEGM_AV | Average values of the st segment | \n",
    "ST_SEGM_DEV | Dispersion of the st segment | \n",
    "QT_INT_AV | Average values of the qt interval | \n",
    "QT_INT_DEV | Dispersion of the qt interval |"
   ]
  },
  {
   "cell_type": "code",
   "execution_count": 61,
   "metadata": {},
   "outputs": [],
   "source": [
    "sample_rate = 500\n",
    "path_to_model = \"Segmentation/\"\n",
    "path_to_data = \"data/\""
   ]
  },
  {
   "cell_type": "code",
   "execution_count": null,
   "metadata": {},
   "outputs": [
    {
     "data": {
      "application/vnd.jupyter.widget-view+json": {
       "model_id": "fc9382ce1af84b71a0e02d3c2424be80",
       "version_major": 2,
       "version_minor": 0
      },
      "text/plain": [
       "IntProgress(value=0, max=10646)"
      ]
     },
     "metadata": {},
     "output_type": "display_data"
    }
   ],
   "source": [
    "import json\n",
    "\n",
    "\n",
    "from ipywidgets import IntProgress\n",
    "from IPython.display import display\n",
    "\n",
    "progress = IntProgress(min=0, max=len(macro_data.index), value=0)\n",
    "display(progress)\n",
    "for i, record in enumerate(data.iloc):\n",
    "    record_data = json.load(open(path_to_data + record.FileName + \".json\", 'r'))\n",
    "    # список средних значений длины p волны с каждого из 12 отведений\n",
    "    p_mean_list = []\n",
    "    # список дисперсий длины p волны с каждого из 12 отведений\n",
    "    p_dis_list = []\n",
    "    # список средних значений длины qrs комплекса с каждого из 12 отведений\n",
    "    qrs_mean_list = []\n",
    "    # список дисперсий длины qrs комплекса с каждого из 12 отведений\n",
    "    qrs_dis_list = []\n",
    "    # список средних значений длины t волны с каждого из 12 отведений\n",
    "    t_mean_list = []\n",
    "    # список дисперсий длины t волны с каждого из 12 отведений\n",
    "    t_dis_list = []\n",
    "    # список средних значений длины pr интервала с каждого из 12 отведений\n",
    "    pr_int_mean_list = []\n",
    "    # список дисперсий длины pr интервала с каждого из 12 отведений\n",
    "    pr_int_dis_list = []\n",
    "    # список средних значений длины pr сегмента с каждого из 12 отведений\n",
    "    pr_seg_mean_list = []\n",
    "    # список дисперсий длины pr сегмента с каждого из 12 отведений\n",
    "    pr_seg_dis_list = []\n",
    "    # список средних значений длины st сегмента с каждого из 12 отведений\n",
    "    st_seg_mean_list = []\n",
    "    # список дисперсий длины st сегмента с каждого из 12 отведений\n",
    "    st_seg_dis_list = []\n",
    "    # список средних значений длины qt интервала с каждого из 12 отведений\n",
    "    qt_int_mean_list = []\n",
    "    # список дисперсий длины qt интервала с каждого из 12 отведений\n",
    "    qt_int_dis_list = []\n",
    "    for ch_num, chanel in enumerate(record_data):\n",
    "        # списки длин соответствующих волн, комплексов, интервалов\n",
    "        p_list = []\n",
    "        qrs_list = []\n",
    "        t_list = []\n",
    "        pr_int_list = []\n",
    "        pr_seg_list = []\n",
    "        st_seg_list = []\n",
    "        qt_int_list = []\n",
    "        for wave_num, wave in enumerate(chanel):\n",
    "            if wave['type'] == 'p':\n",
    "                # Собираем длины p волн в список\n",
    "                p_list.append(wave['end'] - wave['begin'])\n",
    "                # Собираем длины pr интервалов и pr сегментов\n",
    "                if wave_num < len(chanel) - 2:\n",
    "                    if (chanel[wave_num + 1]['type'] == 'qrs'):\n",
    "                        pr_int_list.append(chanel[wave_num + 1]['begin'] - wave['begin'])\n",
    "                        pr_seg_list.append(0)\n",
    "                    if (chanel[wave_num + 2]['type'] == 'qrs'):\n",
    "                        pr_int_list.append(chanel[wave_num + 2]['begin'] - wave['begin'])\n",
    "                        pr_seg_list.append(chanel[wave_num + 2]['begin'] - wave['end'])\n",
    "            if wave['type'] == 'qrs':\n",
    "                # Собираем длины qrs комплексов в список\n",
    "                qrs_list.append(wave['end'] - wave['begin'])\n",
    "                # Собираем длины st сегментов и qt интервалов\n",
    "                if wave_num < len(chanel) - 2:\n",
    "                    if (chanel[wave_num + 1]['type'] == 't'):\n",
    "                        qt_int_list.append(chanel[wave_num + 1]['end'] - wave['begin'])\n",
    "                        st_seg_list.append(0)\n",
    "                    if (chanel[wave_num + 2]['type'] == 't'):\n",
    "                        qt_int_list.append(chanel[wave_num + 2]['end'] - wave['begin'])\n",
    "                        st_seg_list.append(chanel[wave_num + 2]['begin'] - wave['end'])\n",
    "            if wave['type'] == 't':\n",
    "                # Собираем длины t волн\n",
    "                t_list.append(wave['end'] - wave['begin'])\n",
    "        # Добавляем средние значения и дисперсии в списки\n",
    "        p_mean = 0\n",
    "        p_dis = 0\n",
    "        if (len(p_list) > 0):\n",
    "            p_mean = sum(p_list) / len(p_list)\n",
    "            p_dis = sum((p - p_mean) ** 2 for p in p_list) / len(p_list)\n",
    "        p_mean_list.append(p_mean)\n",
    "        macro_data.loc[macro_data.index[i], ch_names[ch_num] + '_C_' + 'P_AV'] = p_mean * 1000 / sample_rate\n",
    "        p_dis_list.append(p_dis)\n",
    "        macro_data.loc[macro_data.index[i], ch_names[ch_num] + '_C_' + 'P_DEV'] = p_dis ** 0.5 * 1000 / sample_rate\n",
    "\n",
    "        qrs_mean = 0\n",
    "        qrs_dis = 0\n",
    "        if (len(qrs_list) > 0):\n",
    "            qrs_mean = sum(qrs_list) / len(qrs_list)\n",
    "            qrs_dis = sum((qrs - qrs_mean) ** 2 for qrs in qrs_list) / len(qrs_list)\n",
    "        qrs_mean_list.append(qrs_mean)\n",
    "        macro_data.loc[macro_data.index[i], ch_names[ch_num] + '_C_' + 'QRS_AV'] = qrs_mean * 1000 / sample_rate\n",
    "        qrs_dis_list.append(qrs_dis)\n",
    "        macro_data.loc[macro_data.index[i], ch_names[ch_num] + '_C_' + 'QRS_DEV'] = qrs_dis ** 0.5 * 1000 / sample_rate\n",
    "        \n",
    "        t_mean = 0\n",
    "        t_dis = 0\n",
    "        if (len(t_list) > 0):\n",
    "            t_mean = sum(t_list) / len(t_list)\n",
    "            t_dis = sum((t - t_mean) ** 2 for t in t_list) / len(t_list)\n",
    "        t_mean_list.append(t_mean)\n",
    "        macro_data.loc[macro_data.index[i], ch_names[ch_num] + '_C_' + 'T_AV'] = t_mean * 1000 / sample_rate\n",
    "        t_dis_list.append(t_dis)\n",
    "        macro_data.loc[macro_data.index[i], ch_names[ch_num] + '_C_' + 'T_DEV'] = t_dis ** 0.5 * 1000 / sample_rate\n",
    "\n",
    "        pr_int_mean = 0\n",
    "        pr_int_dis = 0\n",
    "        if (len(pr_int_list) > 0):\n",
    "            pr_int_mean = sum(pr_int_list) / len(pr_int_list)\n",
    "            pr_int_dis = sum((pr_int - pr_int_mean) ** 2 for pr_int in pr_int_list) / len(pr_int_list)\n",
    "        pr_int_mean_list.append(pr_int_mean)\n",
    "        macro_data.loc[macro_data.index[i], ch_names[ch_num] + '_C_' + 'PR_INT_AV'] = pr_int_mean * 1000 / sample_rate\n",
    "        pr_int_dis_list.append(pr_int_dis)\n",
    "        macro_data.loc[macro_data.index[i], ch_names[ch_num] + '_C_' + 'PR_INT_DEV'] = pr_int_dis ** 0.5 * 1000 / sample_rate\n",
    "\n",
    "        pr_seg_mean = 0\n",
    "        pr_seg_dis = 0\n",
    "        if (len(pr_seg_list) > 0):\n",
    "            pr_seg_mean = sum(pr_seg_list) / len(pr_seg_list)\n",
    "            pr_seg_dis = sum((pr_seg - pr_seg_mean) ** 2 for pr_seg in pr_seg_list) / len(pr_seg_list)\n",
    "        pr_seg_mean_list.append(pr_seg_mean)\n",
    "        macro_data.loc[macro_data.index[i], ch_names[ch_num] + '_C_' + 'PR_SEGM_AV'] = pr_seg_mean * 1000 / sample_rate\n",
    "        pr_seg_dis_list.append(pr_seg_dis)\n",
    "        macro_data.loc[macro_data.index[i], ch_names[ch_num] + '_C_' + 'PR_SEGM_DEV'] = pr_seg_dis ** 0.5 * 1000 / sample_rate\n",
    "\n",
    "        st_seg_mean = 0\n",
    "        st_seg_dis = 0\n",
    "        if (len(st_seg_list) > 0):\n",
    "            st_seg_mean = sum(st_seg_list) / len(st_seg_list)\n",
    "            st_seg_dis = sum((st_seg - st_seg_mean) ** 2 for st_seg in st_seg_list) / len(st_seg_list)\n",
    "        st_seg_mean_list.append(st_seg_mean)\n",
    "        macro_data.loc[macro_data.index[i], ch_names[ch_num] + '_C_' + 'ST_SEGM_AV'] = st_seg_mean * 1000 / sample_rate\n",
    "        st_seg_dis_list.append(st_seg_dis)\n",
    "        macro_data.loc[macro_data.index[i], ch_names[ch_num] + '_C_' + 'ST_SEGM_DEV'] = st_seg_dis ** 0.5 * 1000 / sample_rate\n",
    "\n",
    "        qt_int_mean = 0\n",
    "        qt_int_dis = 0\n",
    "        if (len(qt_int_list) > 0):\n",
    "            qt_int_mean = sum(qt_int_list) / len(qt_int_list)\n",
    "            qt_int_dis = sum((qt_int - qt_int_mean) ** 2 for qt_int in qt_int_list) / len(qt_int_list)\n",
    "        qt_int_mean_list.append(qt_int_mean)\n",
    "        macro_data.loc[macro_data.index[i], ch_names[ch_num] + '_C_' + 'QT_INT_AV'] = qt_int_mean * 1000 / sample_rate\n",
    "        qt_int_dis_list.append(qt_int_dis)\n",
    "        macro_data.loc[macro_data.index[i], ch_names[ch_num] + '_C_' + 'QT_INT_DEV'] = qt_int_dis ** 0.5 * 1000 / sample_rate\n",
    "    macro_data.loc[macro_data.index[i], 'ALL_C_' + 'P_AV'] = sum(p_mean_list) / len(p_mean_list) * 1000 / sample_rate\n",
    "    macro_data.loc[macro_data.index[i], 'ALL_C_' + 'P_DEV'] = (sum(p_dis_list) / len(p_dis_list)) ** 0.5 * 1000 / sample_rate\n",
    "    macro_data.loc[macro_data.index[i], 'ALL_C_' + 'QRS_AV'] = sum(qrs_mean_list) / len(qrs_mean_list) * 1000 / sample_rate\n",
    "    macro_data.loc[macro_data.index[i], 'ALL_C_' + 'QRS_DEV'] = (sum(qrs_dis_list) / len(qrs_dis_list)) ** 0.5 * 1000 / sample_rate\n",
    "    macro_data.loc[macro_data.index[i], 'ALL_C_' + 'T_AV'] = sum(t_mean_list) / len(t_mean_list) * 1000 / sample_rate\n",
    "    macro_data.loc[macro_data.index[i], 'ALL_C_' + 'T_DEV'] = (sum(t_dis_list) / len(t_dis_list)) ** 0.5 * 1000 / sample_rate\n",
    "    macro_data.loc[macro_data.index[i], 'ALL_C_' + 'PR_INT_AV'] = sum(pr_int_mean_list) / len(pr_int_mean_list) * 1000 / sample_rate\n",
    "    macro_data.loc[macro_data.index[i], 'ALL_C_' + 'PR_INT_DEV'] = (sum(pr_int_dis_list) / len(pr_int_dis_list)) ** 0.5 * 1000 / sample_rate\n",
    "    macro_data.loc[macro_data.index[i], 'ALL_C_' + 'PR_SEGM_AV'] = sum(pr_seg_mean_list) / len(pr_seg_mean_list) * 1000 / sample_rate\n",
    "    macro_data.loc[macro_data.index[i], 'ALL_C_' + 'PR_SEGM_DEV'] = (sum(pr_seg_dis_list) / len(pr_seg_dis_list)) ** 0.5 * 1000 / sample_rate\n",
    "    macro_data.loc[macro_data.index[i], 'ALL_C_' + 'ST_SEGM_AV'] = sum(st_seg_mean_list) / len(st_seg_mean_list) * 1000 / sample_rate\n",
    "    macro_data.loc[macro_data.index[i], 'ALL_C_' + 'ST_SEGM_DEV'] = (sum(st_seg_dis_list) / len(st_seg_dis_list)) ** 0.5 * 1000 / sample_rate\n",
    "    macro_data.loc[macro_data.index[i], 'ALL_C_' + 'QT_INT_AV'] = sum(qt_int_mean_list) / len(qt_int_mean_list) * 1000 / sample_rate\n",
    "    macro_data.loc[macro_data.index[i], 'ALL_C_' + 'QT_INT_DEV'] = (sum(qt_int_dis_list) / len(qt_int_dis_list)) ** 0.5 * 1000 / sample_rate\n",
    "    progress.value = i\n",
    "macro_data"
   ]
  },
  {
   "cell_type": "markdown",
   "metadata": {},
   "source": [
    "Теперь добавим диагнозы из нашего изначального датасета."
   ]
  },
  {
   "cell_type": "code",
   "execution_count": null,
   "metadata": {},
   "outputs": [],
   "source": [
    "macro_data[\"Rhythm\"] = data[\"Rhythm\"]\n",
    "macro_data"
   ]
  },
  {
   "cell_type": "markdown",
   "metadata": {},
   "source": [
    "Теперь, собрав все нужные нам характеристики у нашего нового датасета, можем проверить метрики точности предсказания диагноза."
   ]
  },
  {
   "cell_type": "markdown",
   "metadata": {},
   "source": [
    "Сделаем как в прошлый раз объединение в супер классы."
   ]
  },
  {
   "cell_type": "code",
   "execution_count": null,
   "metadata": {},
   "outputs": [],
   "source": [
    "for i in range(0,len(data[\"Rhythm\"])):\n",
    "    if macro_data['Rhythm'][i]=='AFIB' or macro_data['Rhythm'][i]=='AF':\n",
    "        macro_data['Rhythm'][i]='AFIB'\n",
    "    if macro_data['Rhythm'][i]=='SVT' or macro_data['Rhythm'][i]=='AT' or macro_data['Rhythm'][i]=='AVNRT' or macro_data['Rhythm'][i]=='AVRT'  or macro_data['Rhythm'][i]=='ST' or macro_data['Rhythm'][i]=='SAAWR':\n",
    "        macro_data['Rhythm'][i]='GSVT'\n",
    "    if macro_data['Rhythm'][i]=='SR' or macro_data['Rhythm'][i]=='SA':\n",
    "        macro_data['Rhythm'][i]='SR'"
   ]
  },
  {
   "cell_type": "code",
   "execution_count": null,
   "metadata": {},
   "outputs": [],
   "source": [
    "le = preprocessing.LabelEncoder()\n",
    "\n",
    "le.fit(macro_data['Gender'])\n",
    "macro_data['Gender']=le.transform(macro_data['Gender'])\n",
    "le.fit(macro_data['Rhythm'])\n",
    "macro_data['Rhythm']=le.transform(macro_data['Rhythm'])\n",
    "macro_data=pd.get_dummies(macro_data, columns=[\"Gender\"])"
   ]
  },
  {
   "cell_type": "code",
   "execution_count": null,
   "metadata": {},
   "outputs": [],
   "source": [
    "y=macro_data['Rhythm']\n",
    "macro_data.pop('Rhythm')\n",
    "X=macro_data"
   ]
  },
  {
   "cell_type": "code",
   "execution_count": null,
   "metadata": {},
   "outputs": [],
   "source": [
    "X_scaled=scale(X)\n",
    "X_scaled"
   ]
  },
  {
   "cell_type": "code",
   "execution_count": null,
   "metadata": {},
   "outputs": [],
   "source": [
    "X_train, X_test, y_train, y_test = train_test_split(X_scaled, y, test_size=0.25,stratify=y, random_state=42)\n",
    "#мое"
   ]
  },
  {
   "cell_type": "code",
   "execution_count": null,
   "metadata": {},
   "outputs": [],
   "source": [
    "model = keras.Sequential([\n",
    "    keras.layers.Flatten(input_shape=(185,)),\n",
    "    keras.layers.Dense(600, activation=tf.nn.tanh),\n",
    "    keras.layers.Dense(400, activation=tf.nn.tanh),\n",
    "    keras.layers.Dense(100, activation=tf.nn.tanh),\n",
    "    keras.layers.Dense(20, activation=tf.nn.tanh),\n",
    "    keras.layers.Dense(4, activation=tf.nn.softmax)\n",
    "])"
   ]
  },
  {
   "cell_type": "code",
   "execution_count": null,
   "metadata": {},
   "outputs": [],
   "source": [
    "model.compile(optimizer=tf.keras.optimizers.RMSprop(), \n",
    "              loss='sparse_categorical_crossentropy',\n",
    "              metrics=['accuracy'])"
   ]
  },
  {
   "cell_type": "code",
   "execution_count": null,
   "metadata": {},
   "outputs": [],
   "source": [
    "model.fit(X_train, y_train, epochs=12)"
   ]
  },
  {
   "cell_type": "code",
   "execution_count": null,
   "metadata": {},
   "outputs": [],
   "source": [
    "test_loss, test_acc = model.evaluate(X_test, y_test)\n",
    "print('Test accuracy:', test_acc)"
   ]
  },
  {
   "cell_type": "markdown",
   "metadata": {},
   "source": [
    "# Вывод:"
   ]
  },
  {
   "cell_type": "markdown",
   "metadata": {},
   "source": [
    "В первой части работы мы провели исследование над уже готовыми размеченными данными, которые нам предоставили Chapman University и Shaoxing People's Hospital. На этих данных точность предсказания достигла максимума (91% точности) при использовании неглубокой нейронной сети с 4-мя нелинейными слоями. Во второй части работы мы разметили вручную голый сигнал с добавлением двух признаков из размеченных данных (пол и возраст). По результатам, полученным после нашей собственной разметки данных (83%) можно сделать вывод о том, что наша разметка оказалась хуже, чем \"заводская\". Таким образом, в следующей работе предстоит наилучшим образом разметить данные, чтобы увеличить точность."
   ]
  }
 ],
 "metadata": {
  "kernelspec": {
   "display_name": "Python 3",
   "language": "python",
   "name": "python3"
  },
  "language_info": {
   "codemirror_mode": {
    "name": "ipython",
    "version": 3
   },
   "file_extension": ".py",
   "mimetype": "text/x-python",
   "name": "python",
   "nbconvert_exporter": "python",
   "pygments_lexer": "ipython3",
   "version": "3.8.3"
  }
 },
 "nbformat": 4,
 "nbformat_minor": 4
}
